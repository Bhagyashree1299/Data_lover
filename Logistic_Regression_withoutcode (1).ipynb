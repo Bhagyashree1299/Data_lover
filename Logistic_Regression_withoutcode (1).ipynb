{
  "cells": [
    {
      "cell_type": "code",
      "execution_count": null,
      "metadata": {
        "id": "h2dF4li21H23"
      },
      "outputs": [],
      "source": [
        "import pandas as pd\n",
        "import numpy as np\n",
        "import seaborn as sns\n",
        "import matplotlib.pyplot as plt\n",
        "\n"
      ]
    },
    {
      "cell_type": "code",
      "execution_count": null,
      "metadata": {
        "id": "ZGP1WPRC1H24"
      },
      "outputs": [],
      "source": [
        "# Importing all datasets\n",
        "churn_data =pd.read_csv('churn_data-1.csv') \n",
        "customer_data = pd.read_csv('customer_data-1.csv') \n",
        "internet_data = pd.read_csv('internet_data-1.csv') "
      ]
    },
    {
      "cell_type": "code",
      "execution_count": null,
      "metadata": {
        "id": "KYHnX0M11H25"
      },
      "outputs": [],
      "source": [
        "#Merging churn_data and customer_data on 'customerID' using inner join on customerID\n",
        "df_1 =pd.merge(churn_data,customer_data,how='inner',on='customerID')\n"
      ]
    },
    {
      "cell_type": "code",
      "execution_count": null,
      "metadata": {
        "id": "J5BDtcd_1H25"
      },
      "outputs": [],
      "source": [
        "#Final dataframe with all predictor variables (merging df_1 and internet_data on 'customerID')\n",
        "telecom =pd.merge(df_1,internet_data,how='inner',on='customerID')\n",
        "\n"
      ]
    },
    {
      "cell_type": "code",
      "execution_count": null,
      "metadata": {
        "id": "C_hwZXFl1H27",
        "outputId": "a5518ee6-0335-4bdb-8999-09b702c6380e",
        "colab": {
          "base_uri": "https://localhost:8080/",
          "height": 386
        }
      },
      "outputs": [
        {
          "output_type": "execute_result",
          "data": {
            "text/plain": [
              "   customerID  tenure PhoneService        Contract PaperlessBilling  \\\n",
              "0  7590-VHVEG       1           No  Month-to-month              Yes   \n",
              "1  5575-GNVDE      34          Yes        One year               No   \n",
              "2  3668-QPYBK       2          Yes  Month-to-month              Yes   \n",
              "3  7795-CFOCW      45           No        One year               No   \n",
              "4  9237-HQITU       2          Yes  Month-to-month              Yes   \n",
              "\n",
              "               PaymentMethod  MonthlyCharges TotalCharges Churn  gender  ...  \\\n",
              "0           Electronic check           29.85        29.85    No  Female  ...   \n",
              "1               Mailed check           56.95       1889.5    No    Male  ...   \n",
              "2               Mailed check           53.85       108.15   Yes    Male  ...   \n",
              "3  Bank transfer (automatic)           42.30      1840.75    No    Male  ...   \n",
              "4           Electronic check           70.70       151.65   Yes  Female  ...   \n",
              "\n",
              "   Partner Dependents     MultipleLines InternetService OnlineSecurity  \\\n",
              "0      Yes         No  No phone service             DSL             No   \n",
              "1       No         No                No             DSL            Yes   \n",
              "2       No         No                No             DSL            Yes   \n",
              "3       No         No  No phone service             DSL            Yes   \n",
              "4       No         No                No     Fiber optic             No   \n",
              "\n",
              "  OnlineBackup DeviceProtection TechSupport StreamingTV StreamingMovies  \n",
              "0          Yes               No          No          No              No  \n",
              "1           No              Yes          No          No              No  \n",
              "2          Yes               No          No          No              No  \n",
              "3           No              Yes         Yes          No              No  \n",
              "4           No               No          No          No              No  \n",
              "\n",
              "[5 rows x 21 columns]"
            ],
            "text/html": [
              "\n",
              "  <div id=\"df-7b1bef7f-b9d2-4290-a6cd-6a8fa0bc7636\">\n",
              "    <div class=\"colab-df-container\">\n",
              "      <div>\n",
              "<style scoped>\n",
              "    .dataframe tbody tr th:only-of-type {\n",
              "        vertical-align: middle;\n",
              "    }\n",
              "\n",
              "    .dataframe tbody tr th {\n",
              "        vertical-align: top;\n",
              "    }\n",
              "\n",
              "    .dataframe thead th {\n",
              "        text-align: right;\n",
              "    }\n",
              "</style>\n",
              "<table border=\"1\" class=\"dataframe\">\n",
              "  <thead>\n",
              "    <tr style=\"text-align: right;\">\n",
              "      <th></th>\n",
              "      <th>customerID</th>\n",
              "      <th>tenure</th>\n",
              "      <th>PhoneService</th>\n",
              "      <th>Contract</th>\n",
              "      <th>PaperlessBilling</th>\n",
              "      <th>PaymentMethod</th>\n",
              "      <th>MonthlyCharges</th>\n",
              "      <th>TotalCharges</th>\n",
              "      <th>Churn</th>\n",
              "      <th>gender</th>\n",
              "      <th>...</th>\n",
              "      <th>Partner</th>\n",
              "      <th>Dependents</th>\n",
              "      <th>MultipleLines</th>\n",
              "      <th>InternetService</th>\n",
              "      <th>OnlineSecurity</th>\n",
              "      <th>OnlineBackup</th>\n",
              "      <th>DeviceProtection</th>\n",
              "      <th>TechSupport</th>\n",
              "      <th>StreamingTV</th>\n",
              "      <th>StreamingMovies</th>\n",
              "    </tr>\n",
              "  </thead>\n",
              "  <tbody>\n",
              "    <tr>\n",
              "      <th>0</th>\n",
              "      <td>7590-VHVEG</td>\n",
              "      <td>1</td>\n",
              "      <td>No</td>\n",
              "      <td>Month-to-month</td>\n",
              "      <td>Yes</td>\n",
              "      <td>Electronic check</td>\n",
              "      <td>29.85</td>\n",
              "      <td>29.85</td>\n",
              "      <td>No</td>\n",
              "      <td>Female</td>\n",
              "      <td>...</td>\n",
              "      <td>Yes</td>\n",
              "      <td>No</td>\n",
              "      <td>No phone service</td>\n",
              "      <td>DSL</td>\n",
              "      <td>No</td>\n",
              "      <td>Yes</td>\n",
              "      <td>No</td>\n",
              "      <td>No</td>\n",
              "      <td>No</td>\n",
              "      <td>No</td>\n",
              "    </tr>\n",
              "    <tr>\n",
              "      <th>1</th>\n",
              "      <td>5575-GNVDE</td>\n",
              "      <td>34</td>\n",
              "      <td>Yes</td>\n",
              "      <td>One year</td>\n",
              "      <td>No</td>\n",
              "      <td>Mailed check</td>\n",
              "      <td>56.95</td>\n",
              "      <td>1889.5</td>\n",
              "      <td>No</td>\n",
              "      <td>Male</td>\n",
              "      <td>...</td>\n",
              "      <td>No</td>\n",
              "      <td>No</td>\n",
              "      <td>No</td>\n",
              "      <td>DSL</td>\n",
              "      <td>Yes</td>\n",
              "      <td>No</td>\n",
              "      <td>Yes</td>\n",
              "      <td>No</td>\n",
              "      <td>No</td>\n",
              "      <td>No</td>\n",
              "    </tr>\n",
              "    <tr>\n",
              "      <th>2</th>\n",
              "      <td>3668-QPYBK</td>\n",
              "      <td>2</td>\n",
              "      <td>Yes</td>\n",
              "      <td>Month-to-month</td>\n",
              "      <td>Yes</td>\n",
              "      <td>Mailed check</td>\n",
              "      <td>53.85</td>\n",
              "      <td>108.15</td>\n",
              "      <td>Yes</td>\n",
              "      <td>Male</td>\n",
              "      <td>...</td>\n",
              "      <td>No</td>\n",
              "      <td>No</td>\n",
              "      <td>No</td>\n",
              "      <td>DSL</td>\n",
              "      <td>Yes</td>\n",
              "      <td>Yes</td>\n",
              "      <td>No</td>\n",
              "      <td>No</td>\n",
              "      <td>No</td>\n",
              "      <td>No</td>\n",
              "    </tr>\n",
              "    <tr>\n",
              "      <th>3</th>\n",
              "      <td>7795-CFOCW</td>\n",
              "      <td>45</td>\n",
              "      <td>No</td>\n",
              "      <td>One year</td>\n",
              "      <td>No</td>\n",
              "      <td>Bank transfer (automatic)</td>\n",
              "      <td>42.30</td>\n",
              "      <td>1840.75</td>\n",
              "      <td>No</td>\n",
              "      <td>Male</td>\n",
              "      <td>...</td>\n",
              "      <td>No</td>\n",
              "      <td>No</td>\n",
              "      <td>No phone service</td>\n",
              "      <td>DSL</td>\n",
              "      <td>Yes</td>\n",
              "      <td>No</td>\n",
              "      <td>Yes</td>\n",
              "      <td>Yes</td>\n",
              "      <td>No</td>\n",
              "      <td>No</td>\n",
              "    </tr>\n",
              "    <tr>\n",
              "      <th>4</th>\n",
              "      <td>9237-HQITU</td>\n",
              "      <td>2</td>\n",
              "      <td>Yes</td>\n",
              "      <td>Month-to-month</td>\n",
              "      <td>Yes</td>\n",
              "      <td>Electronic check</td>\n",
              "      <td>70.70</td>\n",
              "      <td>151.65</td>\n",
              "      <td>Yes</td>\n",
              "      <td>Female</td>\n",
              "      <td>...</td>\n",
              "      <td>No</td>\n",
              "      <td>No</td>\n",
              "      <td>No</td>\n",
              "      <td>Fiber optic</td>\n",
              "      <td>No</td>\n",
              "      <td>No</td>\n",
              "      <td>No</td>\n",
              "      <td>No</td>\n",
              "      <td>No</td>\n",
              "      <td>No</td>\n",
              "    </tr>\n",
              "  </tbody>\n",
              "</table>\n",
              "<p>5 rows × 21 columns</p>\n",
              "</div>\n",
              "      <button class=\"colab-df-convert\" onclick=\"convertToInteractive('df-7b1bef7f-b9d2-4290-a6cd-6a8fa0bc7636')\"\n",
              "              title=\"Convert this dataframe to an interactive table.\"\n",
              "              style=\"display:none;\">\n",
              "        \n",
              "  <svg xmlns=\"http://www.w3.org/2000/svg\" height=\"24px\"viewBox=\"0 0 24 24\"\n",
              "       width=\"24px\">\n",
              "    <path d=\"M0 0h24v24H0V0z\" fill=\"none\"/>\n",
              "    <path d=\"M18.56 5.44l.94 2.06.94-2.06 2.06-.94-2.06-.94-.94-2.06-.94 2.06-2.06.94zm-11 1L8.5 8.5l.94-2.06 2.06-.94-2.06-.94L8.5 2.5l-.94 2.06-2.06.94zm10 10l.94 2.06.94-2.06 2.06-.94-2.06-.94-.94-2.06-.94 2.06-2.06.94z\"/><path d=\"M17.41 7.96l-1.37-1.37c-.4-.4-.92-.59-1.43-.59-.52 0-1.04.2-1.43.59L10.3 9.45l-7.72 7.72c-.78.78-.78 2.05 0 2.83L4 21.41c.39.39.9.59 1.41.59.51 0 1.02-.2 1.41-.59l7.78-7.78 2.81-2.81c.8-.78.8-2.07 0-2.86zM5.41 20L4 18.59l7.72-7.72 1.47 1.35L5.41 20z\"/>\n",
              "  </svg>\n",
              "      </button>\n",
              "      \n",
              "  <style>\n",
              "    .colab-df-container {\n",
              "      display:flex;\n",
              "      flex-wrap:wrap;\n",
              "      gap: 12px;\n",
              "    }\n",
              "\n",
              "    .colab-df-convert {\n",
              "      background-color: #E8F0FE;\n",
              "      border: none;\n",
              "      border-radius: 50%;\n",
              "      cursor: pointer;\n",
              "      display: none;\n",
              "      fill: #1967D2;\n",
              "      height: 32px;\n",
              "      padding: 0 0 0 0;\n",
              "      width: 32px;\n",
              "    }\n",
              "\n",
              "    .colab-df-convert:hover {\n",
              "      background-color: #E2EBFA;\n",
              "      box-shadow: 0px 1px 2px rgba(60, 64, 67, 0.3), 0px 1px 3px 1px rgba(60, 64, 67, 0.15);\n",
              "      fill: #174EA6;\n",
              "    }\n",
              "\n",
              "    [theme=dark] .colab-df-convert {\n",
              "      background-color: #3B4455;\n",
              "      fill: #D2E3FC;\n",
              "    }\n",
              "\n",
              "    [theme=dark] .colab-df-convert:hover {\n",
              "      background-color: #434B5C;\n",
              "      box-shadow: 0px 1px 3px 1px rgba(0, 0, 0, 0.15);\n",
              "      filter: drop-shadow(0px 1px 2px rgba(0, 0, 0, 0.3));\n",
              "      fill: #FFFFFF;\n",
              "    }\n",
              "  </style>\n",
              "\n",
              "      <script>\n",
              "        const buttonEl =\n",
              "          document.querySelector('#df-7b1bef7f-b9d2-4290-a6cd-6a8fa0bc7636 button.colab-df-convert');\n",
              "        buttonEl.style.display =\n",
              "          google.colab.kernel.accessAllowed ? 'block' : 'none';\n",
              "\n",
              "        async function convertToInteractive(key) {\n",
              "          const element = document.querySelector('#df-7b1bef7f-b9d2-4290-a6cd-6a8fa0bc7636');\n",
              "          const dataTable =\n",
              "            await google.colab.kernel.invokeFunction('convertToInteractive',\n",
              "                                                     [key], {});\n",
              "          if (!dataTable) return;\n",
              "\n",
              "          const docLinkHtml = 'Like what you see? Visit the ' +\n",
              "            '<a target=\"_blank\" href=https://colab.research.google.com/notebooks/data_table.ipynb>data table notebook</a>'\n",
              "            + ' to learn more about interactive tables.';\n",
              "          element.innerHTML = '';\n",
              "          dataTable['output_type'] = 'display_data';\n",
              "          await google.colab.output.renderOutput(dataTable, element);\n",
              "          const docLink = document.createElement('div');\n",
              "          docLink.innerHTML = docLinkHtml;\n",
              "          element.appendChild(docLink);\n",
              "        }\n",
              "      </script>\n",
              "    </div>\n",
              "  </div>\n",
              "  "
            ]
          },
          "metadata": {},
          "execution_count": 8
        }
      ],
      "source": [
        "# Let's see the head of our master dataset\n",
        "telecom.head()\n"
      ]
    },
    {
      "cell_type": "code",
      "execution_count": null,
      "metadata": {
        "id": "4bC_eHNp1H28",
        "outputId": "cc5d6131-54a0-4d5b-b099-59fe04ae090b",
        "colab": {
          "base_uri": "https://localhost:8080/",
          "height": 300
        }
      },
      "outputs": [
        {
          "output_type": "execute_result",
          "data": {
            "text/plain": [
              "            tenure  MonthlyCharges  SeniorCitizen\n",
              "count  7043.000000     7043.000000    7043.000000\n",
              "mean     32.371149       64.761692       0.162147\n",
              "std      24.559481       30.090047       0.368612\n",
              "min       0.000000       18.250000       0.000000\n",
              "25%       9.000000       35.500000       0.000000\n",
              "50%      29.000000       70.350000       0.000000\n",
              "75%      55.000000       89.850000       0.000000\n",
              "max      72.000000      118.750000       1.000000"
            ],
            "text/html": [
              "\n",
              "  <div id=\"df-f21fc582-fe50-4631-8a6b-4c60c7f27a5e\">\n",
              "    <div class=\"colab-df-container\">\n",
              "      <div>\n",
              "<style scoped>\n",
              "    .dataframe tbody tr th:only-of-type {\n",
              "        vertical-align: middle;\n",
              "    }\n",
              "\n",
              "    .dataframe tbody tr th {\n",
              "        vertical-align: top;\n",
              "    }\n",
              "\n",
              "    .dataframe thead th {\n",
              "        text-align: right;\n",
              "    }\n",
              "</style>\n",
              "<table border=\"1\" class=\"dataframe\">\n",
              "  <thead>\n",
              "    <tr style=\"text-align: right;\">\n",
              "      <th></th>\n",
              "      <th>tenure</th>\n",
              "      <th>MonthlyCharges</th>\n",
              "      <th>SeniorCitizen</th>\n",
              "    </tr>\n",
              "  </thead>\n",
              "  <tbody>\n",
              "    <tr>\n",
              "      <th>count</th>\n",
              "      <td>7043.000000</td>\n",
              "      <td>7043.000000</td>\n",
              "      <td>7043.000000</td>\n",
              "    </tr>\n",
              "    <tr>\n",
              "      <th>mean</th>\n",
              "      <td>32.371149</td>\n",
              "      <td>64.761692</td>\n",
              "      <td>0.162147</td>\n",
              "    </tr>\n",
              "    <tr>\n",
              "      <th>std</th>\n",
              "      <td>24.559481</td>\n",
              "      <td>30.090047</td>\n",
              "      <td>0.368612</td>\n",
              "    </tr>\n",
              "    <tr>\n",
              "      <th>min</th>\n",
              "      <td>0.000000</td>\n",
              "      <td>18.250000</td>\n",
              "      <td>0.000000</td>\n",
              "    </tr>\n",
              "    <tr>\n",
              "      <th>25%</th>\n",
              "      <td>9.000000</td>\n",
              "      <td>35.500000</td>\n",
              "      <td>0.000000</td>\n",
              "    </tr>\n",
              "    <tr>\n",
              "      <th>50%</th>\n",
              "      <td>29.000000</td>\n",
              "      <td>70.350000</td>\n",
              "      <td>0.000000</td>\n",
              "    </tr>\n",
              "    <tr>\n",
              "      <th>75%</th>\n",
              "      <td>55.000000</td>\n",
              "      <td>89.850000</td>\n",
              "      <td>0.000000</td>\n",
              "    </tr>\n",
              "    <tr>\n",
              "      <th>max</th>\n",
              "      <td>72.000000</td>\n",
              "      <td>118.750000</td>\n",
              "      <td>1.000000</td>\n",
              "    </tr>\n",
              "  </tbody>\n",
              "</table>\n",
              "</div>\n",
              "      <button class=\"colab-df-convert\" onclick=\"convertToInteractive('df-f21fc582-fe50-4631-8a6b-4c60c7f27a5e')\"\n",
              "              title=\"Convert this dataframe to an interactive table.\"\n",
              "              style=\"display:none;\">\n",
              "        \n",
              "  <svg xmlns=\"http://www.w3.org/2000/svg\" height=\"24px\"viewBox=\"0 0 24 24\"\n",
              "       width=\"24px\">\n",
              "    <path d=\"M0 0h24v24H0V0z\" fill=\"none\"/>\n",
              "    <path d=\"M18.56 5.44l.94 2.06.94-2.06 2.06-.94-2.06-.94-.94-2.06-.94 2.06-2.06.94zm-11 1L8.5 8.5l.94-2.06 2.06-.94-2.06-.94L8.5 2.5l-.94 2.06-2.06.94zm10 10l.94 2.06.94-2.06 2.06-.94-2.06-.94-.94-2.06-.94 2.06-2.06.94z\"/><path d=\"M17.41 7.96l-1.37-1.37c-.4-.4-.92-.59-1.43-.59-.52 0-1.04.2-1.43.59L10.3 9.45l-7.72 7.72c-.78.78-.78 2.05 0 2.83L4 21.41c.39.39.9.59 1.41.59.51 0 1.02-.2 1.41-.59l7.78-7.78 2.81-2.81c.8-.78.8-2.07 0-2.86zM5.41 20L4 18.59l7.72-7.72 1.47 1.35L5.41 20z\"/>\n",
              "  </svg>\n",
              "      </button>\n",
              "      \n",
              "  <style>\n",
              "    .colab-df-container {\n",
              "      display:flex;\n",
              "      flex-wrap:wrap;\n",
              "      gap: 12px;\n",
              "    }\n",
              "\n",
              "    .colab-df-convert {\n",
              "      background-color: #E8F0FE;\n",
              "      border: none;\n",
              "      border-radius: 50%;\n",
              "      cursor: pointer;\n",
              "      display: none;\n",
              "      fill: #1967D2;\n",
              "      height: 32px;\n",
              "      padding: 0 0 0 0;\n",
              "      width: 32px;\n",
              "    }\n",
              "\n",
              "    .colab-df-convert:hover {\n",
              "      background-color: #E2EBFA;\n",
              "      box-shadow: 0px 1px 2px rgba(60, 64, 67, 0.3), 0px 1px 3px 1px rgba(60, 64, 67, 0.15);\n",
              "      fill: #174EA6;\n",
              "    }\n",
              "\n",
              "    [theme=dark] .colab-df-convert {\n",
              "      background-color: #3B4455;\n",
              "      fill: #D2E3FC;\n",
              "    }\n",
              "\n",
              "    [theme=dark] .colab-df-convert:hover {\n",
              "      background-color: #434B5C;\n",
              "      box-shadow: 0px 1px 3px 1px rgba(0, 0, 0, 0.15);\n",
              "      filter: drop-shadow(0px 1px 2px rgba(0, 0, 0, 0.3));\n",
              "      fill: #FFFFFF;\n",
              "    }\n",
              "  </style>\n",
              "\n",
              "      <script>\n",
              "        const buttonEl =\n",
              "          document.querySelector('#df-f21fc582-fe50-4631-8a6b-4c60c7f27a5e button.colab-df-convert');\n",
              "        buttonEl.style.display =\n",
              "          google.colab.kernel.accessAllowed ? 'block' : 'none';\n",
              "\n",
              "        async function convertToInteractive(key) {\n",
              "          const element = document.querySelector('#df-f21fc582-fe50-4631-8a6b-4c60c7f27a5e');\n",
              "          const dataTable =\n",
              "            await google.colab.kernel.invokeFunction('convertToInteractive',\n",
              "                                                     [key], {});\n",
              "          if (!dataTable) return;\n",
              "\n",
              "          const docLinkHtml = 'Like what you see? Visit the ' +\n",
              "            '<a target=\"_blank\" href=https://colab.research.google.com/notebooks/data_table.ipynb>data table notebook</a>'\n",
              "            + ' to learn more about interactive tables.';\n",
              "          element.innerHTML = '';\n",
              "          dataTable['output_type'] = 'display_data';\n",
              "          await google.colab.output.renderOutput(dataTable, element);\n",
              "          const docLink = document.createElement('div');\n",
              "          docLink.innerHTML = docLinkHtml;\n",
              "          element.appendChild(docLink);\n",
              "        }\n",
              "      </script>\n",
              "    </div>\n",
              "  </div>\n",
              "  "
            ]
          },
          "metadata": {},
          "execution_count": 9
        }
      ],
      "source": [
        "#Lets see statistical description for our master data\n",
        "telecom.describe()"
      ]
    },
    {
      "cell_type": "code",
      "execution_count": null,
      "metadata": {
        "id": "Jc_C7ypW1H29",
        "outputId": "72d739ad-6755-4e71-d17f-3f005a8ce55c",
        "colab": {
          "base_uri": "https://localhost:8080/"
        }
      },
      "outputs": [
        {
          "output_type": "execute_result",
          "data": {
            "text/plain": [
              "customerID           object\n",
              "tenure                int64\n",
              "PhoneService         object\n",
              "Contract             object\n",
              "PaperlessBilling     object\n",
              "PaymentMethod        object\n",
              "MonthlyCharges      float64\n",
              "TotalCharges         object\n",
              "Churn                object\n",
              "gender               object\n",
              "SeniorCitizen         int64\n",
              "Partner              object\n",
              "Dependents           object\n",
              "MultipleLines        object\n",
              "InternetService      object\n",
              "OnlineSecurity       object\n",
              "OnlineBackup         object\n",
              "DeviceProtection     object\n",
              "TechSupport          object\n",
              "StreamingTV          object\n",
              "StreamingMovies      object\n",
              "dtype: object"
            ]
          },
          "metadata": {},
          "execution_count": 10
        }
      ],
      "source": [
        "# Let's see the type of each column\n",
        "telecom.dtypes\n"
      ]
    },
    {
      "cell_type": "code",
      "execution_count": null,
      "metadata": {
        "id": "CUlS8zl81H2-"
      },
      "outputs": [],
      "source": [
        "# Converting Yes to 1 and No to 0 using map\n",
        "telecom['PhoneService'] =telecom['PhoneService'].map({'Yes':1,'No':0})\n",
        "\n",
        "telecom['PaperlessBilling'] = telecom['PaperlessBilling'].map({'Yes':1,'No':0})\n",
        "\n",
        "telecom['Churn'] = telecom['Churn'].map({'Yes':1,'No':0})\n",
        "\n",
        "telecom['Partner'] = telecom['Partner'].map({'Yes':1,'No':0})\n",
        "\n",
        "telecom['Dependents'] = telecom['Dependents'].map({'Yes':1,'No':0})\n"
      ]
    },
    {
      "cell_type": "code",
      "execution_count": null,
      "metadata": {
        "id": "KZ0vG2Fo1H2_",
        "colab": {
          "base_uri": "https://localhost:8080/"
        },
        "outputId": "4c76692c-44c8-451d-bdf0-0a6e4730ff32"
      },
      "outputs": [
        {
          "output_type": "stream",
          "name": "stderr",
          "text": [
            "/usr/local/lib/python3.7/dist-packages/ipykernel_launcher.py:29: FutureWarning: In a future version of pandas all arguments of DataFrame.drop except for the argument 'labels' will be keyword-only\n",
            "/usr/local/lib/python3.7/dist-packages/ipykernel_launcher.py:69: FutureWarning: In a future version of pandas all arguments of DataFrame.drop except for the argument 'labels' will be keyword-only\n"
          ]
        }
      ],
      "source": [
        "# Creating a dummy variable for the variable 'Contract' and keeping drop_first=True\n",
        "cont = pd.get_dummies(telecom['Contract'],prefix='Contract',drop_first=True)\n",
        "#cont = cont.drop(columns=cont.columns[0])\n",
        "\n",
        "#Adding the results to the master dataframe i.e telecom\n",
        "telecom = pd.concat([telecom,cont],axis=1)\n",
        "\n",
        "\n",
        "\n",
        "# Creating a dummy variable for the variable 'PaymentMethod' and keeping drop_first=True\n",
        "pm = pd.get_dummies(telecom['PaymentMethod'],prefix='PaymentMethod',drop_first=True)\n",
        "\n",
        "#Adding the results to the master dataframe\n",
        "telecom =pd.concat([telecom,pm],axis=1) \n",
        "\n",
        "\n",
        "# Creating a dummy variable for the variable 'gender' and keeping drop_first=True\n",
        "gen = pd.get_dummies(telecom['gender'],prefix='gender',drop_first=True)\n",
        "\n",
        "\n",
        "#Adding the results to the master dataframe\n",
        "telecom = pd.concat([telecom,gen],axis=1)\n",
        "\n",
        "\n",
        "# Creating a dummy variable for the variable 'MultipleLines' and keeping drop_first=True\n",
        "ml = pd.get_dummies(telecom['MultipleLines'],prefix='MultipleLines',drop_first=True)\n",
        "\n",
        "#  dropping MultipleLines_No phone service column\n",
        "ml1 = ml.drop(['MultipleLines_No phone service'],1) \n",
        "\n",
        "\n",
        "#Adding the results to the master dataframe\n",
        "telecom = pd.concat([telecom,ml1],axis=1)\n",
        "\n",
        "\n",
        "# Creating a dummy variable for the variable 'InternetService' and keeping drop_first=True\n",
        "iser = pd.get_dummies(telecom['InternetService'],prefix='InternetService',drop_first=True)\n",
        "\n",
        "#Adding the results to the master dataframe\n",
        "telecom = pd.concat([telecom,iser],axis=1)\n",
        "\n",
        "\n",
        "# Creating a dummy variable for the variable 'OnlineSecurity'.\n",
        "os = pd.get_dummies(telecom['OnlineSecurity'],prefix='OnlineSecurity',drop_first=True)\n",
        "\n",
        "#drop OnlineSecurity_No internet service column from os\n",
        "os1= os.drop(['OnlineSecurity_No internet service'],axis=1) \n",
        "\n",
        "#Adding os1 to the master dataframe\n",
        "telecom = pd.concat([telecom,os1],axis=1)\n",
        "\n",
        "\n",
        "\n",
        "# Creating a dummy variable for the variable 'OnlineBackup' and keeping drop_first=True\n",
        "ob =pd.get_dummies(telecom['OnlineBackup'],prefix='OnlineBackup',drop_first=True)\n",
        "\n",
        "\n",
        "#dropping OnlineBackup_No internet service from ob\n",
        "ob1 =ob.drop(['OnlineBackup_No internet service'],axis=1)\n",
        "\n",
        "#Adding the results(ob1) to the master dataframe\n",
        "telecom = pd.concat([telecom,ob1],axis=1)\n",
        "\n",
        "\n",
        "# Creating a dummy variable for the variable 'DeviceProtection' and keeping drop_first=True\n",
        "dp =pd.get_dummies(telecom['DeviceProtection'],prefix='DeviceProtection',drop_first=True)\n",
        "\n",
        "#dropping DeviceProtection_No internet service\n",
        "dp1 =dp.drop(['DeviceProtection_No internet service'],1)\n",
        "\n",
        "#Adding the results(dp1) to the master dataframe\n",
        "telecom = pd.concat([telecom,dp1],axis=1)\n",
        "\n",
        "\n",
        "\n",
        "# Creating a dummy variable for the variable 'TechSupport' and keeping drop_first=True\n",
        "ts =pd.get_dummies(telecom['TechSupport'],prefix='TechSupport',drop_first=True)\n",
        "\n",
        "#dropping TechSupport_No internet service from ts\n",
        "ts1 = ts.drop(['TechSupport_No internet service'] ,axis=1)\n",
        "\n",
        "\n",
        "#Adding the results(ts1) to the master dataframe\n",
        "telecom = pd.concat([telecom,ts1],axis=1)\n",
        "\n",
        "\n",
        "\n",
        "# Creating a dummy variable for the variable 'StreamingTV' and keeping drop_first=True\n",
        "st =pd.get_dummies(telecom['StreamingTV'],prefix='StreamingTV',drop_first=True)\n",
        "\n",
        "#dropping StreamingTV_No internet service from st\n",
        "st1 = st.drop(['StreamingTV_No internet service'],axis=1)\n",
        "\n",
        "\n",
        "#Adding the results(st1) to the master dataframe\n",
        "telecom = pd.concat([telecom,st1],axis=1)\n",
        "\n",
        "\n",
        "# Creating a dummy variable for the variable 'StreamingMovies' and keeping drop_first=True \n",
        "sm =pd.get_dummies(telecom['StreamingMovies'],prefix='StreamingMovies',drop_first=True)\n",
        "\n",
        "\n",
        "#dropping StreamingMovies_No internet service from sm\n",
        "sm1 = sm.drop(['StreamingMovies_No internet service'],axis=1)\n",
        "#Adding the results(sm1) to the master dataframe\n",
        "telecom = pd.concat([telecom,sm1],axis=1)"
      ]
    },
    {
      "cell_type": "code",
      "execution_count": null,
      "metadata": {
        "id": "TwpUTW_V1H3C",
        "colab": {
          "base_uri": "https://localhost:8080/"
        },
        "outputId": "e045fe29-2a72-40d1-eaeb-edf517459f4e"
      },
      "outputs": [
        {
          "output_type": "stream",
          "name": "stderr",
          "text": [
            "/usr/local/lib/python3.7/dist-packages/ipykernel_launcher.py:12: FutureWarning: In a future version of pandas all arguments of DataFrame.drop except for the argument 'labels' will be keyword-only\n",
            "  if sys.path[0] == '':\n"
          ]
        }
      ],
      "source": [
        "# drop all duplicate columns\n",
        "telecom =telecom.drop(['Contract',\n",
        "'PaymentMethod',\n",
        "'gender',\n",
        "'MultipleLines',\n",
        "'InternetService', \n",
        "'OnlineSecurity', \n",
        "'OnlineBackup', \n",
        "'DeviceProtection',\n",
        "'TechSupport', \n",
        "'StreamingTV', \n",
        "'StreamingMovies'],1) \n"
      ]
    },
    {
      "cell_type": "code",
      "execution_count": null,
      "metadata": {
        "id": "xxUdkcMG1H3E"
      },
      "outputs": [],
      "source": [
        "telecom['TotalCharges']=pd.to_numeric(telecom['TotalCharges'],errors='coerce') "
      ]
    },
    {
      "cell_type": "code",
      "execution_count": null,
      "metadata": {
        "id": "_j9fnmyO1H3E",
        "outputId": "9b6f606e-a4bb-4d6e-d99b-4018ea313e80",
        "colab": {
          "base_uri": "https://localhost:8080/"
        }
      },
      "outputs": [
        {
          "output_type": "execute_result",
          "data": {
            "text/plain": [
              "customerID                                object\n",
              "tenure                                     int64\n",
              "PhoneService                               int64\n",
              "PaperlessBilling                           int64\n",
              "MonthlyCharges                           float64\n",
              "TotalCharges                             float64\n",
              "Churn                                      int64\n",
              "SeniorCitizen                              int64\n",
              "Partner                                    int64\n",
              "Dependents                                 int64\n",
              "Contract_One year                          uint8\n",
              "Contract_Two year                          uint8\n",
              "PaymentMethod_Credit card (automatic)      uint8\n",
              "PaymentMethod_Electronic check             uint8\n",
              "PaymentMethod_Mailed check                 uint8\n",
              "gender_Male                                uint8\n",
              "MultipleLines_Yes                          uint8\n",
              "InternetService_Fiber optic                uint8\n",
              "InternetService_No                         uint8\n",
              "OnlineSecurity_Yes                         uint8\n",
              "OnlineBackup_Yes                           uint8\n",
              "DeviceProtection_Yes                       uint8\n",
              "TechSupport_Yes                            uint8\n",
              "StreamingTV_Yes                            uint8\n",
              "StreamingMovies_Yes                        uint8\n",
              "dtype: object"
            ]
          },
          "metadata": {},
          "execution_count": 15
        }
      ],
      "source": [
        "# again check data type informationof our master dataset\n",
        "telecom.dtypes\n"
      ]
    },
    {
      "cell_type": "markdown",
      "metadata": {
        "id": "zobN4dzW1H3F"
      },
      "source": [
        "Now we can see we have all variables as integer."
      ]
    },
    {
      "cell_type": "code",
      "execution_count": null,
      "metadata": {
        "id": "88nugxmR1H3F"
      },
      "outputs": [],
      "source": [
        "# Getting all continues variables in separate dataframe\n",
        "num_telecom = telecom[['MonthlyCharges','tenure','SeniorCitizen','TotalCharges']]\n"
      ]
    },
    {
      "cell_type": "code",
      "execution_count": null,
      "metadata": {
        "id": "_nTW7FmY1H3G",
        "outputId": "591cd39a-82aa-4753-a4af-3b2625db1af7",
        "colab": {
          "base_uri": "https://localhost:8080/",
          "height": 363
        }
      },
      "outputs": [
        {
          "output_type": "execute_result",
          "data": {
            "text/plain": [
              "       MonthlyCharges       tenure  SeniorCitizen  TotalCharges\n",
              "count     7043.000000  7043.000000    7043.000000   7032.000000\n",
              "mean        64.761692    32.371149       0.162147   2283.300441\n",
              "std         30.090047    24.559481       0.368612   2266.771362\n",
              "min         18.250000     0.000000       0.000000     18.800000\n",
              "25%         35.500000     9.000000       0.000000    401.450000\n",
              "50%         70.350000    29.000000       0.000000   1397.475000\n",
              "75%         89.850000    55.000000       0.000000   3794.737500\n",
              "90%        102.600000    69.000000       1.000000   5976.640000\n",
              "99%        114.729000    72.000000       1.000000   8039.883000\n",
              "max        118.750000    72.000000       1.000000   8684.800000"
            ],
            "text/html": [
              "\n",
              "  <div id=\"df-635ec945-ef69-446d-80ce-81d9338c82bf\">\n",
              "    <div class=\"colab-df-container\">\n",
              "      <div>\n",
              "<style scoped>\n",
              "    .dataframe tbody tr th:only-of-type {\n",
              "        vertical-align: middle;\n",
              "    }\n",
              "\n",
              "    .dataframe tbody tr th {\n",
              "        vertical-align: top;\n",
              "    }\n",
              "\n",
              "    .dataframe thead th {\n",
              "        text-align: right;\n",
              "    }\n",
              "</style>\n",
              "<table border=\"1\" class=\"dataframe\">\n",
              "  <thead>\n",
              "    <tr style=\"text-align: right;\">\n",
              "      <th></th>\n",
              "      <th>MonthlyCharges</th>\n",
              "      <th>tenure</th>\n",
              "      <th>SeniorCitizen</th>\n",
              "      <th>TotalCharges</th>\n",
              "    </tr>\n",
              "  </thead>\n",
              "  <tbody>\n",
              "    <tr>\n",
              "      <th>count</th>\n",
              "      <td>7043.000000</td>\n",
              "      <td>7043.000000</td>\n",
              "      <td>7043.000000</td>\n",
              "      <td>7032.000000</td>\n",
              "    </tr>\n",
              "    <tr>\n",
              "      <th>mean</th>\n",
              "      <td>64.761692</td>\n",
              "      <td>32.371149</td>\n",
              "      <td>0.162147</td>\n",
              "      <td>2283.300441</td>\n",
              "    </tr>\n",
              "    <tr>\n",
              "      <th>std</th>\n",
              "      <td>30.090047</td>\n",
              "      <td>24.559481</td>\n",
              "      <td>0.368612</td>\n",
              "      <td>2266.771362</td>\n",
              "    </tr>\n",
              "    <tr>\n",
              "      <th>min</th>\n",
              "      <td>18.250000</td>\n",
              "      <td>0.000000</td>\n",
              "      <td>0.000000</td>\n",
              "      <td>18.800000</td>\n",
              "    </tr>\n",
              "    <tr>\n",
              "      <th>25%</th>\n",
              "      <td>35.500000</td>\n",
              "      <td>9.000000</td>\n",
              "      <td>0.000000</td>\n",
              "      <td>401.450000</td>\n",
              "    </tr>\n",
              "    <tr>\n",
              "      <th>50%</th>\n",
              "      <td>70.350000</td>\n",
              "      <td>29.000000</td>\n",
              "      <td>0.000000</td>\n",
              "      <td>1397.475000</td>\n",
              "    </tr>\n",
              "    <tr>\n",
              "      <th>75%</th>\n",
              "      <td>89.850000</td>\n",
              "      <td>55.000000</td>\n",
              "      <td>0.000000</td>\n",
              "      <td>3794.737500</td>\n",
              "    </tr>\n",
              "    <tr>\n",
              "      <th>90%</th>\n",
              "      <td>102.600000</td>\n",
              "      <td>69.000000</td>\n",
              "      <td>1.000000</td>\n",
              "      <td>5976.640000</td>\n",
              "    </tr>\n",
              "    <tr>\n",
              "      <th>99%</th>\n",
              "      <td>114.729000</td>\n",
              "      <td>72.000000</td>\n",
              "      <td>1.000000</td>\n",
              "      <td>8039.883000</td>\n",
              "    </tr>\n",
              "    <tr>\n",
              "      <th>max</th>\n",
              "      <td>118.750000</td>\n",
              "      <td>72.000000</td>\n",
              "      <td>1.000000</td>\n",
              "      <td>8684.800000</td>\n",
              "    </tr>\n",
              "  </tbody>\n",
              "</table>\n",
              "</div>\n",
              "      <button class=\"colab-df-convert\" onclick=\"convertToInteractive('df-635ec945-ef69-446d-80ce-81d9338c82bf')\"\n",
              "              title=\"Convert this dataframe to an interactive table.\"\n",
              "              style=\"display:none;\">\n",
              "        \n",
              "  <svg xmlns=\"http://www.w3.org/2000/svg\" height=\"24px\"viewBox=\"0 0 24 24\"\n",
              "       width=\"24px\">\n",
              "    <path d=\"M0 0h24v24H0V0z\" fill=\"none\"/>\n",
              "    <path d=\"M18.56 5.44l.94 2.06.94-2.06 2.06-.94-2.06-.94-.94-2.06-.94 2.06-2.06.94zm-11 1L8.5 8.5l.94-2.06 2.06-.94-2.06-.94L8.5 2.5l-.94 2.06-2.06.94zm10 10l.94 2.06.94-2.06 2.06-.94-2.06-.94-.94-2.06-.94 2.06-2.06.94z\"/><path d=\"M17.41 7.96l-1.37-1.37c-.4-.4-.92-.59-1.43-.59-.52 0-1.04.2-1.43.59L10.3 9.45l-7.72 7.72c-.78.78-.78 2.05 0 2.83L4 21.41c.39.39.9.59 1.41.59.51 0 1.02-.2 1.41-.59l7.78-7.78 2.81-2.81c.8-.78.8-2.07 0-2.86zM5.41 20L4 18.59l7.72-7.72 1.47 1.35L5.41 20z\"/>\n",
              "  </svg>\n",
              "      </button>\n",
              "      \n",
              "  <style>\n",
              "    .colab-df-container {\n",
              "      display:flex;\n",
              "      flex-wrap:wrap;\n",
              "      gap: 12px;\n",
              "    }\n",
              "\n",
              "    .colab-df-convert {\n",
              "      background-color: #E8F0FE;\n",
              "      border: none;\n",
              "      border-radius: 50%;\n",
              "      cursor: pointer;\n",
              "      display: none;\n",
              "      fill: #1967D2;\n",
              "      height: 32px;\n",
              "      padding: 0 0 0 0;\n",
              "      width: 32px;\n",
              "    }\n",
              "\n",
              "    .colab-df-convert:hover {\n",
              "      background-color: #E2EBFA;\n",
              "      box-shadow: 0px 1px 2px rgba(60, 64, 67, 0.3), 0px 1px 3px 1px rgba(60, 64, 67, 0.15);\n",
              "      fill: #174EA6;\n",
              "    }\n",
              "\n",
              "    [theme=dark] .colab-df-convert {\n",
              "      background-color: #3B4455;\n",
              "      fill: #D2E3FC;\n",
              "    }\n",
              "\n",
              "    [theme=dark] .colab-df-convert:hover {\n",
              "      background-color: #434B5C;\n",
              "      box-shadow: 0px 1px 3px 1px rgba(0, 0, 0, 0.15);\n",
              "      filter: drop-shadow(0px 1px 2px rgba(0, 0, 0, 0.3));\n",
              "      fill: #FFFFFF;\n",
              "    }\n",
              "  </style>\n",
              "\n",
              "      <script>\n",
              "        const buttonEl =\n",
              "          document.querySelector('#df-635ec945-ef69-446d-80ce-81d9338c82bf button.colab-df-convert');\n",
              "        buttonEl.style.display =\n",
              "          google.colab.kernel.accessAllowed ? 'block' : 'none';\n",
              "\n",
              "        async function convertToInteractive(key) {\n",
              "          const element = document.querySelector('#df-635ec945-ef69-446d-80ce-81d9338c82bf');\n",
              "          const dataTable =\n",
              "            await google.colab.kernel.invokeFunction('convertToInteractive',\n",
              "                                                     [key], {});\n",
              "          if (!dataTable) return;\n",
              "\n",
              "          const docLinkHtml = 'Like what you see? Visit the ' +\n",
              "            '<a target=\"_blank\" href=https://colab.research.google.com/notebooks/data_table.ipynb>data table notebook</a>'\n",
              "            + ' to learn more about interactive tables.';\n",
              "          element.innerHTML = '';\n",
              "          dataTable['output_type'] = 'display_data';\n",
              "          await google.colab.output.renderOutput(dataTable, element);\n",
              "          const docLink = document.createElement('div');\n",
              "          docLink.innerHTML = docLinkHtml;\n",
              "          element.appendChild(docLink);\n",
              "        }\n",
              "      </script>\n",
              "    </div>\n",
              "  </div>\n",
              "  "
            ]
          },
          "metadata": {},
          "execution_count": 17
        }
      ],
      "source": [
        "# Checking outliers at 25%,50%,75%,90%,95% and 99%\n",
        "num_telecom.describe(percentiles=[.25,.5,.75,.90,.99])\n"
      ]
    },
    {
      "cell_type": "markdown",
      "metadata": {
        "id": "YdNiiA-b1H3G"
      },
      "source": [
        "From the distribution shown above, you can see that there no outliner in your data as the numbers are gradually increasing."
      ]
    },
    {
      "cell_type": "markdown",
      "metadata": {
        "id": "xFMBabi91H3H"
      },
      "source": [
        "### **`Checking for Missing Values and Inputing Them`**\n",
        "\n",
        "<p style='text-align: right;'> 5 points</p>\n"
      ]
    },
    {
      "cell_type": "code",
      "execution_count": null,
      "metadata": {
        "id": "QxR8EcTs1H3H",
        "outputId": "8b939b5b-c99a-46fb-ecd9-916c80e8b4fa",
        "colab": {
          "base_uri": "https://localhost:8080/"
        }
      },
      "outputs": [
        {
          "output_type": "execute_result",
          "data": {
            "text/plain": [
              "customerID                                0\n",
              "tenure                                    0\n",
              "PhoneService                              0\n",
              "PaperlessBilling                          0\n",
              "MonthlyCharges                            0\n",
              "TotalCharges                             11\n",
              "Churn                                     0\n",
              "SeniorCitizen                             0\n",
              "Partner                                   0\n",
              "Dependents                                0\n",
              "Contract_One year                         0\n",
              "Contract_Two year                         0\n",
              "PaymentMethod_Credit card (automatic)     0\n",
              "PaymentMethod_Electronic check            0\n",
              "PaymentMethod_Mailed check                0\n",
              "gender_Male                               0\n",
              "MultipleLines_Yes                         0\n",
              "InternetService_Fiber optic               0\n",
              "InternetService_No                        0\n",
              "OnlineSecurity_Yes                        0\n",
              "OnlineBackup_Yes                          0\n",
              "DeviceProtection_Yes                      0\n",
              "TechSupport_Yes                           0\n",
              "StreamingTV_Yes                           0\n",
              "StreamingMovies_Yes                       0\n",
              "dtype: int64"
            ]
          },
          "metadata": {},
          "execution_count": 18
        }
      ],
      "source": [
        "# Checking total missing values (column-wise)\n",
        "telecom.isnull().sum()\n"
      ]
    },
    {
      "cell_type": "code",
      "source": [
        "telecom.columns"
      ],
      "metadata": {
        "colab": {
          "base_uri": "https://localhost:8080/"
        },
        "id": "_YlkUVxouPCY",
        "outputId": "323f4bbc-3c50-4332-ed7d-6c3965ccf987"
      },
      "execution_count": null,
      "outputs": [
        {
          "output_type": "execute_result",
          "data": {
            "text/plain": [
              "Index(['customerID', 'tenure', 'PhoneService', 'PaperlessBilling',\n",
              "       'MonthlyCharges', 'TotalCharges', 'Churn', 'SeniorCitizen', 'Partner',\n",
              "       'Dependents', 'Contract_One year', 'Contract_Two year',\n",
              "       'PaymentMethod_Credit card (automatic)',\n",
              "       'PaymentMethod_Electronic check', 'PaymentMethod_Mailed check',\n",
              "       'gender_Male', 'MultipleLines_Yes', 'InternetService_Fiber optic',\n",
              "       'InternetService_No', 'OnlineSecurity_Yes', 'OnlineBackup_Yes',\n",
              "       'DeviceProtection_Yes', 'TechSupport_Yes', 'StreamingTV_Yes',\n",
              "       'StreamingMovies_Yes'],\n",
              "      dtype='object')"
            ]
          },
          "metadata": {},
          "execution_count": 19
        }
      ]
    },
    {
      "cell_type": "code",
      "execution_count": null,
      "metadata": {
        "id": "9_e_fOrP1H3H",
        "outputId": "52385a6e-89d6-4082-e90c-a3c066c3bb39",
        "colab": {
          "base_uri": "https://localhost:8080/"
        }
      },
      "outputs": [
        {
          "output_type": "execute_result",
          "data": {
            "text/plain": [
              "customerID                               0.00\n",
              "tenure                                   0.00\n",
              "PhoneService                             0.00\n",
              "PaperlessBilling                         0.00\n",
              "MonthlyCharges                           0.00\n",
              "TotalCharges                             0.16\n",
              "Churn                                    0.00\n",
              "SeniorCitizen                            0.00\n",
              "Partner                                  0.00\n",
              "Dependents                               0.00\n",
              "Contract_One year                        0.00\n",
              "Contract_Two year                        0.00\n",
              "PaymentMethod_Credit card (automatic)    0.00\n",
              "PaymentMethod_Electronic check           0.00\n",
              "PaymentMethod_Mailed check               0.00\n",
              "gender_Male                              0.00\n",
              "MultipleLines_Yes                        0.00\n",
              "InternetService_Fiber optic              0.00\n",
              "InternetService_No                       0.00\n",
              "OnlineSecurity_Yes                       0.00\n",
              "OnlineBackup_Yes                         0.00\n",
              "DeviceProtection_Yes                     0.00\n",
              "TechSupport_Yes                          0.00\n",
              "StreamingTV_Yes                          0.00\n",
              "StreamingMovies_Yes                      0.00\n",
              "dtype: float64"
            ]
          },
          "metadata": {},
          "execution_count": 20
        }
      ],
      "source": [
        "# Checking the percentage of missing values\n",
        "\n",
        "round(100*(telecom.isnull().sum()/len(telecom.index)),2)"
      ]
    },
    {
      "cell_type": "markdown",
      "metadata": {
        "id": "y_CUot3u1H3I"
      },
      "source": [
        "It means that 11/7043 = 0.001561834 i.e 0.15%, the best option to get rid of these null values in this scenario is to remove these observations from the analysis"
      ]
    },
    {
      "cell_type": "code",
      "execution_count": null,
      "metadata": {
        "id": "bM9HxD0Z1H3I"
      },
      "outputs": [],
      "source": [
        "# Removing NaN form TotalCharges rows\n",
        "telecom = telecom[~np.isnan(telecom['TotalCharges'])]\n"
      ]
    },
    {
      "cell_type": "code",
      "execution_count": null,
      "metadata": {
        "id": "Oi1eA9vX1H3W"
      },
      "outputs": [],
      "source": [
        "# Getting all desired continues variables like 'tenure','MonthlyCharges' and 'TotalCharges' into one dataframe.\n",
        "df = telecom[['tenure','MonthlyCharges','TotalCharges']]\n"
      ]
    },
    {
      "cell_type": "code",
      "execution_count": null,
      "metadata": {
        "id": "cCoZkjrR1H3X"
      },
      "outputs": [],
      "source": [
        "# Standardising above continuous features\n",
        "\n",
        "std_df=(df-df.mean())/df.std()\n"
      ]
    },
    {
      "cell_type": "code",
      "execution_count": null,
      "metadata": {
        "id": "Y1ZYQWrz1H3X",
        "colab": {
          "base_uri": "https://localhost:8080/"
        },
        "outputId": "5171efb7-57f8-4771-f39b-72f5992ba673"
      },
      "outputs": [
        {
          "output_type": "stream",
          "name": "stderr",
          "text": [
            "/usr/local/lib/python3.7/dist-packages/ipykernel_launcher.py:2: FutureWarning: In a future version of pandas all arguments of DataFrame.drop except for the argument 'labels' will be keyword-only\n",
            "  \n"
          ]
        }
      ],
      "source": [
        "# Dropping 'tenure','MonthlyCharges' and 'TotalCharges' from telecom as we want to add the standardised fetaures \n",
        "telecom = telecom.drop(['tenure','MonthlyCharges','TotalCharges'],1)\n"
      ]
    },
    {
      "cell_type": "code",
      "execution_count": null,
      "metadata": {
        "id": "jKICUQv51H3Y"
      },
      "outputs": [],
      "source": [
        "# Add std_df into telecom\n",
        "telecom = pd.concat([telecom,std_df],axis=1)\n"
      ]
    },
    {
      "cell_type": "code",
      "execution_count": null,
      "metadata": {
        "id": "acKybHHP1H3Y",
        "outputId": "7ddb7a27-9746-4054-9032-c1bb49481dbe",
        "colab": {
          "base_uri": "https://localhost:8080/",
          "height": 386
        }
      },
      "outputs": [
        {
          "output_type": "execute_result",
          "data": {
            "text/plain": [
              "      customerID  PhoneService  PaperlessBilling  Churn  SeniorCitizen  \\\n",
              "7038  6840-RESVB             1                 1      0              0   \n",
              "7039  2234-XADUH             1                 1      0              0   \n",
              "7040  4801-JZAZL             0                 1      0              0   \n",
              "7041  8361-LTMKD             1                 1      1              1   \n",
              "7042  3186-AJIEK             1                 1      0              0   \n",
              "\n",
              "      Partner  Dependents  Contract_One year  Contract_Two year  \\\n",
              "7038        1           1                  1                  0   \n",
              "7039        1           1                  1                  0   \n",
              "7040        1           1                  0                  0   \n",
              "7041        1           0                  0                  0   \n",
              "7042        0           0                  0                  1   \n",
              "\n",
              "      PaymentMethod_Credit card (automatic)  ...  InternetService_No  \\\n",
              "7038                                      0  ...                   0   \n",
              "7039                                      1  ...                   0   \n",
              "7040                                      0  ...                   0   \n",
              "7041                                      0  ...                   0   \n",
              "7042                                      0  ...                   0   \n",
              "\n",
              "      OnlineSecurity_Yes  OnlineBackup_Yes  DeviceProtection_Yes  \\\n",
              "7038                   1                 0                     1   \n",
              "7039                   0                 1                     1   \n",
              "7040                   1                 0                     0   \n",
              "7041                   0                 0                     0   \n",
              "7042                   1                 0                     1   \n",
              "\n",
              "      TechSupport_Yes  StreamingTV_Yes  StreamingMovies_Yes    tenure  \\\n",
              "7038                1                1                    1 -0.343113   \n",
              "7039                0                1                    1  1.612459   \n",
              "7040                0                0                    0 -0.872746   \n",
              "7041                0                0                    0 -1.157934   \n",
              "7042                1                1                    1  1.368012   \n",
              "\n",
              "      MonthlyCharges  TotalCharges  \n",
              "7038        0.664821     -0.129171  \n",
              "7039        1.276402      2.240896  \n",
              "7040       -1.169921     -0.854453  \n",
              "7041        0.319145     -0.872033  \n",
              "7042        1.357835      2.012201  \n",
              "\n",
              "[5 rows x 25 columns]"
            ],
            "text/html": [
              "\n",
              "  <div id=\"df-30f15535-8348-4544-bb94-3e477270a358\">\n",
              "    <div class=\"colab-df-container\">\n",
              "      <div>\n",
              "<style scoped>\n",
              "    .dataframe tbody tr th:only-of-type {\n",
              "        vertical-align: middle;\n",
              "    }\n",
              "\n",
              "    .dataframe tbody tr th {\n",
              "        vertical-align: top;\n",
              "    }\n",
              "\n",
              "    .dataframe thead th {\n",
              "        text-align: right;\n",
              "    }\n",
              "</style>\n",
              "<table border=\"1\" class=\"dataframe\">\n",
              "  <thead>\n",
              "    <tr style=\"text-align: right;\">\n",
              "      <th></th>\n",
              "      <th>customerID</th>\n",
              "      <th>PhoneService</th>\n",
              "      <th>PaperlessBilling</th>\n",
              "      <th>Churn</th>\n",
              "      <th>SeniorCitizen</th>\n",
              "      <th>Partner</th>\n",
              "      <th>Dependents</th>\n",
              "      <th>Contract_One year</th>\n",
              "      <th>Contract_Two year</th>\n",
              "      <th>PaymentMethod_Credit card (automatic)</th>\n",
              "      <th>...</th>\n",
              "      <th>InternetService_No</th>\n",
              "      <th>OnlineSecurity_Yes</th>\n",
              "      <th>OnlineBackup_Yes</th>\n",
              "      <th>DeviceProtection_Yes</th>\n",
              "      <th>TechSupport_Yes</th>\n",
              "      <th>StreamingTV_Yes</th>\n",
              "      <th>StreamingMovies_Yes</th>\n",
              "      <th>tenure</th>\n",
              "      <th>MonthlyCharges</th>\n",
              "      <th>TotalCharges</th>\n",
              "    </tr>\n",
              "  </thead>\n",
              "  <tbody>\n",
              "    <tr>\n",
              "      <th>7038</th>\n",
              "      <td>6840-RESVB</td>\n",
              "      <td>1</td>\n",
              "      <td>1</td>\n",
              "      <td>0</td>\n",
              "      <td>0</td>\n",
              "      <td>1</td>\n",
              "      <td>1</td>\n",
              "      <td>1</td>\n",
              "      <td>0</td>\n",
              "      <td>0</td>\n",
              "      <td>...</td>\n",
              "      <td>0</td>\n",
              "      <td>1</td>\n",
              "      <td>0</td>\n",
              "      <td>1</td>\n",
              "      <td>1</td>\n",
              "      <td>1</td>\n",
              "      <td>1</td>\n",
              "      <td>-0.343113</td>\n",
              "      <td>0.664821</td>\n",
              "      <td>-0.129171</td>\n",
              "    </tr>\n",
              "    <tr>\n",
              "      <th>7039</th>\n",
              "      <td>2234-XADUH</td>\n",
              "      <td>1</td>\n",
              "      <td>1</td>\n",
              "      <td>0</td>\n",
              "      <td>0</td>\n",
              "      <td>1</td>\n",
              "      <td>1</td>\n",
              "      <td>1</td>\n",
              "      <td>0</td>\n",
              "      <td>1</td>\n",
              "      <td>...</td>\n",
              "      <td>0</td>\n",
              "      <td>0</td>\n",
              "      <td>1</td>\n",
              "      <td>1</td>\n",
              "      <td>0</td>\n",
              "      <td>1</td>\n",
              "      <td>1</td>\n",
              "      <td>1.612459</td>\n",
              "      <td>1.276402</td>\n",
              "      <td>2.240896</td>\n",
              "    </tr>\n",
              "    <tr>\n",
              "      <th>7040</th>\n",
              "      <td>4801-JZAZL</td>\n",
              "      <td>0</td>\n",
              "      <td>1</td>\n",
              "      <td>0</td>\n",
              "      <td>0</td>\n",
              "      <td>1</td>\n",
              "      <td>1</td>\n",
              "      <td>0</td>\n",
              "      <td>0</td>\n",
              "      <td>0</td>\n",
              "      <td>...</td>\n",
              "      <td>0</td>\n",
              "      <td>1</td>\n",
              "      <td>0</td>\n",
              "      <td>0</td>\n",
              "      <td>0</td>\n",
              "      <td>0</td>\n",
              "      <td>0</td>\n",
              "      <td>-0.872746</td>\n",
              "      <td>-1.169921</td>\n",
              "      <td>-0.854453</td>\n",
              "    </tr>\n",
              "    <tr>\n",
              "      <th>7041</th>\n",
              "      <td>8361-LTMKD</td>\n",
              "      <td>1</td>\n",
              "      <td>1</td>\n",
              "      <td>1</td>\n",
              "      <td>1</td>\n",
              "      <td>1</td>\n",
              "      <td>0</td>\n",
              "      <td>0</td>\n",
              "      <td>0</td>\n",
              "      <td>0</td>\n",
              "      <td>...</td>\n",
              "      <td>0</td>\n",
              "      <td>0</td>\n",
              "      <td>0</td>\n",
              "      <td>0</td>\n",
              "      <td>0</td>\n",
              "      <td>0</td>\n",
              "      <td>0</td>\n",
              "      <td>-1.157934</td>\n",
              "      <td>0.319145</td>\n",
              "      <td>-0.872033</td>\n",
              "    </tr>\n",
              "    <tr>\n",
              "      <th>7042</th>\n",
              "      <td>3186-AJIEK</td>\n",
              "      <td>1</td>\n",
              "      <td>1</td>\n",
              "      <td>0</td>\n",
              "      <td>0</td>\n",
              "      <td>0</td>\n",
              "      <td>0</td>\n",
              "      <td>0</td>\n",
              "      <td>1</td>\n",
              "      <td>0</td>\n",
              "      <td>...</td>\n",
              "      <td>0</td>\n",
              "      <td>1</td>\n",
              "      <td>0</td>\n",
              "      <td>1</td>\n",
              "      <td>1</td>\n",
              "      <td>1</td>\n",
              "      <td>1</td>\n",
              "      <td>1.368012</td>\n",
              "      <td>1.357835</td>\n",
              "      <td>2.012201</td>\n",
              "    </tr>\n",
              "  </tbody>\n",
              "</table>\n",
              "<p>5 rows × 25 columns</p>\n",
              "</div>\n",
              "      <button class=\"colab-df-convert\" onclick=\"convertToInteractive('df-30f15535-8348-4544-bb94-3e477270a358')\"\n",
              "              title=\"Convert this dataframe to an interactive table.\"\n",
              "              style=\"display:none;\">\n",
              "        \n",
              "  <svg xmlns=\"http://www.w3.org/2000/svg\" height=\"24px\"viewBox=\"0 0 24 24\"\n",
              "       width=\"24px\">\n",
              "    <path d=\"M0 0h24v24H0V0z\" fill=\"none\"/>\n",
              "    <path d=\"M18.56 5.44l.94 2.06.94-2.06 2.06-.94-2.06-.94-.94-2.06-.94 2.06-2.06.94zm-11 1L8.5 8.5l.94-2.06 2.06-.94-2.06-.94L8.5 2.5l-.94 2.06-2.06.94zm10 10l.94 2.06.94-2.06 2.06-.94-2.06-.94-.94-2.06-.94 2.06-2.06.94z\"/><path d=\"M17.41 7.96l-1.37-1.37c-.4-.4-.92-.59-1.43-.59-.52 0-1.04.2-1.43.59L10.3 9.45l-7.72 7.72c-.78.78-.78 2.05 0 2.83L4 21.41c.39.39.9.59 1.41.59.51 0 1.02-.2 1.41-.59l7.78-7.78 2.81-2.81c.8-.78.8-2.07 0-2.86zM5.41 20L4 18.59l7.72-7.72 1.47 1.35L5.41 20z\"/>\n",
              "  </svg>\n",
              "      </button>\n",
              "      \n",
              "  <style>\n",
              "    .colab-df-container {\n",
              "      display:flex;\n",
              "      flex-wrap:wrap;\n",
              "      gap: 12px;\n",
              "    }\n",
              "\n",
              "    .colab-df-convert {\n",
              "      background-color: #E8F0FE;\n",
              "      border: none;\n",
              "      border-radius: 50%;\n",
              "      cursor: pointer;\n",
              "      display: none;\n",
              "      fill: #1967D2;\n",
              "      height: 32px;\n",
              "      padding: 0 0 0 0;\n",
              "      width: 32px;\n",
              "    }\n",
              "\n",
              "    .colab-df-convert:hover {\n",
              "      background-color: #E2EBFA;\n",
              "      box-shadow: 0px 1px 2px rgba(60, 64, 67, 0.3), 0px 1px 3px 1px rgba(60, 64, 67, 0.15);\n",
              "      fill: #174EA6;\n",
              "    }\n",
              "\n",
              "    [theme=dark] .colab-df-convert {\n",
              "      background-color: #3B4455;\n",
              "      fill: #D2E3FC;\n",
              "    }\n",
              "\n",
              "    [theme=dark] .colab-df-convert:hover {\n",
              "      background-color: #434B5C;\n",
              "      box-shadow: 0px 1px 3px 1px rgba(0, 0, 0, 0.15);\n",
              "      filter: drop-shadow(0px 1px 2px rgba(0, 0, 0, 0.3));\n",
              "      fill: #FFFFFF;\n",
              "    }\n",
              "  </style>\n",
              "\n",
              "      <script>\n",
              "        const buttonEl =\n",
              "          document.querySelector('#df-30f15535-8348-4544-bb94-3e477270a358 button.colab-df-convert');\n",
              "        buttonEl.style.display =\n",
              "          google.colab.kernel.accessAllowed ? 'block' : 'none';\n",
              "\n",
              "        async function convertToInteractive(key) {\n",
              "          const element = document.querySelector('#df-30f15535-8348-4544-bb94-3e477270a358');\n",
              "          const dataTable =\n",
              "            await google.colab.kernel.invokeFunction('convertToInteractive',\n",
              "                                                     [key], {});\n",
              "          if (!dataTable) return;\n",
              "\n",
              "          const docLinkHtml = 'Like what you see? Visit the ' +\n",
              "            '<a target=\"_blank\" href=https://colab.research.google.com/notebooks/data_table.ipynb>data table notebook</a>'\n",
              "            + ' to learn more about interactive tables.';\n",
              "          element.innerHTML = '';\n",
              "          dataTable['output_type'] = 'display_data';\n",
              "          await google.colab.output.renderOutput(dataTable, element);\n",
              "          const docLink = document.createElement('div');\n",
              "          docLink.innerHTML = docLinkHtml;\n",
              "          element.appendChild(docLink);\n",
              "        }\n",
              "      </script>\n",
              "    </div>\n",
              "  </div>\n",
              "  "
            ]
          },
          "metadata": {},
          "execution_count": 29
        }
      ],
      "source": [
        "# print telecom tail\n",
        "telecom.tail()\n"
      ]
    },
    {
      "cell_type": "markdown",
      "metadata": {
        "id": "gnVBlgxe1H3Z"
      },
      "source": [
        "### **`Checking the Churn Rate`**\n",
        "\n",
        "<p style='text-align: right;'> 2 points</p>\n"
      ]
    },
    {
      "cell_type": "code",
      "execution_count": null,
      "metadata": {
        "id": "22ZbF7uR1H3Z"
      },
      "outputs": [],
      "source": [
        "#caluclating total churn percentage in our master dataframe\n",
        "churn = (sum(telecom['Churn'])/len(telecom['Churn'].index))*100\n"
      ]
    },
    {
      "cell_type": "code",
      "execution_count": null,
      "metadata": {
        "id": "_OTIzq7z1H3Z",
        "outputId": "dcd5e258-2382-4b9a-9904-e6594f061f91",
        "colab": {
          "base_uri": "https://localhost:8080/"
        }
      },
      "outputs": [
        {
          "output_type": "stream",
          "name": "stdout",
          "text": [
            "26.578498293515356\n"
          ]
        }
      ],
      "source": [
        "# print churn\n",
        "print(churn)\n"
      ]
    },
    {
      "cell_type": "markdown",
      "metadata": {
        "id": "pidpQ9eF1H3a"
      },
      "source": [
        "We have almost 27% churn rate"
      ]
    },
    {
      "cell_type": "code",
      "execution_count": null,
      "metadata": {
        "id": "HL2Tr-Yq1H3a",
        "colab": {
          "base_uri": "https://localhost:8080/"
        },
        "outputId": "476991ab-cfc5-4251-e43b-80ada3f146b0"
      },
      "outputs": [
        {
          "output_type": "stream",
          "name": "stderr",
          "text": [
            "/usr/local/lib/python3.7/dist-packages/ipykernel_launcher.py:2: FutureWarning: In a future version of pandas all arguments of DataFrame.drop except for the argument 'labels' will be keyword-only\n",
            "  \n"
          ]
        }
      ],
      "source": [
        "# Putting feature variable to X. drop 'customerID' from features as its not informative for our prediction\n",
        "X =telecom.drop(['Churn','customerID'],1)\n",
        "\n",
        "\n",
        "# Putting response variable to y\n",
        "y = telecom['Churn']\n"
      ]
    },
    {
      "cell_type": "code",
      "execution_count": null,
      "metadata": {
        "id": "GS23q7i61H3b",
        "outputId": "1c09acc6-231c-4f5a-f8c4-0f79710a6cac",
        "colab": {
          "base_uri": "https://localhost:8080/"
        }
      },
      "outputs": [
        {
          "output_type": "execute_result",
          "data": {
            "text/plain": [
              "0    0\n",
              "1    0\n",
              "2    1\n",
              "3    0\n",
              "4    1\n",
              "Name: Churn, dtype: int64"
            ]
          },
          "metadata": {},
          "execution_count": 33
        }
      ],
      "source": [
        "# print y head\n",
        "y.head()\n"
      ]
    },
    {
      "cell_type": "markdown",
      "metadata": {
        "id": "VH8SUUm81H3b"
      },
      "source": [
        "### **`Running Your First Training Model`**"
      ]
    },
    {
      "cell_type": "code",
      "execution_count": null,
      "metadata": {
        "id": "-zp-fMtU1H3b"
      },
      "outputs": [],
      "source": [
        "import statsmodels.api as sm\n",
        "\n"
      ]
    },
    {
      "cell_type": "markdown",
      "metadata": {
        "id": "ZWukvXe11H3c"
      },
      "source": [
        "Statsmodels provides a Logit() function for performing logistic regression. The Logit() function accepts y and X as parameters and returns the Logit object. The model is then fitted to the data.\n",
        "\n",
        "Reference:"
      ]
    },
    {
      "cell_type": "code",
      "execution_count": null,
      "metadata": {
        "id": "kpA1h2wG1H3c",
        "colab": {
          "base_uri": "https://localhost:8080/"
        },
        "outputId": "6ea3ac52-9c69-442d-98f9-0a5386811521"
      },
      "outputs": [
        {
          "output_type": "stream",
          "name": "stderr",
          "text": [
            "/usr/local/lib/python3.7/dist-packages/statsmodels/tsa/tsatools.py:142: FutureWarning: In a future version of pandas all arguments of concat except for the argument 'objs' will be keyword-only\n",
            "  x = pd.concat(x[::order], 1)\n"
          ]
        }
      ],
      "source": [
        "# adding constant to X\n",
        "X=sm.add_constant(X)\n",
        "from sklearn.model_selection import train_test_split\n",
        "# Splitting the data into train and test with train_size=0.7 and random_state=100\n",
        "X_train, X_test, y_train, y_test = train_test_split(X,y,train_size=0.7,test_size=0.3,random_state=100)\n",
        "\n"
      ]
    },
    {
      "cell_type": "code",
      "execution_count": null,
      "metadata": {
        "scrolled": false,
        "id": "QCZCppxA1H3d",
        "outputId": "116ddd64-b56a-4981-e143-79c6ab82f3f2",
        "colab": {
          "base_uri": "https://localhost:8080/",
          "height": 758
        }
      },
      "outputs": [
        {
          "output_type": "stream",
          "name": "stdout",
          "text": [
            "Optimization terminated successfully.\n",
            "         Current function value: 0.407291\n",
            "         Iterations 8\n"
          ]
        },
        {
          "output_type": "execute_result",
          "data": {
            "text/plain": [
              "<class 'statsmodels.iolib.summary.Summary'>\n",
              "\"\"\"\n",
              "                           Logit Regression Results                           \n",
              "==============================================================================\n",
              "Dep. Variable:                  Churn   No. Observations:                 4922\n",
              "Model:                          Logit   Df Residuals:                     4898\n",
              "Method:                           MLE   Df Model:                           23\n",
              "Date:                Thu, 13 Oct 2022   Pseudo R-squ.:                  0.2912\n",
              "Time:                        13:05:19   Log-Likelihood:                -2004.7\n",
              "converged:                       True   LL-Null:                       -2828.2\n",
              "Covariance Type:            nonrobust   LLR p-value:                     0.000\n",
              "=========================================================================================================\n",
              "                                            coef    std err          z      P>|z|      [0.025      0.975]\n",
              "---------------------------------------------------------------------------------------------------------\n",
              "const                                    -3.9338      1.545     -2.545      0.011      -6.963      -0.905\n",
              "PhoneService                              0.9507      0.789      1.205      0.228      -0.595       2.497\n",
              "PaperlessBilling                          0.3254      0.090      3.614      0.000       0.149       0.502\n",
              "SeniorCitizen                             0.3984      0.102      3.924      0.000       0.199       0.597\n",
              "Partner                                   0.0374      0.094      0.399      0.690      -0.146       0.221\n",
              "Dependents                               -0.1430      0.107     -1.332      0.183      -0.353       0.067\n",
              "Contract_One year                        -0.6578      0.129     -5.106      0.000      -0.910      -0.405\n",
              "Contract_Two year                        -1.2455      0.212     -5.874      0.000      -1.661      -0.830\n",
              "PaymentMethod_Credit card (automatic)    -0.2577      0.137     -1.883      0.060      -0.526       0.011\n",
              "PaymentMethod_Electronic check            0.1615      0.113      1.434      0.152      -0.059       0.382\n",
              "PaymentMethod_Mailed check               -0.2536      0.137     -1.845      0.065      -0.523       0.016\n",
              "gender_Male                              -0.0346      0.078     -0.442      0.658      -0.188       0.119\n",
              "MultipleLines_Yes                         0.5623      0.214      2.628      0.009       0.143       0.982\n",
              "InternetService_Fiber optic               2.5124      0.967      2.599      0.009       0.618       4.407\n",
              "InternetService_No                       -2.7792      0.982     -2.831      0.005      -4.703      -0.855\n",
              "OnlineSecurity_Yes                       -0.0245      0.216     -0.113      0.910      -0.448       0.399\n",
              "OnlineBackup_Yes                          0.1740      0.212      0.822      0.411      -0.241       0.589\n",
              "DeviceProtection_Yes                      0.3229      0.215      1.501      0.133      -0.099       0.744\n",
              "TechSupport_Yes                          -0.0305      0.216     -0.141      0.888      -0.455       0.394\n",
              "StreamingTV_Yes                           0.9598      0.396      2.423      0.015       0.183       1.736\n",
              "StreamingMovies_Yes                       0.8484      0.396      2.143      0.032       0.072       1.624\n",
              "tenure                                   -1.5198      0.190     -8.015      0.000      -1.891      -1.148\n",
              "MonthlyCharges                           -2.1817      1.160     -1.880      0.060      -4.456       0.092\n",
              "TotalCharges                              0.7329      0.198      3.705      0.000       0.345       1.121\n",
              "=========================================================================================================\n",
              "\"\"\""
            ],
            "text/html": [
              "<table class=\"simpletable\">\n",
              "<caption>Logit Regression Results</caption>\n",
              "<tr>\n",
              "  <th>Dep. Variable:</th>         <td>Churn</td>      <th>  No. Observations:  </th>  <td>  4922</td> \n",
              "</tr>\n",
              "<tr>\n",
              "  <th>Model:</th>                 <td>Logit</td>      <th>  Df Residuals:      </th>  <td>  4898</td> \n",
              "</tr>\n",
              "<tr>\n",
              "  <th>Method:</th>                 <td>MLE</td>       <th>  Df Model:          </th>  <td>    23</td> \n",
              "</tr>\n",
              "<tr>\n",
              "  <th>Date:</th>            <td>Thu, 13 Oct 2022</td> <th>  Pseudo R-squ.:     </th>  <td>0.2912</td> \n",
              "</tr>\n",
              "<tr>\n",
              "  <th>Time:</th>                <td>13:05:19</td>     <th>  Log-Likelihood:    </th> <td> -2004.7</td>\n",
              "</tr>\n",
              "<tr>\n",
              "  <th>converged:</th>             <td>True</td>       <th>  LL-Null:           </th> <td> -2828.2</td>\n",
              "</tr>\n",
              "<tr>\n",
              "  <th>Covariance Type:</th>     <td>nonrobust</td>    <th>  LLR p-value:       </th>  <td> 0.000</td> \n",
              "</tr>\n",
              "</table>\n",
              "<table class=\"simpletable\">\n",
              "<tr>\n",
              "                    <td></td>                       <th>coef</th>     <th>std err</th>      <th>z</th>      <th>P>|z|</th>  <th>[0.025</th>    <th>0.975]</th>  \n",
              "</tr>\n",
              "<tr>\n",
              "  <th>const</th>                                 <td>   -3.9338</td> <td>    1.545</td> <td>   -2.545</td> <td> 0.011</td> <td>   -6.963</td> <td>   -0.905</td>\n",
              "</tr>\n",
              "<tr>\n",
              "  <th>PhoneService</th>                          <td>    0.9507</td> <td>    0.789</td> <td>    1.205</td> <td> 0.228</td> <td>   -0.595</td> <td>    2.497</td>\n",
              "</tr>\n",
              "<tr>\n",
              "  <th>PaperlessBilling</th>                      <td>    0.3254</td> <td>    0.090</td> <td>    3.614</td> <td> 0.000</td> <td>    0.149</td> <td>    0.502</td>\n",
              "</tr>\n",
              "<tr>\n",
              "  <th>SeniorCitizen</th>                         <td>    0.3984</td> <td>    0.102</td> <td>    3.924</td> <td> 0.000</td> <td>    0.199</td> <td>    0.597</td>\n",
              "</tr>\n",
              "<tr>\n",
              "  <th>Partner</th>                               <td>    0.0374</td> <td>    0.094</td> <td>    0.399</td> <td> 0.690</td> <td>   -0.146</td> <td>    0.221</td>\n",
              "</tr>\n",
              "<tr>\n",
              "  <th>Dependents</th>                            <td>   -0.1430</td> <td>    0.107</td> <td>   -1.332</td> <td> 0.183</td> <td>   -0.353</td> <td>    0.067</td>\n",
              "</tr>\n",
              "<tr>\n",
              "  <th>Contract_One year</th>                     <td>   -0.6578</td> <td>    0.129</td> <td>   -5.106</td> <td> 0.000</td> <td>   -0.910</td> <td>   -0.405</td>\n",
              "</tr>\n",
              "<tr>\n",
              "  <th>Contract_Two year</th>                     <td>   -1.2455</td> <td>    0.212</td> <td>   -5.874</td> <td> 0.000</td> <td>   -1.661</td> <td>   -0.830</td>\n",
              "</tr>\n",
              "<tr>\n",
              "  <th>PaymentMethod_Credit card (automatic)</th> <td>   -0.2577</td> <td>    0.137</td> <td>   -1.883</td> <td> 0.060</td> <td>   -0.526</td> <td>    0.011</td>\n",
              "</tr>\n",
              "<tr>\n",
              "  <th>PaymentMethod_Electronic check</th>        <td>    0.1615</td> <td>    0.113</td> <td>    1.434</td> <td> 0.152</td> <td>   -0.059</td> <td>    0.382</td>\n",
              "</tr>\n",
              "<tr>\n",
              "  <th>PaymentMethod_Mailed check</th>            <td>   -0.2536</td> <td>    0.137</td> <td>   -1.845</td> <td> 0.065</td> <td>   -0.523</td> <td>    0.016</td>\n",
              "</tr>\n",
              "<tr>\n",
              "  <th>gender_Male</th>                           <td>   -0.0346</td> <td>    0.078</td> <td>   -0.442</td> <td> 0.658</td> <td>   -0.188</td> <td>    0.119</td>\n",
              "</tr>\n",
              "<tr>\n",
              "  <th>MultipleLines_Yes</th>                     <td>    0.5623</td> <td>    0.214</td> <td>    2.628</td> <td> 0.009</td> <td>    0.143</td> <td>    0.982</td>\n",
              "</tr>\n",
              "<tr>\n",
              "  <th>InternetService_Fiber optic</th>           <td>    2.5124</td> <td>    0.967</td> <td>    2.599</td> <td> 0.009</td> <td>    0.618</td> <td>    4.407</td>\n",
              "</tr>\n",
              "<tr>\n",
              "  <th>InternetService_No</th>                    <td>   -2.7792</td> <td>    0.982</td> <td>   -2.831</td> <td> 0.005</td> <td>   -4.703</td> <td>   -0.855</td>\n",
              "</tr>\n",
              "<tr>\n",
              "  <th>OnlineSecurity_Yes</th>                    <td>   -0.0245</td> <td>    0.216</td> <td>   -0.113</td> <td> 0.910</td> <td>   -0.448</td> <td>    0.399</td>\n",
              "</tr>\n",
              "<tr>\n",
              "  <th>OnlineBackup_Yes</th>                      <td>    0.1740</td> <td>    0.212</td> <td>    0.822</td> <td> 0.411</td> <td>   -0.241</td> <td>    0.589</td>\n",
              "</tr>\n",
              "<tr>\n",
              "  <th>DeviceProtection_Yes</th>                  <td>    0.3229</td> <td>    0.215</td> <td>    1.501</td> <td> 0.133</td> <td>   -0.099</td> <td>    0.744</td>\n",
              "</tr>\n",
              "<tr>\n",
              "  <th>TechSupport_Yes</th>                       <td>   -0.0305</td> <td>    0.216</td> <td>   -0.141</td> <td> 0.888</td> <td>   -0.455</td> <td>    0.394</td>\n",
              "</tr>\n",
              "<tr>\n",
              "  <th>StreamingTV_Yes</th>                       <td>    0.9598</td> <td>    0.396</td> <td>    2.423</td> <td> 0.015</td> <td>    0.183</td> <td>    1.736</td>\n",
              "</tr>\n",
              "<tr>\n",
              "  <th>StreamingMovies_Yes</th>                   <td>    0.8484</td> <td>    0.396</td> <td>    2.143</td> <td> 0.032</td> <td>    0.072</td> <td>    1.624</td>\n",
              "</tr>\n",
              "<tr>\n",
              "  <th>tenure</th>                                <td>   -1.5198</td> <td>    0.190</td> <td>   -8.015</td> <td> 0.000</td> <td>   -1.891</td> <td>   -1.148</td>\n",
              "</tr>\n",
              "<tr>\n",
              "  <th>MonthlyCharges</th>                        <td>   -2.1817</td> <td>    1.160</td> <td>   -1.880</td> <td> 0.060</td> <td>   -4.456</td> <td>    0.092</td>\n",
              "</tr>\n",
              "<tr>\n",
              "  <th>TotalCharges</th>                          <td>    0.7329</td> <td>    0.198</td> <td>    3.705</td> <td> 0.000</td> <td>    0.345</td> <td>    1.121</td>\n",
              "</tr>\n",
              "</table>"
            ]
          },
          "metadata": {},
          "execution_count": 39
        }
      ],
      "source": [
        "# Logistic regression model\n",
        "logm1 = sm.Logit(y_train,X_train)\n",
        "logm1.fit().summary()\n",
        "\n",
        "\n"
      ]
    },
    {
      "cell_type": "code",
      "execution_count": null,
      "metadata": {
        "id": "xj4XnLzp1H3e",
        "colab": {
          "base_uri": "https://localhost:8080/",
          "height": 338
        },
        "outputId": "73de5d5f-cea0-4fbb-d4ec-eac54c5fd0f6"
      },
      "outputs": [
        {
          "output_type": "error",
          "ename": "KeyError",
          "evalue": "ignored",
          "traceback": [
            "\u001b[0;31m---------------------------------------------------------------------------\u001b[0m",
            "\u001b[0;31mKeyError\u001b[0m                                  Traceback (most recent call last)",
            "\u001b[0;32m<ipython-input-40-0216c5e15b7d>\u001b[0m in \u001b[0;36m<module>\u001b[0;34m\u001b[0m\n\u001b[0;32m----> 1\u001b[0;31m \u001b[0mX\u001b[0m\u001b[0;34m.\u001b[0m\u001b[0mdrop\u001b[0m\u001b[0;34m(\u001b[0m\u001b[0;34m[\u001b[0m\u001b[0;34m'Partner'\u001b[0m\u001b[0;34m,\u001b[0m\u001b[0;34m'Dependents'\u001b[0m\u001b[0;34m,\u001b[0m\u001b[0;34m'PaymentMethod_Electronic check'\u001b[0m\u001b[0;34m,\u001b[0m\u001b[0;34m'gender_Male'\u001b[0m\u001b[0;34m,\u001b[0m\u001b[0;34m'InternetService_No'\u001b[0m\u001b[0;34m,\u001b[0m\u001b[0;34m'DeviceProtection_No'\u001b[0m\u001b[0;34m,\u001b[0m\u001b[0;34m'DeviceProtection_Yes'\u001b[0m\u001b[0;34m]\u001b[0m\u001b[0;34m,\u001b[0m\u001b[0maxis\u001b[0m\u001b[0;34m=\u001b[0m\u001b[0;36m1\u001b[0m\u001b[0;34m)\u001b[0m\u001b[0;34m\u001b[0m\u001b[0;34m\u001b[0m\u001b[0m\n\u001b[0m",
            "\u001b[0;32m/usr/local/lib/python3.7/dist-packages/pandas/util/_decorators.py\u001b[0m in \u001b[0;36mwrapper\u001b[0;34m(*args, **kwargs)\u001b[0m\n\u001b[1;32m    309\u001b[0m                     \u001b[0mstacklevel\u001b[0m\u001b[0;34m=\u001b[0m\u001b[0mstacklevel\u001b[0m\u001b[0;34m,\u001b[0m\u001b[0;34m\u001b[0m\u001b[0;34m\u001b[0m\u001b[0m\n\u001b[1;32m    310\u001b[0m                 )\n\u001b[0;32m--> 311\u001b[0;31m             \u001b[0;32mreturn\u001b[0m \u001b[0mfunc\u001b[0m\u001b[0;34m(\u001b[0m\u001b[0;34m*\u001b[0m\u001b[0margs\u001b[0m\u001b[0;34m,\u001b[0m \u001b[0;34m**\u001b[0m\u001b[0mkwargs\u001b[0m\u001b[0;34m)\u001b[0m\u001b[0;34m\u001b[0m\u001b[0;34m\u001b[0m\u001b[0m\n\u001b[0m\u001b[1;32m    312\u001b[0m \u001b[0;34m\u001b[0m\u001b[0m\n\u001b[1;32m    313\u001b[0m         \u001b[0;32mreturn\u001b[0m \u001b[0mwrapper\u001b[0m\u001b[0;34m\u001b[0m\u001b[0;34m\u001b[0m\u001b[0m\n",
            "\u001b[0;32m/usr/local/lib/python3.7/dist-packages/pandas/core/frame.py\u001b[0m in \u001b[0;36mdrop\u001b[0;34m(self, labels, axis, index, columns, level, inplace, errors)\u001b[0m\n\u001b[1;32m   4911\u001b[0m             \u001b[0mlevel\u001b[0m\u001b[0;34m=\u001b[0m\u001b[0mlevel\u001b[0m\u001b[0;34m,\u001b[0m\u001b[0;34m\u001b[0m\u001b[0;34m\u001b[0m\u001b[0m\n\u001b[1;32m   4912\u001b[0m             \u001b[0minplace\u001b[0m\u001b[0;34m=\u001b[0m\u001b[0minplace\u001b[0m\u001b[0;34m,\u001b[0m\u001b[0;34m\u001b[0m\u001b[0;34m\u001b[0m\u001b[0m\n\u001b[0;32m-> 4913\u001b[0;31m             \u001b[0merrors\u001b[0m\u001b[0;34m=\u001b[0m\u001b[0merrors\u001b[0m\u001b[0;34m,\u001b[0m\u001b[0;34m\u001b[0m\u001b[0;34m\u001b[0m\u001b[0m\n\u001b[0m\u001b[1;32m   4914\u001b[0m         )\n\u001b[1;32m   4915\u001b[0m \u001b[0;34m\u001b[0m\u001b[0m\n",
            "\u001b[0;32m/usr/local/lib/python3.7/dist-packages/pandas/core/generic.py\u001b[0m in \u001b[0;36mdrop\u001b[0;34m(self, labels, axis, index, columns, level, inplace, errors)\u001b[0m\n\u001b[1;32m   4148\u001b[0m         \u001b[0;32mfor\u001b[0m \u001b[0maxis\u001b[0m\u001b[0;34m,\u001b[0m \u001b[0mlabels\u001b[0m \u001b[0;32min\u001b[0m \u001b[0maxes\u001b[0m\u001b[0;34m.\u001b[0m\u001b[0mitems\u001b[0m\u001b[0;34m(\u001b[0m\u001b[0;34m)\u001b[0m\u001b[0;34m:\u001b[0m\u001b[0;34m\u001b[0m\u001b[0;34m\u001b[0m\u001b[0m\n\u001b[1;32m   4149\u001b[0m             \u001b[0;32mif\u001b[0m \u001b[0mlabels\u001b[0m \u001b[0;32mis\u001b[0m \u001b[0;32mnot\u001b[0m \u001b[0;32mNone\u001b[0m\u001b[0;34m:\u001b[0m\u001b[0;34m\u001b[0m\u001b[0;34m\u001b[0m\u001b[0m\n\u001b[0;32m-> 4150\u001b[0;31m                 \u001b[0mobj\u001b[0m \u001b[0;34m=\u001b[0m \u001b[0mobj\u001b[0m\u001b[0;34m.\u001b[0m\u001b[0m_drop_axis\u001b[0m\u001b[0;34m(\u001b[0m\u001b[0mlabels\u001b[0m\u001b[0;34m,\u001b[0m \u001b[0maxis\u001b[0m\u001b[0;34m,\u001b[0m \u001b[0mlevel\u001b[0m\u001b[0;34m=\u001b[0m\u001b[0mlevel\u001b[0m\u001b[0;34m,\u001b[0m \u001b[0merrors\u001b[0m\u001b[0;34m=\u001b[0m\u001b[0merrors\u001b[0m\u001b[0;34m)\u001b[0m\u001b[0;34m\u001b[0m\u001b[0;34m\u001b[0m\u001b[0m\n\u001b[0m\u001b[1;32m   4151\u001b[0m \u001b[0;34m\u001b[0m\u001b[0m\n\u001b[1;32m   4152\u001b[0m         \u001b[0;32mif\u001b[0m \u001b[0minplace\u001b[0m\u001b[0;34m:\u001b[0m\u001b[0;34m\u001b[0m\u001b[0;34m\u001b[0m\u001b[0m\n",
            "\u001b[0;32m/usr/local/lib/python3.7/dist-packages/pandas/core/generic.py\u001b[0m in \u001b[0;36m_drop_axis\u001b[0;34m(self, labels, axis, level, errors)\u001b[0m\n\u001b[1;32m   4183\u001b[0m                 \u001b[0mnew_axis\u001b[0m \u001b[0;34m=\u001b[0m \u001b[0maxis\u001b[0m\u001b[0;34m.\u001b[0m\u001b[0mdrop\u001b[0m\u001b[0;34m(\u001b[0m\u001b[0mlabels\u001b[0m\u001b[0;34m,\u001b[0m \u001b[0mlevel\u001b[0m\u001b[0;34m=\u001b[0m\u001b[0mlevel\u001b[0m\u001b[0;34m,\u001b[0m \u001b[0merrors\u001b[0m\u001b[0;34m=\u001b[0m\u001b[0merrors\u001b[0m\u001b[0;34m)\u001b[0m\u001b[0;34m\u001b[0m\u001b[0;34m\u001b[0m\u001b[0m\n\u001b[1;32m   4184\u001b[0m             \u001b[0;32melse\u001b[0m\u001b[0;34m:\u001b[0m\u001b[0;34m\u001b[0m\u001b[0;34m\u001b[0m\u001b[0m\n\u001b[0;32m-> 4185\u001b[0;31m                 \u001b[0mnew_axis\u001b[0m \u001b[0;34m=\u001b[0m \u001b[0maxis\u001b[0m\u001b[0;34m.\u001b[0m\u001b[0mdrop\u001b[0m\u001b[0;34m(\u001b[0m\u001b[0mlabels\u001b[0m\u001b[0;34m,\u001b[0m \u001b[0merrors\u001b[0m\u001b[0;34m=\u001b[0m\u001b[0merrors\u001b[0m\u001b[0;34m)\u001b[0m\u001b[0;34m\u001b[0m\u001b[0;34m\u001b[0m\u001b[0m\n\u001b[0m\u001b[1;32m   4186\u001b[0m             \u001b[0mresult\u001b[0m \u001b[0;34m=\u001b[0m \u001b[0mself\u001b[0m\u001b[0;34m.\u001b[0m\u001b[0mreindex\u001b[0m\u001b[0;34m(\u001b[0m\u001b[0;34m**\u001b[0m\u001b[0;34m{\u001b[0m\u001b[0maxis_name\u001b[0m\u001b[0;34m:\u001b[0m \u001b[0mnew_axis\u001b[0m\u001b[0;34m}\u001b[0m\u001b[0;34m)\u001b[0m\u001b[0;34m\u001b[0m\u001b[0;34m\u001b[0m\u001b[0m\n\u001b[1;32m   4187\u001b[0m \u001b[0;34m\u001b[0m\u001b[0m\n",
            "\u001b[0;32m/usr/local/lib/python3.7/dist-packages/pandas/core/indexes/base.py\u001b[0m in \u001b[0;36mdrop\u001b[0;34m(self, labels, errors)\u001b[0m\n\u001b[1;32m   6015\u001b[0m         \u001b[0;32mif\u001b[0m \u001b[0mmask\u001b[0m\u001b[0;34m.\u001b[0m\u001b[0many\u001b[0m\u001b[0;34m(\u001b[0m\u001b[0;34m)\u001b[0m\u001b[0;34m:\u001b[0m\u001b[0;34m\u001b[0m\u001b[0;34m\u001b[0m\u001b[0m\n\u001b[1;32m   6016\u001b[0m             \u001b[0;32mif\u001b[0m \u001b[0merrors\u001b[0m \u001b[0;34m!=\u001b[0m \u001b[0;34m\"ignore\"\u001b[0m\u001b[0;34m:\u001b[0m\u001b[0;34m\u001b[0m\u001b[0;34m\u001b[0m\u001b[0m\n\u001b[0;32m-> 6017\u001b[0;31m                 \u001b[0;32mraise\u001b[0m \u001b[0mKeyError\u001b[0m\u001b[0;34m(\u001b[0m\u001b[0;34mf\"{labels[mask]} not found in axis\"\u001b[0m\u001b[0;34m)\u001b[0m\u001b[0;34m\u001b[0m\u001b[0;34m\u001b[0m\u001b[0m\n\u001b[0m\u001b[1;32m   6018\u001b[0m             \u001b[0mindexer\u001b[0m \u001b[0;34m=\u001b[0m \u001b[0mindexer\u001b[0m\u001b[0;34m[\u001b[0m\u001b[0;34m~\u001b[0m\u001b[0mmask\u001b[0m\u001b[0;34m]\u001b[0m\u001b[0;34m\u001b[0m\u001b[0;34m\u001b[0m\u001b[0m\n\u001b[1;32m   6019\u001b[0m         \u001b[0;32mreturn\u001b[0m \u001b[0mself\u001b[0m\u001b[0;34m.\u001b[0m\u001b[0mdelete\u001b[0m\u001b[0;34m(\u001b[0m\u001b[0mindexer\u001b[0m\u001b[0;34m)\u001b[0m\u001b[0;34m\u001b[0m\u001b[0;34m\u001b[0m\u001b[0m\n",
            "\u001b[0;31mKeyError\u001b[0m: \"['DeviceProtection_No'] not found in axis\""
          ]
        }
      ],
      "source": [
        "X.drop(['Partner','Dependents','PaymentMethod_Electronic check','gender_Male','InternetService_No','DeviceProtection_No','DeviceProtection_Yes'],axis=1)"
      ]
    },
    {
      "cell_type": "code",
      "execution_count": null,
      "metadata": {
        "id": "1MHpzxVj1H3f"
      },
      "outputs": [],
      "source": [
        "# Importing matplotlib and seaborn\n",
        "\n",
        "\n",
        "%matplotlib inline"
      ]
    },
    {
      "cell_type": "code",
      "execution_count": null,
      "metadata": {
        "id": "aD4eP2we1H3f"
      },
      "outputs": [],
      "source": [
        "# Let's see the correlation matrix \n",
        "plt.figure(figsize=(20,15))\n",
        "       # Size of the figure\n",
        "sns.heatmap(X.corr(),annot=True)\n"
      ]
    },
    {
      "cell_type": "code",
      "execution_count": null,
      "metadata": {
        "id": "NEIkIpKR1H3g"
      },
      "outputs": [],
      "source": [
        "# Write a correlation function to drop correlleation function to remove highly correlated variables (>70%)\n",
        "def correlation(dataset, threshold):\n",
        "    # Set of all the names of correlated columns\n",
        "    col_corr =set()\n",
        "    \n",
        "    # apply corr method on dataset\n",
        "    corr_matrix = dataset.corr()\n",
        "    \n",
        "    for i in range(len(corr_matrix.columns)):\n",
        "        for j in range(i):\n",
        "\n",
        "            # we are interested in absolute coeff value \n",
        "            if abs(corr_matrix.iloc[i,j])>threshold:\n",
        "                colname =corr_matrix.columns[i] \n",
        "                # add in col_corr \n",
        "                col_corr.add(colname)\n",
        "\n",
        "    return col_corr\n",
        "    "
      ]
    },
    {
      "cell_type": "code",
      "execution_count": null,
      "metadata": {
        "id": "6juWpSar1H3g"
      },
      "outputs": [],
      "source": [
        "# call the function with threshold\n",
        "corr_features =correlation(X,0.7)\n",
        "\n",
        "len(set(corr_features))"
      ]
    },
    {
      "cell_type": "code",
      "execution_count": null,
      "metadata": {
        "id": "FlQRlllq1H3h"
      },
      "outputs": [],
      "source": [
        "# print corr_features\n",
        "print(corr_features)\n",
        "\n",
        "\n"
      ]
    },
    {
      "cell_type": "code",
      "execution_count": null,
      "metadata": {
        "id": "p88T9pA11H3h"
      },
      "outputs": [],
      "source": [
        "# Lets drop the above variables from X\n",
        "X.drop(['MonthlyCharges','TotalCharges'],1)\n",
        "\n"
      ]
    },
    {
      "cell_type": "code",
      "execution_count": null,
      "metadata": {
        "id": "GYuOVzWL1H3i"
      },
      "outputs": [],
      "source": [
        "# Import library for VIF\n",
        "from statsmodels.stats.outliers_influence import variance_inflation_factor\n",
        "\n",
        "# empyty dataframe\n",
        "vif = pd.DataFrame()\n",
        "\n",
        "#variables names with all variables in column X\n",
        "vif['variable']=X.columns\n",
        "\n",
        "# Vif scores for corresponding features\n",
        "vif['VIF']=[round(variance_inflation_factor(X.values,i),2) for i in range (X.shape[1])]\n"
      ]
    },
    {
      "cell_type": "code",
      "execution_count": null,
      "metadata": {
        "id": "fKlSd2LX1H3i",
        "outputId": "e18f6d72-22d4-4ffd-9f04-cb6670c1259a",
        "colab": {
          "base_uri": "https://localhost:8080/"
        }
      },
      "outputs": [
        {
          "output_type": "stream",
          "name": "stdout",
          "text": [
            "                                 variable      VIF\n",
            "0                                   const  1538.39\n",
            "1                            PhoneService    34.89\n",
            "2                        PaperlessBilling     1.21\n",
            "3                           SeniorCitizen     1.15\n",
            "4                                 Partner     1.46\n",
            "5                              Dependents     1.38\n",
            "6                       Contract_One year     1.63\n",
            "7                       Contract_Two year     2.65\n",
            "8   PaymentMethod_Credit card (automatic)     1.56\n",
            "9          PaymentMethod_Electronic check     1.98\n",
            "10             PaymentMethod_Mailed check     1.86\n",
            "11                            gender_Male     1.00\n",
            "12                      MultipleLines_Yes     7.29\n",
            "13            InternetService_Fiber optic   148.50\n",
            "14                     InternetService_No   104.21\n",
            "15                     OnlineSecurity_Yes     6.34\n",
            "16                       OnlineBackup_Yes     6.80\n",
            "17                   DeviceProtection_Yes     6.92\n",
            "18                        TechSupport_Yes     6.48\n",
            "19                        StreamingTV_Yes    24.08\n",
            "20                    StreamingMovies_Yes    24.16\n",
            "21                                 tenure     7.58\n",
            "22                         MonthlyCharges   866.09\n",
            "23                           TotalCharges    10.81\n"
          ]
        }
      ],
      "source": [
        "# print vif\n",
        "\n",
        "print(vif)"
      ]
    },
    {
      "cell_type": "code",
      "execution_count": null,
      "metadata": {
        "id": "N6MKx85a1H3j",
        "colab": {
          "base_uri": "https://localhost:8080/",
          "height": 541
        },
        "outputId": "33ce8db3-00cd-458b-e910-0a80401b9a39"
      },
      "outputs": [
        {
          "output_type": "stream",
          "name": "stderr",
          "text": [
            "/usr/local/lib/python3.7/dist-packages/ipykernel_launcher.py:5: FutureWarning: In a future version of pandas all arguments of DataFrame.drop except for the argument 'labels' will be keyword-only\n",
            "  \"\"\"\n"
          ]
        },
        {
          "output_type": "execute_result",
          "data": {
            "text/plain": [
              "      const  PhoneService  PaperlessBilling  SeniorCitizen  Partner  \\\n",
              "0       1.0             0                 1              0        1   \n",
              "1       1.0             1                 0              0        0   \n",
              "2       1.0             1                 1              0        0   \n",
              "3       1.0             0                 0              0        0   \n",
              "4       1.0             1                 1              0        0   \n",
              "...     ...           ...               ...            ...      ...   \n",
              "7038    1.0             1                 1              0        1   \n",
              "7039    1.0             1                 1              0        1   \n",
              "7040    1.0             0                 1              0        1   \n",
              "7041    1.0             1                 1              1        1   \n",
              "7042    1.0             1                 1              0        0   \n",
              "\n",
              "      Dependents  Contract_One year  Contract_Two year  \\\n",
              "0              0                  0                  0   \n",
              "1              0                  1                  0   \n",
              "2              0                  0                  0   \n",
              "3              0                  1                  0   \n",
              "4              0                  0                  0   \n",
              "...          ...                ...                ...   \n",
              "7038           1                  1                  0   \n",
              "7039           1                  1                  0   \n",
              "7040           1                  0                  0   \n",
              "7041           0                  0                  0   \n",
              "7042           0                  0                  1   \n",
              "\n",
              "      PaymentMethod_Credit card (automatic)  PaymentMethod_Electronic check  \\\n",
              "0                                         0                               1   \n",
              "1                                         0                               0   \n",
              "2                                         0                               0   \n",
              "3                                         0                               0   \n",
              "4                                         0                               1   \n",
              "...                                     ...                             ...   \n",
              "7038                                      0                               0   \n",
              "7039                                      1                               0   \n",
              "7040                                      0                               1   \n",
              "7041                                      0                               0   \n",
              "7042                                      0                               0   \n",
              "\n",
              "      PaymentMethod_Mailed check  gender_Male  MultipleLines_Yes  \\\n",
              "0                              0            0                  0   \n",
              "1                              1            1                  0   \n",
              "2                              1            1                  0   \n",
              "3                              0            1                  0   \n",
              "4                              0            0                  0   \n",
              "...                          ...          ...                ...   \n",
              "7038                           1            1                  1   \n",
              "7039                           0            0                  1   \n",
              "7040                           0            0                  0   \n",
              "7041                           1            1                  1   \n",
              "7042                           0            1                  0   \n",
              "\n",
              "      InternetService_Fiber optic  InternetService_No  DeviceProtection_Yes  \\\n",
              "0                               0                   0                     0   \n",
              "1                               0                   0                     1   \n",
              "2                               0                   0                     0   \n",
              "3                               0                   0                     1   \n",
              "4                               1                   0                     0   \n",
              "...                           ...                 ...                   ...   \n",
              "7038                            0                   0                     1   \n",
              "7039                            1                   0                     1   \n",
              "7040                            0                   0                     0   \n",
              "7041                            1                   0                     0   \n",
              "7042                            1                   0                     1   \n",
              "\n",
              "        tenure  MonthlyCharges  TotalCharges  \n",
              "0    -1.280157       -1.161611     -0.994123  \n",
              "1     0.064298       -0.260859     -0.173727  \n",
              "2    -1.239416       -0.363897     -0.959581  \n",
              "3     0.512450       -0.747797     -0.195234  \n",
              "4    -1.239416        0.196164     -0.940391  \n",
              "...        ...             ...           ...  \n",
              "7038 -0.343113        0.664821     -0.129171  \n",
              "7039  1.612459        1.276402      2.240896  \n",
              "7040 -0.872746       -1.169921     -0.854453  \n",
              "7041 -1.157934        0.319145     -0.872033  \n",
              "7042  1.368012        1.357835      2.012201  \n",
              "\n",
              "[7032 rows x 19 columns]"
            ],
            "text/html": [
              "\n",
              "  <div id=\"df-9fe2f11a-26b5-440f-87dd-2cb6b7377abb\">\n",
              "    <div class=\"colab-df-container\">\n",
              "      <div>\n",
              "<style scoped>\n",
              "    .dataframe tbody tr th:only-of-type {\n",
              "        vertical-align: middle;\n",
              "    }\n",
              "\n",
              "    .dataframe tbody tr th {\n",
              "        vertical-align: top;\n",
              "    }\n",
              "\n",
              "    .dataframe thead th {\n",
              "        text-align: right;\n",
              "    }\n",
              "</style>\n",
              "<table border=\"1\" class=\"dataframe\">\n",
              "  <thead>\n",
              "    <tr style=\"text-align: right;\">\n",
              "      <th></th>\n",
              "      <th>const</th>\n",
              "      <th>PhoneService</th>\n",
              "      <th>PaperlessBilling</th>\n",
              "      <th>SeniorCitizen</th>\n",
              "      <th>Partner</th>\n",
              "      <th>Dependents</th>\n",
              "      <th>Contract_One year</th>\n",
              "      <th>Contract_Two year</th>\n",
              "      <th>PaymentMethod_Credit card (automatic)</th>\n",
              "      <th>PaymentMethod_Electronic check</th>\n",
              "      <th>PaymentMethod_Mailed check</th>\n",
              "      <th>gender_Male</th>\n",
              "      <th>MultipleLines_Yes</th>\n",
              "      <th>InternetService_Fiber optic</th>\n",
              "      <th>InternetService_No</th>\n",
              "      <th>DeviceProtection_Yes</th>\n",
              "      <th>tenure</th>\n",
              "      <th>MonthlyCharges</th>\n",
              "      <th>TotalCharges</th>\n",
              "    </tr>\n",
              "  </thead>\n",
              "  <tbody>\n",
              "    <tr>\n",
              "      <th>0</th>\n",
              "      <td>1.0</td>\n",
              "      <td>0</td>\n",
              "      <td>1</td>\n",
              "      <td>0</td>\n",
              "      <td>1</td>\n",
              "      <td>0</td>\n",
              "      <td>0</td>\n",
              "      <td>0</td>\n",
              "      <td>0</td>\n",
              "      <td>1</td>\n",
              "      <td>0</td>\n",
              "      <td>0</td>\n",
              "      <td>0</td>\n",
              "      <td>0</td>\n",
              "      <td>0</td>\n",
              "      <td>0</td>\n",
              "      <td>-1.280157</td>\n",
              "      <td>-1.161611</td>\n",
              "      <td>-0.994123</td>\n",
              "    </tr>\n",
              "    <tr>\n",
              "      <th>1</th>\n",
              "      <td>1.0</td>\n",
              "      <td>1</td>\n",
              "      <td>0</td>\n",
              "      <td>0</td>\n",
              "      <td>0</td>\n",
              "      <td>0</td>\n",
              "      <td>1</td>\n",
              "      <td>0</td>\n",
              "      <td>0</td>\n",
              "      <td>0</td>\n",
              "      <td>1</td>\n",
              "      <td>1</td>\n",
              "      <td>0</td>\n",
              "      <td>0</td>\n",
              "      <td>0</td>\n",
              "      <td>1</td>\n",
              "      <td>0.064298</td>\n",
              "      <td>-0.260859</td>\n",
              "      <td>-0.173727</td>\n",
              "    </tr>\n",
              "    <tr>\n",
              "      <th>2</th>\n",
              "      <td>1.0</td>\n",
              "      <td>1</td>\n",
              "      <td>1</td>\n",
              "      <td>0</td>\n",
              "      <td>0</td>\n",
              "      <td>0</td>\n",
              "      <td>0</td>\n",
              "      <td>0</td>\n",
              "      <td>0</td>\n",
              "      <td>0</td>\n",
              "      <td>1</td>\n",
              "      <td>1</td>\n",
              "      <td>0</td>\n",
              "      <td>0</td>\n",
              "      <td>0</td>\n",
              "      <td>0</td>\n",
              "      <td>-1.239416</td>\n",
              "      <td>-0.363897</td>\n",
              "      <td>-0.959581</td>\n",
              "    </tr>\n",
              "    <tr>\n",
              "      <th>3</th>\n",
              "      <td>1.0</td>\n",
              "      <td>0</td>\n",
              "      <td>0</td>\n",
              "      <td>0</td>\n",
              "      <td>0</td>\n",
              "      <td>0</td>\n",
              "      <td>1</td>\n",
              "      <td>0</td>\n",
              "      <td>0</td>\n",
              "      <td>0</td>\n",
              "      <td>0</td>\n",
              "      <td>1</td>\n",
              "      <td>0</td>\n",
              "      <td>0</td>\n",
              "      <td>0</td>\n",
              "      <td>1</td>\n",
              "      <td>0.512450</td>\n",
              "      <td>-0.747797</td>\n",
              "      <td>-0.195234</td>\n",
              "    </tr>\n",
              "    <tr>\n",
              "      <th>4</th>\n",
              "      <td>1.0</td>\n",
              "      <td>1</td>\n",
              "      <td>1</td>\n",
              "      <td>0</td>\n",
              "      <td>0</td>\n",
              "      <td>0</td>\n",
              "      <td>0</td>\n",
              "      <td>0</td>\n",
              "      <td>0</td>\n",
              "      <td>1</td>\n",
              "      <td>0</td>\n",
              "      <td>0</td>\n",
              "      <td>0</td>\n",
              "      <td>1</td>\n",
              "      <td>0</td>\n",
              "      <td>0</td>\n",
              "      <td>-1.239416</td>\n",
              "      <td>0.196164</td>\n",
              "      <td>-0.940391</td>\n",
              "    </tr>\n",
              "    <tr>\n",
              "      <th>...</th>\n",
              "      <td>...</td>\n",
              "      <td>...</td>\n",
              "      <td>...</td>\n",
              "      <td>...</td>\n",
              "      <td>...</td>\n",
              "      <td>...</td>\n",
              "      <td>...</td>\n",
              "      <td>...</td>\n",
              "      <td>...</td>\n",
              "      <td>...</td>\n",
              "      <td>...</td>\n",
              "      <td>...</td>\n",
              "      <td>...</td>\n",
              "      <td>...</td>\n",
              "      <td>...</td>\n",
              "      <td>...</td>\n",
              "      <td>...</td>\n",
              "      <td>...</td>\n",
              "      <td>...</td>\n",
              "    </tr>\n",
              "    <tr>\n",
              "      <th>7038</th>\n",
              "      <td>1.0</td>\n",
              "      <td>1</td>\n",
              "      <td>1</td>\n",
              "      <td>0</td>\n",
              "      <td>1</td>\n",
              "      <td>1</td>\n",
              "      <td>1</td>\n",
              "      <td>0</td>\n",
              "      <td>0</td>\n",
              "      <td>0</td>\n",
              "      <td>1</td>\n",
              "      <td>1</td>\n",
              "      <td>1</td>\n",
              "      <td>0</td>\n",
              "      <td>0</td>\n",
              "      <td>1</td>\n",
              "      <td>-0.343113</td>\n",
              "      <td>0.664821</td>\n",
              "      <td>-0.129171</td>\n",
              "    </tr>\n",
              "    <tr>\n",
              "      <th>7039</th>\n",
              "      <td>1.0</td>\n",
              "      <td>1</td>\n",
              "      <td>1</td>\n",
              "      <td>0</td>\n",
              "      <td>1</td>\n",
              "      <td>1</td>\n",
              "      <td>1</td>\n",
              "      <td>0</td>\n",
              "      <td>1</td>\n",
              "      <td>0</td>\n",
              "      <td>0</td>\n",
              "      <td>0</td>\n",
              "      <td>1</td>\n",
              "      <td>1</td>\n",
              "      <td>0</td>\n",
              "      <td>1</td>\n",
              "      <td>1.612459</td>\n",
              "      <td>1.276402</td>\n",
              "      <td>2.240896</td>\n",
              "    </tr>\n",
              "    <tr>\n",
              "      <th>7040</th>\n",
              "      <td>1.0</td>\n",
              "      <td>0</td>\n",
              "      <td>1</td>\n",
              "      <td>0</td>\n",
              "      <td>1</td>\n",
              "      <td>1</td>\n",
              "      <td>0</td>\n",
              "      <td>0</td>\n",
              "      <td>0</td>\n",
              "      <td>1</td>\n",
              "      <td>0</td>\n",
              "      <td>0</td>\n",
              "      <td>0</td>\n",
              "      <td>0</td>\n",
              "      <td>0</td>\n",
              "      <td>0</td>\n",
              "      <td>-0.872746</td>\n",
              "      <td>-1.169921</td>\n",
              "      <td>-0.854453</td>\n",
              "    </tr>\n",
              "    <tr>\n",
              "      <th>7041</th>\n",
              "      <td>1.0</td>\n",
              "      <td>1</td>\n",
              "      <td>1</td>\n",
              "      <td>1</td>\n",
              "      <td>1</td>\n",
              "      <td>0</td>\n",
              "      <td>0</td>\n",
              "      <td>0</td>\n",
              "      <td>0</td>\n",
              "      <td>0</td>\n",
              "      <td>1</td>\n",
              "      <td>1</td>\n",
              "      <td>1</td>\n",
              "      <td>1</td>\n",
              "      <td>0</td>\n",
              "      <td>0</td>\n",
              "      <td>-1.157934</td>\n",
              "      <td>0.319145</td>\n",
              "      <td>-0.872033</td>\n",
              "    </tr>\n",
              "    <tr>\n",
              "      <th>7042</th>\n",
              "      <td>1.0</td>\n",
              "      <td>1</td>\n",
              "      <td>1</td>\n",
              "      <td>0</td>\n",
              "      <td>0</td>\n",
              "      <td>0</td>\n",
              "      <td>0</td>\n",
              "      <td>1</td>\n",
              "      <td>0</td>\n",
              "      <td>0</td>\n",
              "      <td>0</td>\n",
              "      <td>1</td>\n",
              "      <td>0</td>\n",
              "      <td>1</td>\n",
              "      <td>0</td>\n",
              "      <td>1</td>\n",
              "      <td>1.368012</td>\n",
              "      <td>1.357835</td>\n",
              "      <td>2.012201</td>\n",
              "    </tr>\n",
              "  </tbody>\n",
              "</table>\n",
              "<p>7032 rows × 19 columns</p>\n",
              "</div>\n",
              "      <button class=\"colab-df-convert\" onclick=\"convertToInteractive('df-9fe2f11a-26b5-440f-87dd-2cb6b7377abb')\"\n",
              "              title=\"Convert this dataframe to an interactive table.\"\n",
              "              style=\"display:none;\">\n",
              "        \n",
              "  <svg xmlns=\"http://www.w3.org/2000/svg\" height=\"24px\"viewBox=\"0 0 24 24\"\n",
              "       width=\"24px\">\n",
              "    <path d=\"M0 0h24v24H0V0z\" fill=\"none\"/>\n",
              "    <path d=\"M18.56 5.44l.94 2.06.94-2.06 2.06-.94-2.06-.94-.94-2.06-.94 2.06-2.06.94zm-11 1L8.5 8.5l.94-2.06 2.06-.94-2.06-.94L8.5 2.5l-.94 2.06-2.06.94zm10 10l.94 2.06.94-2.06 2.06-.94-2.06-.94-.94-2.06-.94 2.06-2.06.94z\"/><path d=\"M17.41 7.96l-1.37-1.37c-.4-.4-.92-.59-1.43-.59-.52 0-1.04.2-1.43.59L10.3 9.45l-7.72 7.72c-.78.78-.78 2.05 0 2.83L4 21.41c.39.39.9.59 1.41.59.51 0 1.02-.2 1.41-.59l7.78-7.78 2.81-2.81c.8-.78.8-2.07 0-2.86zM5.41 20L4 18.59l7.72-7.72 1.47 1.35L5.41 20z\"/>\n",
              "  </svg>\n",
              "      </button>\n",
              "      \n",
              "  <style>\n",
              "    .colab-df-container {\n",
              "      display:flex;\n",
              "      flex-wrap:wrap;\n",
              "      gap: 12px;\n",
              "    }\n",
              "\n",
              "    .colab-df-convert {\n",
              "      background-color: #E8F0FE;\n",
              "      border: none;\n",
              "      border-radius: 50%;\n",
              "      cursor: pointer;\n",
              "      display: none;\n",
              "      fill: #1967D2;\n",
              "      height: 32px;\n",
              "      padding: 0 0 0 0;\n",
              "      width: 32px;\n",
              "    }\n",
              "\n",
              "    .colab-df-convert:hover {\n",
              "      background-color: #E2EBFA;\n",
              "      box-shadow: 0px 1px 2px rgba(60, 64, 67, 0.3), 0px 1px 3px 1px rgba(60, 64, 67, 0.15);\n",
              "      fill: #174EA6;\n",
              "    }\n",
              "\n",
              "    [theme=dark] .colab-df-convert {\n",
              "      background-color: #3B4455;\n",
              "      fill: #D2E3FC;\n",
              "    }\n",
              "\n",
              "    [theme=dark] .colab-df-convert:hover {\n",
              "      background-color: #434B5C;\n",
              "      box-shadow: 0px 1px 3px 1px rgba(0, 0, 0, 0.15);\n",
              "      filter: drop-shadow(0px 1px 2px rgba(0, 0, 0, 0.3));\n",
              "      fill: #FFFFFF;\n",
              "    }\n",
              "  </style>\n",
              "\n",
              "      <script>\n",
              "        const buttonEl =\n",
              "          document.querySelector('#df-9fe2f11a-26b5-440f-87dd-2cb6b7377abb button.colab-df-convert');\n",
              "        buttonEl.style.display =\n",
              "          google.colab.kernel.accessAllowed ? 'block' : 'none';\n",
              "\n",
              "        async function convertToInteractive(key) {\n",
              "          const element = document.querySelector('#df-9fe2f11a-26b5-440f-87dd-2cb6b7377abb');\n",
              "          const dataTable =\n",
              "            await google.colab.kernel.invokeFunction('convertToInteractive',\n",
              "                                                     [key], {});\n",
              "          if (!dataTable) return;\n",
              "\n",
              "          const docLinkHtml = 'Like what you see? Visit the ' +\n",
              "            '<a target=\"_blank\" href=https://colab.research.google.com/notebooks/data_table.ipynb>data table notebook</a>'\n",
              "            + ' to learn more about interactive tables.';\n",
              "          element.innerHTML = '';\n",
              "          dataTable['output_type'] = 'display_data';\n",
              "          await google.colab.output.renderOutput(dataTable, element);\n",
              "          const docLink = document.createElement('div');\n",
              "          docLink.innerHTML = docLinkHtml;\n",
              "          element.appendChild(docLink);\n",
              "        }\n",
              "      </script>\n",
              "    </div>\n",
              "  </div>\n",
              "  "
            ]
          },
          "metadata": {},
          "execution_count": 43
        }
      ],
      "source": [
        "# Lets drop above variables also from X\n",
        "X.drop(['OnlineSecurity_Yes','OnlineBackup_Yes',\n",
        "'TechSupport_Yes',\n",
        "'StreamingTV_Yes',\n",
        "'StreamingMovies_Yes'],1)\n",
        "\n"
      ]
    },
    {
      "cell_type": "code",
      "execution_count": null,
      "metadata": {
        "id": "lNXBtlnx1H3l",
        "outputId": "57b5516e-8f6a-469a-d14c-99ea0022b6af",
        "colab": {
          "base_uri": "https://localhost:8080/",
          "height": 758
        }
      },
      "outputs": [
        {
          "output_type": "stream",
          "name": "stdout",
          "text": [
            "Optimization terminated successfully.\n",
            "         Current function value: 0.407291\n",
            "         Iterations 8\n"
          ]
        },
        {
          "output_type": "execute_result",
          "data": {
            "text/plain": [
              "<class 'statsmodels.iolib.summary.Summary'>\n",
              "\"\"\"\n",
              "                           Logit Regression Results                           \n",
              "==============================================================================\n",
              "Dep. Variable:                  Churn   No. Observations:                 4922\n",
              "Model:                          Logit   Df Residuals:                     4898\n",
              "Method:                           MLE   Df Model:                           23\n",
              "Date:                Thu, 13 Oct 2022   Pseudo R-squ.:                  0.2912\n",
              "Time:                        13:06:11   Log-Likelihood:                -2004.7\n",
              "converged:                       True   LL-Null:                       -2828.2\n",
              "Covariance Type:            nonrobust   LLR p-value:                     0.000\n",
              "=========================================================================================================\n",
              "                                            coef    std err          z      P>|z|      [0.025      0.975]\n",
              "---------------------------------------------------------------------------------------------------------\n",
              "const                                    -3.9338      1.545     -2.545      0.011      -6.963      -0.905\n",
              "PhoneService                              0.9507      0.789      1.205      0.228      -0.595       2.497\n",
              "PaperlessBilling                          0.3254      0.090      3.614      0.000       0.149       0.502\n",
              "SeniorCitizen                             0.3984      0.102      3.924      0.000       0.199       0.597\n",
              "Partner                                   0.0374      0.094      0.399      0.690      -0.146       0.221\n",
              "Dependents                               -0.1430      0.107     -1.332      0.183      -0.353       0.067\n",
              "Contract_One year                        -0.6578      0.129     -5.106      0.000      -0.910      -0.405\n",
              "Contract_Two year                        -1.2455      0.212     -5.874      0.000      -1.661      -0.830\n",
              "PaymentMethod_Credit card (automatic)    -0.2577      0.137     -1.883      0.060      -0.526       0.011\n",
              "PaymentMethod_Electronic check            0.1615      0.113      1.434      0.152      -0.059       0.382\n",
              "PaymentMethod_Mailed check               -0.2536      0.137     -1.845      0.065      -0.523       0.016\n",
              "gender_Male                              -0.0346      0.078     -0.442      0.658      -0.188       0.119\n",
              "MultipleLines_Yes                         0.5623      0.214      2.628      0.009       0.143       0.982\n",
              "InternetService_Fiber optic               2.5124      0.967      2.599      0.009       0.618       4.407\n",
              "InternetService_No                       -2.7792      0.982     -2.831      0.005      -4.703      -0.855\n",
              "OnlineSecurity_Yes                       -0.0245      0.216     -0.113      0.910      -0.448       0.399\n",
              "OnlineBackup_Yes                          0.1740      0.212      0.822      0.411      -0.241       0.589\n",
              "DeviceProtection_Yes                      0.3229      0.215      1.501      0.133      -0.099       0.744\n",
              "TechSupport_Yes                          -0.0305      0.216     -0.141      0.888      -0.455       0.394\n",
              "StreamingTV_Yes                           0.9598      0.396      2.423      0.015       0.183       1.736\n",
              "StreamingMovies_Yes                       0.8484      0.396      2.143      0.032       0.072       1.624\n",
              "tenure                                   -1.5198      0.190     -8.015      0.000      -1.891      -1.148\n",
              "MonthlyCharges                           -2.1817      1.160     -1.880      0.060      -4.456       0.092\n",
              "TotalCharges                              0.7329      0.198      3.705      0.000       0.345       1.121\n",
              "=========================================================================================================\n",
              "\"\"\""
            ],
            "text/html": [
              "<table class=\"simpletable\">\n",
              "<caption>Logit Regression Results</caption>\n",
              "<tr>\n",
              "  <th>Dep. Variable:</th>         <td>Churn</td>      <th>  No. Observations:  </th>  <td>  4922</td> \n",
              "</tr>\n",
              "<tr>\n",
              "  <th>Model:</th>                 <td>Logit</td>      <th>  Df Residuals:      </th>  <td>  4898</td> \n",
              "</tr>\n",
              "<tr>\n",
              "  <th>Method:</th>                 <td>MLE</td>       <th>  Df Model:          </th>  <td>    23</td> \n",
              "</tr>\n",
              "<tr>\n",
              "  <th>Date:</th>            <td>Thu, 13 Oct 2022</td> <th>  Pseudo R-squ.:     </th>  <td>0.2912</td> \n",
              "</tr>\n",
              "<tr>\n",
              "  <th>Time:</th>                <td>13:06:11</td>     <th>  Log-Likelihood:    </th> <td> -2004.7</td>\n",
              "</tr>\n",
              "<tr>\n",
              "  <th>converged:</th>             <td>True</td>       <th>  LL-Null:           </th> <td> -2828.2</td>\n",
              "</tr>\n",
              "<tr>\n",
              "  <th>Covariance Type:</th>     <td>nonrobust</td>    <th>  LLR p-value:       </th>  <td> 0.000</td> \n",
              "</tr>\n",
              "</table>\n",
              "<table class=\"simpletable\">\n",
              "<tr>\n",
              "                    <td></td>                       <th>coef</th>     <th>std err</th>      <th>z</th>      <th>P>|z|</th>  <th>[0.025</th>    <th>0.975]</th>  \n",
              "</tr>\n",
              "<tr>\n",
              "  <th>const</th>                                 <td>   -3.9338</td> <td>    1.545</td> <td>   -2.545</td> <td> 0.011</td> <td>   -6.963</td> <td>   -0.905</td>\n",
              "</tr>\n",
              "<tr>\n",
              "  <th>PhoneService</th>                          <td>    0.9507</td> <td>    0.789</td> <td>    1.205</td> <td> 0.228</td> <td>   -0.595</td> <td>    2.497</td>\n",
              "</tr>\n",
              "<tr>\n",
              "  <th>PaperlessBilling</th>                      <td>    0.3254</td> <td>    0.090</td> <td>    3.614</td> <td> 0.000</td> <td>    0.149</td> <td>    0.502</td>\n",
              "</tr>\n",
              "<tr>\n",
              "  <th>SeniorCitizen</th>                         <td>    0.3984</td> <td>    0.102</td> <td>    3.924</td> <td> 0.000</td> <td>    0.199</td> <td>    0.597</td>\n",
              "</tr>\n",
              "<tr>\n",
              "  <th>Partner</th>                               <td>    0.0374</td> <td>    0.094</td> <td>    0.399</td> <td> 0.690</td> <td>   -0.146</td> <td>    0.221</td>\n",
              "</tr>\n",
              "<tr>\n",
              "  <th>Dependents</th>                            <td>   -0.1430</td> <td>    0.107</td> <td>   -1.332</td> <td> 0.183</td> <td>   -0.353</td> <td>    0.067</td>\n",
              "</tr>\n",
              "<tr>\n",
              "  <th>Contract_One year</th>                     <td>   -0.6578</td> <td>    0.129</td> <td>   -5.106</td> <td> 0.000</td> <td>   -0.910</td> <td>   -0.405</td>\n",
              "</tr>\n",
              "<tr>\n",
              "  <th>Contract_Two year</th>                     <td>   -1.2455</td> <td>    0.212</td> <td>   -5.874</td> <td> 0.000</td> <td>   -1.661</td> <td>   -0.830</td>\n",
              "</tr>\n",
              "<tr>\n",
              "  <th>PaymentMethod_Credit card (automatic)</th> <td>   -0.2577</td> <td>    0.137</td> <td>   -1.883</td> <td> 0.060</td> <td>   -0.526</td> <td>    0.011</td>\n",
              "</tr>\n",
              "<tr>\n",
              "  <th>PaymentMethod_Electronic check</th>        <td>    0.1615</td> <td>    0.113</td> <td>    1.434</td> <td> 0.152</td> <td>   -0.059</td> <td>    0.382</td>\n",
              "</tr>\n",
              "<tr>\n",
              "  <th>PaymentMethod_Mailed check</th>            <td>   -0.2536</td> <td>    0.137</td> <td>   -1.845</td> <td> 0.065</td> <td>   -0.523</td> <td>    0.016</td>\n",
              "</tr>\n",
              "<tr>\n",
              "  <th>gender_Male</th>                           <td>   -0.0346</td> <td>    0.078</td> <td>   -0.442</td> <td> 0.658</td> <td>   -0.188</td> <td>    0.119</td>\n",
              "</tr>\n",
              "<tr>\n",
              "  <th>MultipleLines_Yes</th>                     <td>    0.5623</td> <td>    0.214</td> <td>    2.628</td> <td> 0.009</td> <td>    0.143</td> <td>    0.982</td>\n",
              "</tr>\n",
              "<tr>\n",
              "  <th>InternetService_Fiber optic</th>           <td>    2.5124</td> <td>    0.967</td> <td>    2.599</td> <td> 0.009</td> <td>    0.618</td> <td>    4.407</td>\n",
              "</tr>\n",
              "<tr>\n",
              "  <th>InternetService_No</th>                    <td>   -2.7792</td> <td>    0.982</td> <td>   -2.831</td> <td> 0.005</td> <td>   -4.703</td> <td>   -0.855</td>\n",
              "</tr>\n",
              "<tr>\n",
              "  <th>OnlineSecurity_Yes</th>                    <td>   -0.0245</td> <td>    0.216</td> <td>   -0.113</td> <td> 0.910</td> <td>   -0.448</td> <td>    0.399</td>\n",
              "</tr>\n",
              "<tr>\n",
              "  <th>OnlineBackup_Yes</th>                      <td>    0.1740</td> <td>    0.212</td> <td>    0.822</td> <td> 0.411</td> <td>   -0.241</td> <td>    0.589</td>\n",
              "</tr>\n",
              "<tr>\n",
              "  <th>DeviceProtection_Yes</th>                  <td>    0.3229</td> <td>    0.215</td> <td>    1.501</td> <td> 0.133</td> <td>   -0.099</td> <td>    0.744</td>\n",
              "</tr>\n",
              "<tr>\n",
              "  <th>TechSupport_Yes</th>                       <td>   -0.0305</td> <td>    0.216</td> <td>   -0.141</td> <td> 0.888</td> <td>   -0.455</td> <td>    0.394</td>\n",
              "</tr>\n",
              "<tr>\n",
              "  <th>StreamingTV_Yes</th>                       <td>    0.9598</td> <td>    0.396</td> <td>    2.423</td> <td> 0.015</td> <td>    0.183</td> <td>    1.736</td>\n",
              "</tr>\n",
              "<tr>\n",
              "  <th>StreamingMovies_Yes</th>                   <td>    0.8484</td> <td>    0.396</td> <td>    2.143</td> <td> 0.032</td> <td>    0.072</td> <td>    1.624</td>\n",
              "</tr>\n",
              "<tr>\n",
              "  <th>tenure</th>                                <td>   -1.5198</td> <td>    0.190</td> <td>   -8.015</td> <td> 0.000</td> <td>   -1.891</td> <td>   -1.148</td>\n",
              "</tr>\n",
              "<tr>\n",
              "  <th>MonthlyCharges</th>                        <td>   -2.1817</td> <td>    1.160</td> <td>   -1.880</td> <td> 0.060</td> <td>   -4.456</td> <td>    0.092</td>\n",
              "</tr>\n",
              "<tr>\n",
              "  <th>TotalCharges</th>                          <td>    0.7329</td> <td>    0.198</td> <td>    3.705</td> <td> 0.000</td> <td>    0.345</td> <td>    1.121</td>\n",
              "</tr>\n",
              "</table>"
            ]
          },
          "metadata": {},
          "execution_count": 44
        }
      ],
      "source": [
        "# Splitting the data into train and test with train_size=0.7 and random_state=100 again\n",
        "X_train, X_test, y_train, y_test = train_test_split(X,y,train_size=0.7,test_size=0.3,random_state=100)\n",
        "\n",
        "\n",
        "# call logit method on sm and pass train data\n",
        "logm2 =sm.Logit(y_train,X_train)\n",
        "logm2.fit().summary()\n",
        "\n",
        "\n",
        "# call fit and summary on logm2\n",
        "\n"
      ]
    },
    {
      "cell_type": "markdown",
      "metadata": {
        "id": "PXpR0xCX1H3l"
      },
      "source": [
        "Now you can see after removing all multicollinear features we got all P values to zero,  so now we can say that all features are statistically significant.\n",
        "\n",
        "### **`Feature Selection Using RFE`**\n",
        "\n",
        "<p style='text-align: right;'> 5 points</p>\n",
        "\n",
        "\n",
        "Lets do feature selection using LogisticRegression with RFE"
      ]
    },
    {
      "cell_type": "code",
      "execution_count": null,
      "metadata": {
        "id": "nWEc0C_61H3m",
        "outputId": "64d0d76d-6fc6-444a-a3cd-6dfcb0e3302a",
        "colab": {
          "base_uri": "https://localhost:8080/"
        }
      },
      "outputs": [
        {
          "output_type": "stream",
          "name": "stdout",
          "text": [
            "[False False  True False False False  True  True False  True False False\n",
            "  True  True  True False False False False  True  True  True  True  True]\n",
            "[12  4  1  5 13  6  1  1  8  1  9 11  1  1  1  2  7 10  3  1  1  1  1  1]\n"
          ]
        }
      ],
      "source": [
        "# import RFE and LogisticRegression\n",
        "\n",
        "from sklearn.feature_selection import RFE\n",
        "from sklearn.linear_model import LogisticRegression\n",
        "\n",
        "# Initiate LogisticRegression()\n",
        "logreg =LogisticRegression()\n",
        "\n",
        "\n",
        " # Initialise RFE \n",
        "rfe =RFE(logreg)\n",
        "           \n",
        "\n",
        "# fitting RFE \n",
        "rfe = rfe.fit(X,y)\n",
        "\n",
        "\n",
        "# Printing the boolean results\n",
        "print(rfe.support_)\n",
        "    \n",
        "# Printing the ranking\n",
        "print(rfe.ranking_)\n",
        "\n",
        "           "
      ]
    },
    {
      "cell_type": "code",
      "execution_count": null,
      "metadata": {
        "id": "YChCL62I1H3m",
        "outputId": "439d8039-d5ad-42c4-f1b5-30f1ae09874b",
        "colab": {
          "base_uri": "https://localhost:8080/"
        }
      },
      "outputs": [
        {
          "output_type": "execute_result",
          "data": {
            "text/plain": [
              "Index(['PaperlessBilling', 'Contract_One year', 'Contract_Two year',\n",
              "       'PaymentMethod_Electronic check', 'MultipleLines_Yes',\n",
              "       'InternetService_Fiber optic', 'InternetService_No', 'StreamingTV_Yes',\n",
              "       'StreamingMovies_Yes', 'tenure', 'MonthlyCharges', 'TotalCharges'],\n",
              "      dtype='object')"
            ]
          },
          "metadata": {},
          "execution_count": 46
        }
      ],
      "source": [
        "# printing column names which were suppported by RFE\n",
        "X.columns[(rfe.support_)]\n"
      ]
    },
    {
      "cell_type": "code",
      "execution_count": null,
      "metadata": {
        "id": "eb2WtoHD1H3m"
      },
      "outputs": [],
      "source": [
        "# Variables selected by RFE \n",
        "col = ['PaperlessBilling', 'Contract_One year', 'Contract_Two year',\n",
        "       'PaymentMethod_Electronic check', 'MultipleLines_Yes',\n",
        "       'InternetService_Fiber optic', 'InternetService_No', 'StreamingTV_Yes',\n",
        "       'StreamingMovies_Yes', 'tenure', 'MonthlyCharges', 'TotalCharges']\n"
      ]
    },
    {
      "cell_type": "code",
      "execution_count": null,
      "metadata": {
        "id": "ayk_X8eF1H3n",
        "outputId": "ff37c7fa-0698-4d32-a1aa-2ea07bd93310",
        "colab": {
          "base_uri": "https://localhost:8080/"
        }
      },
      "outputs": [
        {
          "output_type": "execute_result",
          "data": {
            "text/plain": [
              "LogisticRegression()"
            ]
          },
          "metadata": {},
          "execution_count": 48
        }
      ],
      "source": [
        "# Let's run the model using the selected variables but this time we will use Logistic Regression\n",
        "from sklearn import metrics\n",
        "\n",
        "#initialise Logistic Regression\n",
        "logsk =LogisticRegression()\n",
        "\n",
        "\n",
        "#fitting model using above columns as input\n",
        "logsk.fit(X_train[col],y_train)\n"
      ]
    },
    {
      "cell_type": "code",
      "execution_count": null,
      "metadata": {
        "id": "PMd9onip1H3n",
        "outputId": "7bd48959-5d8a-4017-e43d-03670f3bc9ae",
        "colab": {
          "base_uri": "https://localhost:8080/",
          "height": 508
        }
      },
      "outputs": [
        {
          "output_type": "stream",
          "name": "stdout",
          "text": [
            "Optimization terminated successfully.\n",
            "         Current function value: 0.441409\n",
            "         Iterations 8\n"
          ]
        },
        {
          "output_type": "execute_result",
          "data": {
            "text/plain": [
              "<class 'statsmodels.iolib.summary.Summary'>\n",
              "\"\"\"\n",
              "                           Logit Regression Results                           \n",
              "==============================================================================\n",
              "Dep. Variable:                  Churn   No. Observations:                 4922\n",
              "Model:                          Logit   Df Residuals:                     4910\n",
              "Method:                           MLE   Df Model:                           11\n",
              "Date:                Thu, 13 Oct 2022   Pseudo R-squ.:                  0.2318\n",
              "Time:                        13:06:34   Log-Likelihood:                -2172.6\n",
              "converged:                       True   LL-Null:                       -2828.2\n",
              "Covariance Type:            nonrobust   LLR p-value:                1.796e-274\n",
              "==================================================================================================\n",
              "                                     coef    std err          z      P>|z|      [0.025      0.975]\n",
              "--------------------------------------------------------------------------------------------------\n",
              "PaperlessBilling                  -0.1033      0.081     -1.279      0.201      -0.262       0.055\n",
              "Contract_One year                 -1.4866      0.115    -12.892      0.000      -1.713      -1.261\n",
              "Contract_Two year                 -2.4876      0.196    -12.663      0.000      -2.873      -2.103\n",
              "PaymentMethod_Electronic check     0.2523      0.080      3.144      0.002       0.095       0.410\n",
              "MultipleLines_Yes                 -0.2945      0.086     -3.413      0.001      -0.464      -0.125\n",
              "InternetService_Fiber optic       -0.4409      0.130     -3.379      0.001      -0.697      -0.185\n",
              "InternetService_No                -0.7165      0.204     -3.520      0.000      -1.115      -0.318\n",
              "StreamingTV_Yes                   -0.2359      0.094     -2.499      0.012      -0.421      -0.051\n",
              "StreamingMovies_Yes               -0.3131      0.093     -3.360      0.001      -0.496      -0.131\n",
              "tenure                            -0.8412      0.165     -5.113      0.000      -1.164      -0.519\n",
              "MonthlyCharges                     0.9508      0.131      7.264      0.000       0.694       1.207\n",
              "TotalCharges                       0.3268      0.181      1.801      0.072      -0.029       0.682\n",
              "==================================================================================================\n",
              "\"\"\""
            ],
            "text/html": [
              "<table class=\"simpletable\">\n",
              "<caption>Logit Regression Results</caption>\n",
              "<tr>\n",
              "  <th>Dep. Variable:</th>         <td>Churn</td>      <th>  No. Observations:  </th>   <td>  4922</td>  \n",
              "</tr>\n",
              "<tr>\n",
              "  <th>Model:</th>                 <td>Logit</td>      <th>  Df Residuals:      </th>   <td>  4910</td>  \n",
              "</tr>\n",
              "<tr>\n",
              "  <th>Method:</th>                 <td>MLE</td>       <th>  Df Model:          </th>   <td>    11</td>  \n",
              "</tr>\n",
              "<tr>\n",
              "  <th>Date:</th>            <td>Thu, 13 Oct 2022</td> <th>  Pseudo R-squ.:     </th>   <td>0.2318</td>  \n",
              "</tr>\n",
              "<tr>\n",
              "  <th>Time:</th>                <td>13:06:34</td>     <th>  Log-Likelihood:    </th>  <td> -2172.6</td> \n",
              "</tr>\n",
              "<tr>\n",
              "  <th>converged:</th>             <td>True</td>       <th>  LL-Null:           </th>  <td> -2828.2</td> \n",
              "</tr>\n",
              "<tr>\n",
              "  <th>Covariance Type:</th>     <td>nonrobust</td>    <th>  LLR p-value:       </th> <td>1.796e-274</td>\n",
              "</tr>\n",
              "</table>\n",
              "<table class=\"simpletable\">\n",
              "<tr>\n",
              "                 <td></td>                   <th>coef</th>     <th>std err</th>      <th>z</th>      <th>P>|z|</th>  <th>[0.025</th>    <th>0.975]</th>  \n",
              "</tr>\n",
              "<tr>\n",
              "  <th>PaperlessBilling</th>               <td>   -0.1033</td> <td>    0.081</td> <td>   -1.279</td> <td> 0.201</td> <td>   -0.262</td> <td>    0.055</td>\n",
              "</tr>\n",
              "<tr>\n",
              "  <th>Contract_One year</th>              <td>   -1.4866</td> <td>    0.115</td> <td>  -12.892</td> <td> 0.000</td> <td>   -1.713</td> <td>   -1.261</td>\n",
              "</tr>\n",
              "<tr>\n",
              "  <th>Contract_Two year</th>              <td>   -2.4876</td> <td>    0.196</td> <td>  -12.663</td> <td> 0.000</td> <td>   -2.873</td> <td>   -2.103</td>\n",
              "</tr>\n",
              "<tr>\n",
              "  <th>PaymentMethod_Electronic check</th> <td>    0.2523</td> <td>    0.080</td> <td>    3.144</td> <td> 0.002</td> <td>    0.095</td> <td>    0.410</td>\n",
              "</tr>\n",
              "<tr>\n",
              "  <th>MultipleLines_Yes</th>              <td>   -0.2945</td> <td>    0.086</td> <td>   -3.413</td> <td> 0.001</td> <td>   -0.464</td> <td>   -0.125</td>\n",
              "</tr>\n",
              "<tr>\n",
              "  <th>InternetService_Fiber optic</th>    <td>   -0.4409</td> <td>    0.130</td> <td>   -3.379</td> <td> 0.001</td> <td>   -0.697</td> <td>   -0.185</td>\n",
              "</tr>\n",
              "<tr>\n",
              "  <th>InternetService_No</th>             <td>   -0.7165</td> <td>    0.204</td> <td>   -3.520</td> <td> 0.000</td> <td>   -1.115</td> <td>   -0.318</td>\n",
              "</tr>\n",
              "<tr>\n",
              "  <th>StreamingTV_Yes</th>                <td>   -0.2359</td> <td>    0.094</td> <td>   -2.499</td> <td> 0.012</td> <td>   -0.421</td> <td>   -0.051</td>\n",
              "</tr>\n",
              "<tr>\n",
              "  <th>StreamingMovies_Yes</th>            <td>   -0.3131</td> <td>    0.093</td> <td>   -3.360</td> <td> 0.001</td> <td>   -0.496</td> <td>   -0.131</td>\n",
              "</tr>\n",
              "<tr>\n",
              "  <th>tenure</th>                         <td>   -0.8412</td> <td>    0.165</td> <td>   -5.113</td> <td> 0.000</td> <td>   -1.164</td> <td>   -0.519</td>\n",
              "</tr>\n",
              "<tr>\n",
              "  <th>MonthlyCharges</th>                 <td>    0.9508</td> <td>    0.131</td> <td>    7.264</td> <td> 0.000</td> <td>    0.694</td> <td>    1.207</td>\n",
              "</tr>\n",
              "<tr>\n",
              "  <th>TotalCharges</th>                   <td>    0.3268</td> <td>    0.181</td> <td>    1.801</td> <td> 0.072</td> <td>   -0.029</td> <td>    0.682</td>\n",
              "</tr>\n",
              "</table>"
            ]
          },
          "metadata": {},
          "execution_count": 49
        }
      ],
      "source": [
        "#recreating the model with StatsModels with RFE selecte columns\n",
        "\n",
        "logm3 =sm.Logit(y_train,X_train[col])\n",
        "logm3.fit().summary()\n"
      ]
    },
    {
      "cell_type": "markdown",
      "metadata": {
        "id": "1znjQrQV1H3n"
      },
      "source": [
        "### **`Making Predictions`**\n",
        "\n",
        "<p style='text-align: right;'> 14 points</p>\n"
      ]
    },
    {
      "cell_type": "code",
      "execution_count": null,
      "metadata": {
        "id": "jKKiSDOw1H3o"
      },
      "outputs": [],
      "source": [
        "# Predicted probabilities\n",
        "y_pred =logsk.predict_proba(X_test[col])\n"
      ]
    },
    {
      "cell_type": "code",
      "execution_count": null,
      "metadata": {
        "id": "KtpTQ-sk1H3o"
      },
      "outputs": [],
      "source": [
        "# Converting y_pred to a dataframe which is an array\n",
        "y_pred_df = pd.DataFrame(y_pred)\n"
      ]
    },
    {
      "cell_type": "code",
      "execution_count": null,
      "metadata": {
        "id": "zkG_TQp61H3o"
      },
      "outputs": [],
      "source": [
        "# Converting to column dataframe\n",
        "y_pred_1 = y_pred_df.iloc[:,[1]]\n"
      ]
    },
    {
      "cell_type": "code",
      "execution_count": null,
      "metadata": {
        "id": "_F_059Zu1H3p",
        "outputId": "b66024ad-9a5a-4873-85ad-44828a94b2b5",
        "colab": {
          "base_uri": "https://localhost:8080/",
          "height": 206
        }
      },
      "outputs": [
        {
          "output_type": "execute_result",
          "data": {
            "text/plain": [
              "          1\n",
              "0  0.471290\n",
              "1  0.320742\n",
              "2  0.005823\n",
              "3  0.616422\n",
              "4  0.006817"
            ],
            "text/html": [
              "\n",
              "  <div id=\"df-b2fec124-4c72-4cd7-b5bd-54cf73179c92\">\n",
              "    <div class=\"colab-df-container\">\n",
              "      <div>\n",
              "<style scoped>\n",
              "    .dataframe tbody tr th:only-of-type {\n",
              "        vertical-align: middle;\n",
              "    }\n",
              "\n",
              "    .dataframe tbody tr th {\n",
              "        vertical-align: top;\n",
              "    }\n",
              "\n",
              "    .dataframe thead th {\n",
              "        text-align: right;\n",
              "    }\n",
              "</style>\n",
              "<table border=\"1\" class=\"dataframe\">\n",
              "  <thead>\n",
              "    <tr style=\"text-align: right;\">\n",
              "      <th></th>\n",
              "      <th>1</th>\n",
              "    </tr>\n",
              "  </thead>\n",
              "  <tbody>\n",
              "    <tr>\n",
              "      <th>0</th>\n",
              "      <td>0.471290</td>\n",
              "    </tr>\n",
              "    <tr>\n",
              "      <th>1</th>\n",
              "      <td>0.320742</td>\n",
              "    </tr>\n",
              "    <tr>\n",
              "      <th>2</th>\n",
              "      <td>0.005823</td>\n",
              "    </tr>\n",
              "    <tr>\n",
              "      <th>3</th>\n",
              "      <td>0.616422</td>\n",
              "    </tr>\n",
              "    <tr>\n",
              "      <th>4</th>\n",
              "      <td>0.006817</td>\n",
              "    </tr>\n",
              "  </tbody>\n",
              "</table>\n",
              "</div>\n",
              "      <button class=\"colab-df-convert\" onclick=\"convertToInteractive('df-b2fec124-4c72-4cd7-b5bd-54cf73179c92')\"\n",
              "              title=\"Convert this dataframe to an interactive table.\"\n",
              "              style=\"display:none;\">\n",
              "        \n",
              "  <svg xmlns=\"http://www.w3.org/2000/svg\" height=\"24px\"viewBox=\"0 0 24 24\"\n",
              "       width=\"24px\">\n",
              "    <path d=\"M0 0h24v24H0V0z\" fill=\"none\"/>\n",
              "    <path d=\"M18.56 5.44l.94 2.06.94-2.06 2.06-.94-2.06-.94-.94-2.06-.94 2.06-2.06.94zm-11 1L8.5 8.5l.94-2.06 2.06-.94-2.06-.94L8.5 2.5l-.94 2.06-2.06.94zm10 10l.94 2.06.94-2.06 2.06-.94-2.06-.94-.94-2.06-.94 2.06-2.06.94z\"/><path d=\"M17.41 7.96l-1.37-1.37c-.4-.4-.92-.59-1.43-.59-.52 0-1.04.2-1.43.59L10.3 9.45l-7.72 7.72c-.78.78-.78 2.05 0 2.83L4 21.41c.39.39.9.59 1.41.59.51 0 1.02-.2 1.41-.59l7.78-7.78 2.81-2.81c.8-.78.8-2.07 0-2.86zM5.41 20L4 18.59l7.72-7.72 1.47 1.35L5.41 20z\"/>\n",
              "  </svg>\n",
              "      </button>\n",
              "      \n",
              "  <style>\n",
              "    .colab-df-container {\n",
              "      display:flex;\n",
              "      flex-wrap:wrap;\n",
              "      gap: 12px;\n",
              "    }\n",
              "\n",
              "    .colab-df-convert {\n",
              "      background-color: #E8F0FE;\n",
              "      border: none;\n",
              "      border-radius: 50%;\n",
              "      cursor: pointer;\n",
              "      display: none;\n",
              "      fill: #1967D2;\n",
              "      height: 32px;\n",
              "      padding: 0 0 0 0;\n",
              "      width: 32px;\n",
              "    }\n",
              "\n",
              "    .colab-df-convert:hover {\n",
              "      background-color: #E2EBFA;\n",
              "      box-shadow: 0px 1px 2px rgba(60, 64, 67, 0.3), 0px 1px 3px 1px rgba(60, 64, 67, 0.15);\n",
              "      fill: #174EA6;\n",
              "    }\n",
              "\n",
              "    [theme=dark] .colab-df-convert {\n",
              "      background-color: #3B4455;\n",
              "      fill: #D2E3FC;\n",
              "    }\n",
              "\n",
              "    [theme=dark] .colab-df-convert:hover {\n",
              "      background-color: #434B5C;\n",
              "      box-shadow: 0px 1px 3px 1px rgba(0, 0, 0, 0.15);\n",
              "      filter: drop-shadow(0px 1px 2px rgba(0, 0, 0, 0.3));\n",
              "      fill: #FFFFFF;\n",
              "    }\n",
              "  </style>\n",
              "\n",
              "      <script>\n",
              "        const buttonEl =\n",
              "          document.querySelector('#df-b2fec124-4c72-4cd7-b5bd-54cf73179c92 button.colab-df-convert');\n",
              "        buttonEl.style.display =\n",
              "          google.colab.kernel.accessAllowed ? 'block' : 'none';\n",
              "\n",
              "        async function convertToInteractive(key) {\n",
              "          const element = document.querySelector('#df-b2fec124-4c72-4cd7-b5bd-54cf73179c92');\n",
              "          const dataTable =\n",
              "            await google.colab.kernel.invokeFunction('convertToInteractive',\n",
              "                                                     [key], {});\n",
              "          if (!dataTable) return;\n",
              "\n",
              "          const docLinkHtml = 'Like what you see? Visit the ' +\n",
              "            '<a target=\"_blank\" href=https://colab.research.google.com/notebooks/data_table.ipynb>data table notebook</a>'\n",
              "            + ' to learn more about interactive tables.';\n",
              "          element.innerHTML = '';\n",
              "          dataTable['output_type'] = 'display_data';\n",
              "          await google.colab.output.renderOutput(dataTable, element);\n",
              "          const docLink = document.createElement('div');\n",
              "          docLink.innerHTML = docLinkHtml;\n",
              "          element.appendChild(docLink);\n",
              "        }\n",
              "      </script>\n",
              "    </div>\n",
              "  </div>\n",
              "  "
            ]
          },
          "metadata": {},
          "execution_count": 53
        }
      ],
      "source": [
        "# Let's see the head\n",
        "y_pred_1.head()\n"
      ]
    },
    {
      "cell_type": "code",
      "execution_count": null,
      "metadata": {
        "id": "Of_15GfG1H3p"
      },
      "outputs": [],
      "source": [
        "# Converting y_test to dataframe\n",
        "y_test_df = pd.DataFrame(y_test)\n"
      ]
    },
    {
      "cell_type": "code",
      "execution_count": null,
      "metadata": {
        "id": "9h9X1ZbJ1H3p"
      },
      "outputs": [],
      "source": [
        "# Putting CustID to index\n",
        "y_test_df['CustID']=y_test_df.index\n"
      ]
    },
    {
      "cell_type": "code",
      "execution_count": null,
      "metadata": {
        "id": "TXnsX8A_1H3q"
      },
      "outputs": [],
      "source": [
        "# Removing index for both dataframes to append them side by side \n",
        "y_pred_1.reset_index(drop=True,inplace=True)\n",
        "y_test_df.reset_index(drop=True,inplace=True)\n",
        "\n"
      ]
    },
    {
      "cell_type": "code",
      "execution_count": null,
      "metadata": {
        "id": "u8cxefdw1H3q",
        "colab": {
          "base_uri": "https://localhost:8080/"
        },
        "outputId": "83954bdd-b25d-4304-a494-9f4bdd08b76f"
      },
      "outputs": [
        {
          "output_type": "stream",
          "name": "stderr",
          "text": [
            "/usr/local/lib/python3.7/dist-packages/ipykernel_launcher.py:2: FutureWarning: In a future version of pandas all arguments of concat except for the argument 'objs' will be keyword-only\n",
            "  \n"
          ]
        }
      ],
      "source": [
        "# Appending y_test_df and y_pred_1\n",
        "y_pred_final =pd.concat([y_test_df,y_pred_1],1)\n"
      ]
    },
    {
      "cell_type": "code",
      "execution_count": null,
      "metadata": {
        "id": "ZUeXOxa21H3q"
      },
      "outputs": [],
      "source": [
        "# Renaming the column \n",
        "y_pred_final= y_pred_final.rename(columns={1:'churn_prob'})\n"
      ]
    },
    {
      "cell_type": "code",
      "source": [],
      "metadata": {
        "id": "UB5FNJrxCK36"
      },
      "execution_count": null,
      "outputs": []
    },
    {
      "cell_type": "code",
      "execution_count": null,
      "metadata": {
        "id": "TQ94ksul1H3r",
        "outputId": "ad1708eb-901a-4e3d-99b9-ca0e50bff84a",
        "colab": {
          "base_uri": "https://localhost:8080/",
          "height": 423
        }
      },
      "outputs": [
        {
          "output_type": "execute_result",
          "data": {
            "text/plain": [
              "      Churn  CustID  churn_prob\n",
              "0         0     942    0.471290\n",
              "1         1    3730    0.320742\n",
              "2         0    1761    0.005823\n",
              "3         1    2283    0.616422\n",
              "4         0    1872    0.006817\n",
              "...     ...     ...         ...\n",
              "2105      0    1289    0.013929\n",
              "2106      0    3508    0.067841\n",
              "2107      0    6765    0.003138\n",
              "2108      0    3598    0.401858\n",
              "2109      0    4987    0.002067\n",
              "\n",
              "[2110 rows x 3 columns]"
            ],
            "text/html": [
              "\n",
              "  <div id=\"df-f5138752-bf81-4850-ba5f-1d5183edd564\">\n",
              "    <div class=\"colab-df-container\">\n",
              "      <div>\n",
              "<style scoped>\n",
              "    .dataframe tbody tr th:only-of-type {\n",
              "        vertical-align: middle;\n",
              "    }\n",
              "\n",
              "    .dataframe tbody tr th {\n",
              "        vertical-align: top;\n",
              "    }\n",
              "\n",
              "    .dataframe thead th {\n",
              "        text-align: right;\n",
              "    }\n",
              "</style>\n",
              "<table border=\"1\" class=\"dataframe\">\n",
              "  <thead>\n",
              "    <tr style=\"text-align: right;\">\n",
              "      <th></th>\n",
              "      <th>Churn</th>\n",
              "      <th>CustID</th>\n",
              "      <th>churn_prob</th>\n",
              "    </tr>\n",
              "  </thead>\n",
              "  <tbody>\n",
              "    <tr>\n",
              "      <th>0</th>\n",
              "      <td>0</td>\n",
              "      <td>942</td>\n",
              "      <td>0.471290</td>\n",
              "    </tr>\n",
              "    <tr>\n",
              "      <th>1</th>\n",
              "      <td>1</td>\n",
              "      <td>3730</td>\n",
              "      <td>0.320742</td>\n",
              "    </tr>\n",
              "    <tr>\n",
              "      <th>2</th>\n",
              "      <td>0</td>\n",
              "      <td>1761</td>\n",
              "      <td>0.005823</td>\n",
              "    </tr>\n",
              "    <tr>\n",
              "      <th>3</th>\n",
              "      <td>1</td>\n",
              "      <td>2283</td>\n",
              "      <td>0.616422</td>\n",
              "    </tr>\n",
              "    <tr>\n",
              "      <th>4</th>\n",
              "      <td>0</td>\n",
              "      <td>1872</td>\n",
              "      <td>0.006817</td>\n",
              "    </tr>\n",
              "    <tr>\n",
              "      <th>...</th>\n",
              "      <td>...</td>\n",
              "      <td>...</td>\n",
              "      <td>...</td>\n",
              "    </tr>\n",
              "    <tr>\n",
              "      <th>2105</th>\n",
              "      <td>0</td>\n",
              "      <td>1289</td>\n",
              "      <td>0.013929</td>\n",
              "    </tr>\n",
              "    <tr>\n",
              "      <th>2106</th>\n",
              "      <td>0</td>\n",
              "      <td>3508</td>\n",
              "      <td>0.067841</td>\n",
              "    </tr>\n",
              "    <tr>\n",
              "      <th>2107</th>\n",
              "      <td>0</td>\n",
              "      <td>6765</td>\n",
              "      <td>0.003138</td>\n",
              "    </tr>\n",
              "    <tr>\n",
              "      <th>2108</th>\n",
              "      <td>0</td>\n",
              "      <td>3598</td>\n",
              "      <td>0.401858</td>\n",
              "    </tr>\n",
              "    <tr>\n",
              "      <th>2109</th>\n",
              "      <td>0</td>\n",
              "      <td>4987</td>\n",
              "      <td>0.002067</td>\n",
              "    </tr>\n",
              "  </tbody>\n",
              "</table>\n",
              "<p>2110 rows × 3 columns</p>\n",
              "</div>\n",
              "      <button class=\"colab-df-convert\" onclick=\"convertToInteractive('df-f5138752-bf81-4850-ba5f-1d5183edd564')\"\n",
              "              title=\"Convert this dataframe to an interactive table.\"\n",
              "              style=\"display:none;\">\n",
              "        \n",
              "  <svg xmlns=\"http://www.w3.org/2000/svg\" height=\"24px\"viewBox=\"0 0 24 24\"\n",
              "       width=\"24px\">\n",
              "    <path d=\"M0 0h24v24H0V0z\" fill=\"none\"/>\n",
              "    <path d=\"M18.56 5.44l.94 2.06.94-2.06 2.06-.94-2.06-.94-.94-2.06-.94 2.06-2.06.94zm-11 1L8.5 8.5l.94-2.06 2.06-.94-2.06-.94L8.5 2.5l-.94 2.06-2.06.94zm10 10l.94 2.06.94-2.06 2.06-.94-2.06-.94-.94-2.06-.94 2.06-2.06.94z\"/><path d=\"M17.41 7.96l-1.37-1.37c-.4-.4-.92-.59-1.43-.59-.52 0-1.04.2-1.43.59L10.3 9.45l-7.72 7.72c-.78.78-.78 2.05 0 2.83L4 21.41c.39.39.9.59 1.41.59.51 0 1.02-.2 1.41-.59l7.78-7.78 2.81-2.81c.8-.78.8-2.07 0-2.86zM5.41 20L4 18.59l7.72-7.72 1.47 1.35L5.41 20z\"/>\n",
              "  </svg>\n",
              "      </button>\n",
              "      \n",
              "  <style>\n",
              "    .colab-df-container {\n",
              "      display:flex;\n",
              "      flex-wrap:wrap;\n",
              "      gap: 12px;\n",
              "    }\n",
              "\n",
              "    .colab-df-convert {\n",
              "      background-color: #E8F0FE;\n",
              "      border: none;\n",
              "      border-radius: 50%;\n",
              "      cursor: pointer;\n",
              "      display: none;\n",
              "      fill: #1967D2;\n",
              "      height: 32px;\n",
              "      padding: 0 0 0 0;\n",
              "      width: 32px;\n",
              "    }\n",
              "\n",
              "    .colab-df-convert:hover {\n",
              "      background-color: #E2EBFA;\n",
              "      box-shadow: 0px 1px 2px rgba(60, 64, 67, 0.3), 0px 1px 3px 1px rgba(60, 64, 67, 0.15);\n",
              "      fill: #174EA6;\n",
              "    }\n",
              "\n",
              "    [theme=dark] .colab-df-convert {\n",
              "      background-color: #3B4455;\n",
              "      fill: #D2E3FC;\n",
              "    }\n",
              "\n",
              "    [theme=dark] .colab-df-convert:hover {\n",
              "      background-color: #434B5C;\n",
              "      box-shadow: 0px 1px 3px 1px rgba(0, 0, 0, 0.15);\n",
              "      filter: drop-shadow(0px 1px 2px rgba(0, 0, 0, 0.3));\n",
              "      fill: #FFFFFF;\n",
              "    }\n",
              "  </style>\n",
              "\n",
              "      <script>\n",
              "        const buttonEl =\n",
              "          document.querySelector('#df-f5138752-bf81-4850-ba5f-1d5183edd564 button.colab-df-convert');\n",
              "        buttonEl.style.display =\n",
              "          google.colab.kernel.accessAllowed ? 'block' : 'none';\n",
              "\n",
              "        async function convertToInteractive(key) {\n",
              "          const element = document.querySelector('#df-f5138752-bf81-4850-ba5f-1d5183edd564');\n",
              "          const dataTable =\n",
              "            await google.colab.kernel.invokeFunction('convertToInteractive',\n",
              "                                                     [key], {});\n",
              "          if (!dataTable) return;\n",
              "\n",
              "          const docLinkHtml = 'Like what you see? Visit the ' +\n",
              "            '<a target=\"_blank\" href=https://colab.research.google.com/notebooks/data_table.ipynb>data table notebook</a>'\n",
              "            + ' to learn more about interactive tables.';\n",
              "          element.innerHTML = '';\n",
              "          dataTable['output_type'] = 'display_data';\n",
              "          await google.colab.output.renderOutput(dataTable, element);\n",
              "          const docLink = document.createElement('div');\n",
              "          docLink.innerHTML = docLinkHtml;\n",
              "          element.appendChild(docLink);\n",
              "        }\n",
              "      </script>\n",
              "    </div>\n",
              "  </div>\n",
              "  "
            ]
          },
          "metadata": {},
          "execution_count": 59
        }
      ],
      "source": [
        "#print y_pred_final\n",
        "y_pred_final\n"
      ]
    },
    {
      "cell_type": "code",
      "execution_count": null,
      "metadata": {
        "id": "_f3enc511H3r"
      },
      "outputs": [],
      "source": [
        "# Rearranging the columns\n",
        "y_pred_final = y_pred_final.reindex(columns=['CustID','Churn','churn_prob'])\n"
      ]
    },
    {
      "cell_type": "code",
      "execution_count": null,
      "metadata": {
        "id": "YSbg8O-B1H3r",
        "outputId": "7c078f71-b24d-4500-fa85-a70f21069a74",
        "colab": {
          "base_uri": "https://localhost:8080/",
          "height": 206
        }
      },
      "outputs": [
        {
          "output_type": "execute_result",
          "data": {
            "text/plain": [
              "   CustID  Churn  churn_prob\n",
              "0     942      0    0.471290\n",
              "1    3730      1    0.320742\n",
              "2    1761      0    0.005823\n",
              "3    2283      1    0.616422\n",
              "4    1872      0    0.006817"
            ],
            "text/html": [
              "\n",
              "  <div id=\"df-102fb532-bc07-4c4e-8479-150c430bfb7e\">\n",
              "    <div class=\"colab-df-container\">\n",
              "      <div>\n",
              "<style scoped>\n",
              "    .dataframe tbody tr th:only-of-type {\n",
              "        vertical-align: middle;\n",
              "    }\n",
              "\n",
              "    .dataframe tbody tr th {\n",
              "        vertical-align: top;\n",
              "    }\n",
              "\n",
              "    .dataframe thead th {\n",
              "        text-align: right;\n",
              "    }\n",
              "</style>\n",
              "<table border=\"1\" class=\"dataframe\">\n",
              "  <thead>\n",
              "    <tr style=\"text-align: right;\">\n",
              "      <th></th>\n",
              "      <th>CustID</th>\n",
              "      <th>Churn</th>\n",
              "      <th>churn_prob</th>\n",
              "    </tr>\n",
              "  </thead>\n",
              "  <tbody>\n",
              "    <tr>\n",
              "      <th>0</th>\n",
              "      <td>942</td>\n",
              "      <td>0</td>\n",
              "      <td>0.471290</td>\n",
              "    </tr>\n",
              "    <tr>\n",
              "      <th>1</th>\n",
              "      <td>3730</td>\n",
              "      <td>1</td>\n",
              "      <td>0.320742</td>\n",
              "    </tr>\n",
              "    <tr>\n",
              "      <th>2</th>\n",
              "      <td>1761</td>\n",
              "      <td>0</td>\n",
              "      <td>0.005823</td>\n",
              "    </tr>\n",
              "    <tr>\n",
              "      <th>3</th>\n",
              "      <td>2283</td>\n",
              "      <td>1</td>\n",
              "      <td>0.616422</td>\n",
              "    </tr>\n",
              "    <tr>\n",
              "      <th>4</th>\n",
              "      <td>1872</td>\n",
              "      <td>0</td>\n",
              "      <td>0.006817</td>\n",
              "    </tr>\n",
              "  </tbody>\n",
              "</table>\n",
              "</div>\n",
              "      <button class=\"colab-df-convert\" onclick=\"convertToInteractive('df-102fb532-bc07-4c4e-8479-150c430bfb7e')\"\n",
              "              title=\"Convert this dataframe to an interactive table.\"\n",
              "              style=\"display:none;\">\n",
              "        \n",
              "  <svg xmlns=\"http://www.w3.org/2000/svg\" height=\"24px\"viewBox=\"0 0 24 24\"\n",
              "       width=\"24px\">\n",
              "    <path d=\"M0 0h24v24H0V0z\" fill=\"none\"/>\n",
              "    <path d=\"M18.56 5.44l.94 2.06.94-2.06 2.06-.94-2.06-.94-.94-2.06-.94 2.06-2.06.94zm-11 1L8.5 8.5l.94-2.06 2.06-.94-2.06-.94L8.5 2.5l-.94 2.06-2.06.94zm10 10l.94 2.06.94-2.06 2.06-.94-2.06-.94-.94-2.06-.94 2.06-2.06.94z\"/><path d=\"M17.41 7.96l-1.37-1.37c-.4-.4-.92-.59-1.43-.59-.52 0-1.04.2-1.43.59L10.3 9.45l-7.72 7.72c-.78.78-.78 2.05 0 2.83L4 21.41c.39.39.9.59 1.41.59.51 0 1.02-.2 1.41-.59l7.78-7.78 2.81-2.81c.8-.78.8-2.07 0-2.86zM5.41 20L4 18.59l7.72-7.72 1.47 1.35L5.41 20z\"/>\n",
              "  </svg>\n",
              "      </button>\n",
              "      \n",
              "  <style>\n",
              "    .colab-df-container {\n",
              "      display:flex;\n",
              "      flex-wrap:wrap;\n",
              "      gap: 12px;\n",
              "    }\n",
              "\n",
              "    .colab-df-convert {\n",
              "      background-color: #E8F0FE;\n",
              "      border: none;\n",
              "      border-radius: 50%;\n",
              "      cursor: pointer;\n",
              "      display: none;\n",
              "      fill: #1967D2;\n",
              "      height: 32px;\n",
              "      padding: 0 0 0 0;\n",
              "      width: 32px;\n",
              "    }\n",
              "\n",
              "    .colab-df-convert:hover {\n",
              "      background-color: #E2EBFA;\n",
              "      box-shadow: 0px 1px 2px rgba(60, 64, 67, 0.3), 0px 1px 3px 1px rgba(60, 64, 67, 0.15);\n",
              "      fill: #174EA6;\n",
              "    }\n",
              "\n",
              "    [theme=dark] .colab-df-convert {\n",
              "      background-color: #3B4455;\n",
              "      fill: #D2E3FC;\n",
              "    }\n",
              "\n",
              "    [theme=dark] .colab-df-convert:hover {\n",
              "      background-color: #434B5C;\n",
              "      box-shadow: 0px 1px 3px 1px rgba(0, 0, 0, 0.15);\n",
              "      filter: drop-shadow(0px 1px 2px rgba(0, 0, 0, 0.3));\n",
              "      fill: #FFFFFF;\n",
              "    }\n",
              "  </style>\n",
              "\n",
              "      <script>\n",
              "        const buttonEl =\n",
              "          document.querySelector('#df-102fb532-bc07-4c4e-8479-150c430bfb7e button.colab-df-convert');\n",
              "        buttonEl.style.display =\n",
              "          google.colab.kernel.accessAllowed ? 'block' : 'none';\n",
              "\n",
              "        async function convertToInteractive(key) {\n",
              "          const element = document.querySelector('#df-102fb532-bc07-4c4e-8479-150c430bfb7e');\n",
              "          const dataTable =\n",
              "            await google.colab.kernel.invokeFunction('convertToInteractive',\n",
              "                                                     [key], {});\n",
              "          if (!dataTable) return;\n",
              "\n",
              "          const docLinkHtml = 'Like what you see? Visit the ' +\n",
              "            '<a target=\"_blank\" href=https://colab.research.google.com/notebooks/data_table.ipynb>data table notebook</a>'\n",
              "            + ' to learn more about interactive tables.';\n",
              "          element.innerHTML = '';\n",
              "          dataTable['output_type'] = 'display_data';\n",
              "          await google.colab.output.renderOutput(dataTable, element);\n",
              "          const docLink = document.createElement('div');\n",
              "          docLink.innerHTML = docLinkHtml;\n",
              "          element.appendChild(docLink);\n",
              "        }\n",
              "      </script>\n",
              "    </div>\n",
              "  </div>\n",
              "  "
            ]
          },
          "metadata": {},
          "execution_count": 61
        }
      ],
      "source": [
        "# Let's see the head of y_pred_final\n",
        "\n",
        "y_pred_final.head()"
      ]
    },
    {
      "cell_type": "code",
      "execution_count": null,
      "metadata": {
        "id": "HktHyogD1H3s"
      },
      "outputs": [],
      "source": [
        "# Creating new column 'predicted' with 1 if Churn_Prob>0.5 else 0\n",
        "y_pred_final['predicted']=y_pred_final.churn_prob.map(lambda x: 1 if x>0.5 else 0)\n"
      ]
    },
    {
      "cell_type": "code",
      "execution_count": null,
      "metadata": {
        "id": "kLiC_mFj1H3s",
        "outputId": "a7417c60-1b64-407a-d52a-21c5b4101807",
        "colab": {
          "base_uri": "https://localhost:8080/",
          "height": 206
        }
      },
      "outputs": [
        {
          "output_type": "execute_result",
          "data": {
            "text/plain": [
              "   CustID  Churn  churn_prob  predicted\n",
              "0     942      0    0.471290          0\n",
              "1    3730      1    0.320742          0\n",
              "2    1761      0    0.005823          0\n",
              "3    2283      1    0.616422          1\n",
              "4    1872      0    0.006817          0"
            ],
            "text/html": [
              "\n",
              "  <div id=\"df-e8377c78-af0b-4cf6-bfb0-73e4e05331fa\">\n",
              "    <div class=\"colab-df-container\">\n",
              "      <div>\n",
              "<style scoped>\n",
              "    .dataframe tbody tr th:only-of-type {\n",
              "        vertical-align: middle;\n",
              "    }\n",
              "\n",
              "    .dataframe tbody tr th {\n",
              "        vertical-align: top;\n",
              "    }\n",
              "\n",
              "    .dataframe thead th {\n",
              "        text-align: right;\n",
              "    }\n",
              "</style>\n",
              "<table border=\"1\" class=\"dataframe\">\n",
              "  <thead>\n",
              "    <tr style=\"text-align: right;\">\n",
              "      <th></th>\n",
              "      <th>CustID</th>\n",
              "      <th>Churn</th>\n",
              "      <th>churn_prob</th>\n",
              "      <th>predicted</th>\n",
              "    </tr>\n",
              "  </thead>\n",
              "  <tbody>\n",
              "    <tr>\n",
              "      <th>0</th>\n",
              "      <td>942</td>\n",
              "      <td>0</td>\n",
              "      <td>0.471290</td>\n",
              "      <td>0</td>\n",
              "    </tr>\n",
              "    <tr>\n",
              "      <th>1</th>\n",
              "      <td>3730</td>\n",
              "      <td>1</td>\n",
              "      <td>0.320742</td>\n",
              "      <td>0</td>\n",
              "    </tr>\n",
              "    <tr>\n",
              "      <th>2</th>\n",
              "      <td>1761</td>\n",
              "      <td>0</td>\n",
              "      <td>0.005823</td>\n",
              "      <td>0</td>\n",
              "    </tr>\n",
              "    <tr>\n",
              "      <th>3</th>\n",
              "      <td>2283</td>\n",
              "      <td>1</td>\n",
              "      <td>0.616422</td>\n",
              "      <td>1</td>\n",
              "    </tr>\n",
              "    <tr>\n",
              "      <th>4</th>\n",
              "      <td>1872</td>\n",
              "      <td>0</td>\n",
              "      <td>0.006817</td>\n",
              "      <td>0</td>\n",
              "    </tr>\n",
              "  </tbody>\n",
              "</table>\n",
              "</div>\n",
              "      <button class=\"colab-df-convert\" onclick=\"convertToInteractive('df-e8377c78-af0b-4cf6-bfb0-73e4e05331fa')\"\n",
              "              title=\"Convert this dataframe to an interactive table.\"\n",
              "              style=\"display:none;\">\n",
              "        \n",
              "  <svg xmlns=\"http://www.w3.org/2000/svg\" height=\"24px\"viewBox=\"0 0 24 24\"\n",
              "       width=\"24px\">\n",
              "    <path d=\"M0 0h24v24H0V0z\" fill=\"none\"/>\n",
              "    <path d=\"M18.56 5.44l.94 2.06.94-2.06 2.06-.94-2.06-.94-.94-2.06-.94 2.06-2.06.94zm-11 1L8.5 8.5l.94-2.06 2.06-.94-2.06-.94L8.5 2.5l-.94 2.06-2.06.94zm10 10l.94 2.06.94-2.06 2.06-.94-2.06-.94-.94-2.06-.94 2.06-2.06.94z\"/><path d=\"M17.41 7.96l-1.37-1.37c-.4-.4-.92-.59-1.43-.59-.52 0-1.04.2-1.43.59L10.3 9.45l-7.72 7.72c-.78.78-.78 2.05 0 2.83L4 21.41c.39.39.9.59 1.41.59.51 0 1.02-.2 1.41-.59l7.78-7.78 2.81-2.81c.8-.78.8-2.07 0-2.86zM5.41 20L4 18.59l7.72-7.72 1.47 1.35L5.41 20z\"/>\n",
              "  </svg>\n",
              "      </button>\n",
              "      \n",
              "  <style>\n",
              "    .colab-df-container {\n",
              "      display:flex;\n",
              "      flex-wrap:wrap;\n",
              "      gap: 12px;\n",
              "    }\n",
              "\n",
              "    .colab-df-convert {\n",
              "      background-color: #E8F0FE;\n",
              "      border: none;\n",
              "      border-radius: 50%;\n",
              "      cursor: pointer;\n",
              "      display: none;\n",
              "      fill: #1967D2;\n",
              "      height: 32px;\n",
              "      padding: 0 0 0 0;\n",
              "      width: 32px;\n",
              "    }\n",
              "\n",
              "    .colab-df-convert:hover {\n",
              "      background-color: #E2EBFA;\n",
              "      box-shadow: 0px 1px 2px rgba(60, 64, 67, 0.3), 0px 1px 3px 1px rgba(60, 64, 67, 0.15);\n",
              "      fill: #174EA6;\n",
              "    }\n",
              "\n",
              "    [theme=dark] .colab-df-convert {\n",
              "      background-color: #3B4455;\n",
              "      fill: #D2E3FC;\n",
              "    }\n",
              "\n",
              "    [theme=dark] .colab-df-convert:hover {\n",
              "      background-color: #434B5C;\n",
              "      box-shadow: 0px 1px 3px 1px rgba(0, 0, 0, 0.15);\n",
              "      filter: drop-shadow(0px 1px 2px rgba(0, 0, 0, 0.3));\n",
              "      fill: #FFFFFF;\n",
              "    }\n",
              "  </style>\n",
              "\n",
              "      <script>\n",
              "        const buttonEl =\n",
              "          document.querySelector('#df-e8377c78-af0b-4cf6-bfb0-73e4e05331fa button.colab-df-convert');\n",
              "        buttonEl.style.display =\n",
              "          google.colab.kernel.accessAllowed ? 'block' : 'none';\n",
              "\n",
              "        async function convertToInteractive(key) {\n",
              "          const element = document.querySelector('#df-e8377c78-af0b-4cf6-bfb0-73e4e05331fa');\n",
              "          const dataTable =\n",
              "            await google.colab.kernel.invokeFunction('convertToInteractive',\n",
              "                                                     [key], {});\n",
              "          if (!dataTable) return;\n",
              "\n",
              "          const docLinkHtml = 'Like what you see? Visit the ' +\n",
              "            '<a target=\"_blank\" href=https://colab.research.google.com/notebooks/data_table.ipynb>data table notebook</a>'\n",
              "            + ' to learn more about interactive tables.';\n",
              "          element.innerHTML = '';\n",
              "          dataTable['output_type'] = 'display_data';\n",
              "          await google.colab.output.renderOutput(dataTable, element);\n",
              "          const docLink = document.createElement('div');\n",
              "          docLink.innerHTML = docLinkHtml;\n",
              "          element.appendChild(docLink);\n",
              "        }\n",
              "      </script>\n",
              "    </div>\n",
              "  </div>\n",
              "  "
            ]
          },
          "metadata": {},
          "execution_count": 63
        }
      ],
      "source": [
        "# Let's see the head\n",
        "y_pred_final.head()\n"
      ]
    },
    {
      "cell_type": "code",
      "execution_count": null,
      "metadata": {
        "id": "lwo8VRBu1H3t"
      },
      "outputs": [],
      "source": [
        "# import metrics \n",
        "from sklearn import metrics\n"
      ]
    },
    {
      "cell_type": "code",
      "execution_count": null,
      "metadata": {
        "id": "z-K9JTfV1H3t",
        "outputId": "8c6a5c04-bad0-4887-c815-652df4af90d4",
        "colab": {
          "base_uri": "https://localhost:8080/"
        }
      },
      "outputs": [
        {
          "output_type": "stream",
          "name": "stdout",
          "text": [
            "Help on function confusion_matrix in module sklearn.metrics._classification:\n",
            "\n",
            "confusion_matrix(y_true, y_pred, *, labels=None, sample_weight=None, normalize=None)\n",
            "    Compute confusion matrix to evaluate the accuracy of a classification.\n",
            "    \n",
            "    By definition a confusion matrix :math:`C` is such that :math:`C_{i, j}`\n",
            "    is equal to the number of observations known to be in group :math:`i` and\n",
            "    predicted to be in group :math:`j`.\n",
            "    \n",
            "    Thus in binary classification, the count of true negatives is\n",
            "    :math:`C_{0,0}`, false negatives is :math:`C_{1,0}`, true positives is\n",
            "    :math:`C_{1,1}` and false positives is :math:`C_{0,1}`.\n",
            "    \n",
            "    Read more in the :ref:`User Guide <confusion_matrix>`.\n",
            "    \n",
            "    Parameters\n",
            "    ----------\n",
            "    y_true : array-like of shape (n_samples,)\n",
            "        Ground truth (correct) target values.\n",
            "    \n",
            "    y_pred : array-like of shape (n_samples,)\n",
            "        Estimated targets as returned by a classifier.\n",
            "    \n",
            "    labels : array-like of shape (n_classes), default=None\n",
            "        List of labels to index the matrix. This may be used to reorder\n",
            "        or select a subset of labels.\n",
            "        If ``None`` is given, those that appear at least once\n",
            "        in ``y_true`` or ``y_pred`` are used in sorted order.\n",
            "    \n",
            "    sample_weight : array-like of shape (n_samples,), default=None\n",
            "        Sample weights.\n",
            "    \n",
            "        .. versionadded:: 0.18\n",
            "    \n",
            "    normalize : {'true', 'pred', 'all'}, default=None\n",
            "        Normalizes confusion matrix over the true (rows), predicted (columns)\n",
            "        conditions or all the population. If None, confusion matrix will not be\n",
            "        normalized.\n",
            "    \n",
            "    Returns\n",
            "    -------\n",
            "    C : ndarray of shape (n_classes, n_classes)\n",
            "        Confusion matrix whose i-th row and j-th\n",
            "        column entry indicates the number of\n",
            "        samples with true label being i-th class\n",
            "        and predicted label being j-th class.\n",
            "    \n",
            "    See Also\n",
            "    --------\n",
            "    ConfusionMatrixDisplay.from_estimator : Plot the confusion matrix\n",
            "        given an estimator, the data, and the label.\n",
            "    ConfusionMatrixDisplay.from_predictions : Plot the confusion matrix\n",
            "        given the true and predicted labels.\n",
            "    ConfusionMatrixDisplay : Confusion Matrix visualization.\n",
            "    \n",
            "    References\n",
            "    ----------\n",
            "    .. [1] `Wikipedia entry for the Confusion matrix\n",
            "           <https://en.wikipedia.org/wiki/Confusion_matrix>`_\n",
            "           (Wikipedia and other references may use a different\n",
            "           convention for axes).\n",
            "    \n",
            "    Examples\n",
            "    --------\n",
            "    >>> from sklearn.metrics import confusion_matrix\n",
            "    >>> y_true = [2, 0, 2, 2, 0, 1]\n",
            "    >>> y_pred = [0, 0, 2, 2, 0, 2]\n",
            "    >>> confusion_matrix(y_true, y_pred)\n",
            "    array([[2, 0, 0],\n",
            "           [0, 0, 1],\n",
            "           [1, 0, 2]])\n",
            "    \n",
            "    >>> y_true = [\"cat\", \"ant\", \"cat\", \"cat\", \"ant\", \"bird\"]\n",
            "    >>> y_pred = [\"ant\", \"ant\", \"cat\", \"cat\", \"ant\", \"cat\"]\n",
            "    >>> confusion_matrix(y_true, y_pred, labels=[\"ant\", \"bird\", \"cat\"])\n",
            "    array([[2, 0, 0],\n",
            "           [0, 0, 1],\n",
            "           [1, 0, 2]])\n",
            "    \n",
            "    In the binary case, we can extract true positives, etc as follows:\n",
            "    \n",
            "    >>> tn, fp, fn, tp = confusion_matrix([0, 1, 0, 1], [1, 1, 1, 0]).ravel()\n",
            "    >>> (tn, fp, fn, tp)\n",
            "    (0, 2, 1, 1)\n",
            "\n"
          ]
        }
      ],
      "source": [
        "# Lets check what all things python provides us in confusion matrix using help function.\n",
        "help(metrics.confusion_matrix)\n"
      ]
    },
    {
      "cell_type": "code",
      "execution_count": null,
      "metadata": {
        "id": "N2gG2DZp1H3u",
        "outputId": "17ad07c6-9212-44d1-9299-afce4715dca2",
        "colab": {
          "base_uri": "https://localhost:8080/"
        }
      },
      "outputs": [
        {
          "output_type": "stream",
          "name": "stdout",
          "text": [
            "[[1356  172]\n",
            " [ 251  331]]\n"
          ]
        }
      ],
      "source": [
        "# get Confusion matrix \n",
        "confusion = metrics.confusion_matrix(y_pred_final.Churn,y_pred_final.predicted)\n",
        "print(confusion)"
      ]
    },
    {
      "cell_type": "code",
      "execution_count": null,
      "metadata": {
        "id": "4clwKBRm1H3u"
      },
      "outputs": [],
      "source": [
        "# meaning of above confusion matrix is\n",
        "\n",
        "# Predicted     not_churn    churn\n",
        "# Actual\n",
        "# not_churn        1363      165\n",
        "# churn            273       309"
      ]
    },
    {
      "cell_type": "code",
      "execution_count": null,
      "metadata": {
        "id": "CCLpWh1N1H3u",
        "outputId": "42883382-dc75-4d50-9cd7-40258f6f4b16",
        "colab": {
          "base_uri": "https://localhost:8080/"
        }
      },
      "outputs": [
        {
          "output_type": "execute_result",
          "data": {
            "text/plain": [
              "0.7995260663507109"
            ]
          },
          "metadata": {},
          "execution_count": 67
        }
      ],
      "source": [
        "#Let's check the overall accuracy.\n",
        "metrics.accuracy_score(y_pred_final.Churn,y_pred_final.predicted)\n"
      ]
    },
    {
      "cell_type": "code",
      "execution_count": null,
      "metadata": {
        "id": "zSNRqJHr1H3v"
      },
      "outputs": [],
      "source": [
        "# Lets check true positive ,true negatives,false positives and false negatives\n",
        "\n",
        "TP = confusion[1,1]               # true positive \n",
        "TN = confusion[0,0]               # true negatives\n",
        "FP = confusion[0,1]              # false positives\n",
        "FN = confusion[1,0]              # false negatives"
      ]
    },
    {
      "cell_type": "code",
      "execution_count": null,
      "metadata": {
        "id": "PtHGFHO51H3v",
        "outputId": "7bf5057f-1fb3-4177-f906-64d25ca03ad3",
        "colab": {
          "base_uri": "https://localhost:8080/"
        }
      },
      "outputs": [
        {
          "output_type": "execute_result",
          "data": {
            "text/plain": [
              "0.658051689860835"
            ]
          },
          "metadata": {},
          "execution_count": 69
        }
      ],
      "source": [
        "# Let's see the sensitivity of our logistic regression model\n",
        "TP/float(TP+FP)\n"
      ]
    },
    {
      "cell_type": "code",
      "execution_count": null,
      "metadata": {
        "id": "ahBYnwy21H3v",
        "outputId": "f79d5ac1-0fc3-4535-e367-aaa5e0f6d25a",
        "colab": {
          "base_uri": "https://localhost:8080/"
        }
      },
      "outputs": [
        {
          "output_type": "execute_result",
          "data": {
            "text/plain": [
              "0.887434554973822"
            ]
          },
          "metadata": {},
          "execution_count": 70
        }
      ],
      "source": [
        "# Let us calculate specificity\n",
        "TN/float(FP+TN)\n"
      ]
    },
    {
      "cell_type": "code",
      "execution_count": null,
      "metadata": {
        "id": "8yUiu9wD1H3w",
        "outputId": "26997901-7c42-44cc-b773-c0d41e13c2b9",
        "colab": {
          "base_uri": "https://localhost:8080/"
        }
      },
      "outputs": [
        {
          "output_type": "execute_result",
          "data": {
            "text/plain": [
              "0.112565445026178"
            ]
          },
          "metadata": {},
          "execution_count": 71
        }
      ],
      "source": [
        "# Calculate false postive rate - predicting churn when customer does not have churned\n",
        "\n",
        "FP/float(FP+TN)"
      ]
    },
    {
      "cell_type": "code",
      "execution_count": null,
      "metadata": {
        "id": "JQ1y9gL01H3w",
        "outputId": "ffd2241c-bf11-4511-81c4-015f266b82aa",
        "colab": {
          "base_uri": "https://localhost:8080/"
        }
      },
      "outputs": [
        {
          "output_type": "execute_result",
          "data": {
            "text/plain": [
              "0.658051689860835"
            ]
          },
          "metadata": {},
          "execution_count": 72
        }
      ],
      "source": [
        "# positive predictive value #Precison\n",
        "TP/float(FP+TP)\n"
      ]
    },
    {
      "cell_type": "code",
      "execution_count": null,
      "metadata": {
        "id": "RjTXKBX41H3w",
        "outputId": "8e6c6c58-3334-4a6f-af87-14dfcc777775",
        "colab": {
          "base_uri": "https://localhost:8080/"
        }
      },
      "outputs": [
        {
          "output_type": "execute_result",
          "data": {
            "text/plain": [
              "0.8438083385189795"
            ]
          },
          "metadata": {},
          "execution_count": 73
        }
      ],
      "source": [
        "# Negative predictive value\n",
        "TN/float(TN+FN)\n"
      ]
    },
    {
      "cell_type": "markdown",
      "metadata": {
        "id": "4skjd4J41H3x"
      },
      "source": [
        "You can also use classification_report to get precision, recall, f1-score, support"
      ]
    },
    {
      "cell_type": "code",
      "execution_count": null,
      "metadata": {
        "id": "TDyES9EK1H3x",
        "outputId": "a348d9d1-8833-4115-db8a-19ff6630b963",
        "colab": {
          "base_uri": "https://localhost:8080/"
        }
      },
      "outputs": [
        {
          "output_type": "stream",
          "name": "stdout",
          "text": [
            "              precision    recall  f1-score   support\n",
            "\n",
            "           0       0.84      0.89      0.87      1528\n",
            "           1       0.66      0.57      0.61       582\n",
            "\n",
            "    accuracy                           0.80      2110\n",
            "   macro avg       0.75      0.73      0.74      2110\n",
            "weighted avg       0.79      0.80      0.79      2110\n",
            "\n"
          ]
        }
      ],
      "source": [
        "#  import classification_report\n",
        "from sklearn.metrics import classification_report\n",
        "# print classification_report\n",
        "print(classification_report(y_pred_final.Churn,y_pred_final.predicted))\n"
      ]
    },
    {
      "cell_type": "code",
      "execution_count": null,
      "metadata": {
        "id": "V0NtSBGq1H3y"
      },
      "outputs": [],
      "source": [
        "# Here we have given you a function to plot ROC curve\n",
        "\n",
        "def draw_roc( actual, probs ):\n",
        "    fpr, tpr, thresholds = metrics.roc_curve( actual, probs,\n",
        "                                              drop_intermediate = False )\n",
        "    auc_score = metrics.roc_auc_score( actual, probs )\n",
        "    plt.figure(figsize=(6, 4))\n",
        "    plt.plot( fpr, tpr, label='ROC curve (area = %0.2f)' % auc_score )\n",
        "    plt.plot([0, 1], [0, 1], 'k--')\n",
        "    plt.xlim([0.0, 1.0])\n",
        "    plt.ylim([0.0, 1.05])\n",
        "    plt.xlabel('False Positive Rate or [1 - True Negative Rate]')\n",
        "    plt.ylabel('True Positive Rate')\n",
        "    plt.title('Receiver operating characteristic example')\n",
        "    plt.legend(loc=\"lower right\")\n",
        "    plt.show()\n",
        "\n",
        "    return fpr, tpr, thresholds"
      ]
    },
    {
      "cell_type": "code",
      "execution_count": null,
      "metadata": {
        "id": "aqnNBU601H3z",
        "outputId": "7f160fd5-3fcd-43f1-ed2d-c5b5424bfca3",
        "colab": {
          "base_uri": "https://localhost:8080/",
          "height": 349
        }
      },
      "outputs": [
        {
          "output_type": "display_data",
          "data": {
            "text/plain": [
              "<Figure size 432x288 with 1 Axes>"
            ],
            "image/png": "[encoded data removed]"
          },
          "metadata": {
            "needs_background": "light"
          }
        },
        {
          "output_type": "execute_result",
          "data": {
            "text/plain": [
              "(array([0.        , 0.11256545, 1.        ]),\n",
              " array([0.        , 0.56872852, 1.        ]),\n",
              " array([2, 1, 0]))"
            ]
          },
          "metadata": {},
          "execution_count": 76
        }
      ],
      "source": [
        "# Use above function to plot ROC curve\n",
        "\n",
        "draw_roc(y_pred_final.Churn,y_pred_final.predicted)"
      ]
    },
    {
      "cell_type": "code",
      "execution_count": null,
      "metadata": {
        "id": "j12ZEeuy1H3z",
        "outputId": "c1f7f777-f9a7-4344-dd60-065ab9e54437",
        "colab": {
          "base_uri": "https://localhost:8080/"
        }
      },
      "outputs": [
        {
          "output_type": "stream",
          "name": "stdout",
          "text": [
            "   CustID  Churn  churn_prob  predicted  0.0  0.1  0.2  0.3  0.4  0.5  0.6  \\\n",
            "0     942      0    0.471290          0    1    1    1    1    1    0    0   \n",
            "1    3730      1    0.320742          0    1    1    1    1    0    0    0   \n",
            "2    1761      0    0.005823          0    1    0    0    0    0    0    0   \n",
            "3    2283      1    0.616422          1    1    1    1    1    1    1    1   \n",
            "4    1872      0    0.006817          0    1    0    0    0    0    0    0   \n",
            "\n",
            "   0.7  0.8  0.9  \n",
            "0    0    0    0  \n",
            "1    0    0    0  \n",
            "2    0    0    0  \n",
            "3    0    0    0  \n",
            "4    0    0    0  \n"
          ]
        }
      ],
      "source": [
        "# Let's create columns with different probability cutoffs \n",
        "\n",
        "numbers =[float(x)/10 for x in range(10)] \n",
        "\n",
        "# loop numbers and append churn probability to y_pred_final for different prob cutoff \n",
        "for i in numbers:\n",
        "    y_pred_final[i]=  y_pred_final.churn_prob.map(lambda x: 1 if x>i else 0)\n",
        "\n",
        "    \n",
        "# print  y_pred_final head\n",
        "print(y_pred_final.head())"
      ]
    },
    {
      "cell_type": "code",
      "execution_count": null,
      "metadata": {
        "id": "Y7AOLAhU1H34",
        "outputId": "2cb7f6b4-736b-4935-a573-8f1c5fe6d21c",
        "colab": {
          "base_uri": "https://localhost:8080/"
        }
      },
      "outputs": [
        {
          "output_type": "stream",
          "name": "stdout",
          "text": [
            "     prob  accuracy     sensi     speci\n",
            "0.0   0.0  0.275829  0.000000  1.000000\n",
            "0.1   0.1  0.606635  0.477749  0.945017\n",
            "0.2   0.2  0.701422  0.648560  0.840206\n",
            "0.3   0.3  0.749289  0.748037  0.752577\n",
            "0.4   0.4  0.782464  0.827225  0.664948\n",
            "0.5   0.5  0.799526  0.887435  0.568729\n",
            "0.6   0.6  0.790995  0.943717  0.390034\n",
            "0.7   0.7  0.757820  0.981021  0.171821\n",
            "0.8   0.8  0.727488  1.000000  0.012027\n",
            "0.9   0.9  0.724171  1.000000  0.000000\n"
          ]
        }
      ],
      "source": [
        "# Create an empty dataframe with columns 'prob','accuracy','sensi' and 'speci'\n",
        "cutoff_df =pd.DataFrame(columns=['prob','accuracy','sensi' ,'speci'])\n",
        "\n",
        "num = [0.0,0.1,0.2,0.3,0.4,0.5,0.6,0.7,0.8,0.9]\n",
        "\n",
        "#iterate through num\n",
        "for i in num:\n",
        "    #calculate confusion metrics\n",
        "    cm1 =metrics.confusion_matrix(y_pred_final.Churn,y_pred_final[i])\n",
        "    \n",
        "    #total in cm1\n",
        "    total1=sum(sum(cm1))\n",
        "    \n",
        "    #Calculate accuracy\n",
        "    accuracy =(cm1[0,0]+cm1[1,1])/total1\n",
        "    \n",
        "    #calculate specificity\n",
        "    speci =cm1[0,0]/(cm1[0,0]+cm1[0,1])\n",
        "    \n",
        "    #calculate sensitivity\n",
        "    sensi = cm1[1,1]/(cm1[1,1]+cm1[1,0])\n",
        "    \n",
        "    #append rows in cutoff_df with cutoff values, accuracy, sensitivity and specificity\n",
        "    cutoff_df.loc[i] =[i,accuracy,speci,sensi]\n",
        "\n",
        "print(cutoff_df)\n",
        "\n"
      ]
    },
    {
      "cell_type": "code",
      "execution_count": null,
      "metadata": {
        "id": "3chWtzbs1H34",
        "outputId": "72cb3c5b-15bd-4221-bd3c-737a32008351",
        "colab": {
          "base_uri": "https://localhost:8080/",
          "height": 297
        }
      },
      "outputs": [
        {
          "output_type": "execute_result",
          "data": {
            "text/plain": [
              "<matplotlib.axes._subplots.AxesSubplot at 0x7fbde238ffd0>"
            ]
          },
          "metadata": {},
          "execution_count": 79
        },
        {
          "output_type": "display_data",
          "data": {
            "text/plain": [
              "<Figure size 432x288 with 1 Axes>"
            ],
            "image/png": "[encoded data removed]"
          },
          "metadata": {
            "needs_background": "light"
          }
        }
      ],
      "source": [
        "# Let's plot accuracy sensitivity and specificity for various probabilities.\n",
        "\n",
        "cutoff_df.plot.line(x='prob',y=['accuracy','sensi','speci'])"
      ]
    },
    {
      "cell_type": "code",
      "source": [],
      "metadata": {
        "id": "QaeSEsOrghJU"
      },
      "execution_count": null,
      "outputs": []
    },
    {
      "cell_type": "code",
      "execution_count": null,
      "metadata": {
        "id": "zELSnMG91H35"
      },
      "outputs": [],
      "source": [
        "# Now lets get another column with final_predicted which has 0.3 cutoff probability\n",
        "y_pred_final['final_pred']=y_pred_final.churn_prob.map(lambda x: 1 if x>0.3 else 0)\n",
        "\n"
      ]
    },
    {
      "cell_type": "code",
      "execution_count": null,
      "metadata": {
        "id": "KrIDIUxe1H36",
        "outputId": "92abb98a-22c2-4ab2-ad2a-b624a32e9d36",
        "colab": {
          "base_uri": "https://localhost:8080/",
          "height": 206
        }
      },
      "outputs": [
        {
          "output_type": "execute_result",
          "data": {
            "text/plain": [
              "   CustID  Churn  churn_prob  predicted  0.0  0.1  0.2  0.3  0.4  0.5  0.6  \\\n",
              "0     942      0    0.471290          0    1    1    1    1    1    0    0   \n",
              "1    3730      1    0.320742          0    1    1    1    1    0    0    0   \n",
              "2    1761      0    0.005823          0    1    0    0    0    0    0    0   \n",
              "3    2283      1    0.616422          1    1    1    1    1    1    1    1   \n",
              "4    1872      0    0.006817          0    1    0    0    0    0    0    0   \n",
              "\n",
              "   0.7  0.8  0.9  final_pred  \n",
              "0    0    0    0           1  \n",
              "1    0    0    0           1  \n",
              "2    0    0    0           0  \n",
              "3    0    0    0           1  \n",
              "4    0    0    0           0  "
            ],
            "text/html": [
              "\n",
              "  <div id=\"df-e31f62b1-5a9f-482e-9a15-984eeb0e9df7\">\n",
              "    <div class=\"colab-df-container\">\n",
              "      <div>\n",
              "<style scoped>\n",
              "    .dataframe tbody tr th:only-of-type {\n",
              "        vertical-align: middle;\n",
              "    }\n",
              "\n",
              "    .dataframe tbody tr th {\n",
              "        vertical-align: top;\n",
              "    }\n",
              "\n",
              "    .dataframe thead th {\n",
              "        text-align: right;\n",
              "    }\n",
              "</style>\n",
              "<table border=\"1\" class=\"dataframe\">\n",
              "  <thead>\n",
              "    <tr style=\"text-align: right;\">\n",
              "      <th></th>\n",
              "      <th>CustID</th>\n",
              "      <th>Churn</th>\n",
              "      <th>churn_prob</th>\n",
              "      <th>predicted</th>\n",
              "      <th>0.0</th>\n",
              "      <th>0.1</th>\n",
              "      <th>0.2</th>\n",
              "      <th>0.3</th>\n",
              "      <th>0.4</th>\n",
              "      <th>0.5</th>\n",
              "      <th>0.6</th>\n",
              "      <th>0.7</th>\n",
              "      <th>0.8</th>\n",
              "      <th>0.9</th>\n",
              "      <th>final_pred</th>\n",
              "    </tr>\n",
              "  </thead>\n",
              "  <tbody>\n",
              "    <tr>\n",
              "      <th>0</th>\n",
              "      <td>942</td>\n",
              "      <td>0</td>\n",
              "      <td>0.471290</td>\n",
              "      <td>0</td>\n",
              "      <td>1</td>\n",
              "      <td>1</td>\n",
              "      <td>1</td>\n",
              "      <td>1</td>\n",
              "      <td>1</td>\n",
              "      <td>0</td>\n",
              "      <td>0</td>\n",
              "      <td>0</td>\n",
              "      <td>0</td>\n",
              "      <td>0</td>\n",
              "      <td>1</td>\n",
              "    </tr>\n",
              "    <tr>\n",
              "      <th>1</th>\n",
              "      <td>3730</td>\n",
              "      <td>1</td>\n",
              "      <td>0.320742</td>\n",
              "      <td>0</td>\n",
              "      <td>1</td>\n",
              "      <td>1</td>\n",
              "      <td>1</td>\n",
              "      <td>1</td>\n",
              "      <td>0</td>\n",
              "      <td>0</td>\n",
              "      <td>0</td>\n",
              "      <td>0</td>\n",
              "      <td>0</td>\n",
              "      <td>0</td>\n",
              "      <td>1</td>\n",
              "    </tr>\n",
              "    <tr>\n",
              "      <th>2</th>\n",
              "      <td>1761</td>\n",
              "      <td>0</td>\n",
              "      <td>0.005823</td>\n",
              "      <td>0</td>\n",
              "      <td>1</td>\n",
              "      <td>0</td>\n",
              "      <td>0</td>\n",
              "      <td>0</td>\n",
              "      <td>0</td>\n",
              "      <td>0</td>\n",
              "      <td>0</td>\n",
              "      <td>0</td>\n",
              "      <td>0</td>\n",
              "      <td>0</td>\n",
              "      <td>0</td>\n",
              "    </tr>\n",
              "    <tr>\n",
              "      <th>3</th>\n",
              "      <td>2283</td>\n",
              "      <td>1</td>\n",
              "      <td>0.616422</td>\n",
              "      <td>1</td>\n",
              "      <td>1</td>\n",
              "      <td>1</td>\n",
              "      <td>1</td>\n",
              "      <td>1</td>\n",
              "      <td>1</td>\n",
              "      <td>1</td>\n",
              "      <td>1</td>\n",
              "      <td>0</td>\n",
              "      <td>0</td>\n",
              "      <td>0</td>\n",
              "      <td>1</td>\n",
              "    </tr>\n",
              "    <tr>\n",
              "      <th>4</th>\n",
              "      <td>1872</td>\n",
              "      <td>0</td>\n",
              "      <td>0.006817</td>\n",
              "      <td>0</td>\n",
              "      <td>1</td>\n",
              "      <td>0</td>\n",
              "      <td>0</td>\n",
              "      <td>0</td>\n",
              "      <td>0</td>\n",
              "      <td>0</td>\n",
              "      <td>0</td>\n",
              "      <td>0</td>\n",
              "      <td>0</td>\n",
              "      <td>0</td>\n",
              "      <td>0</td>\n",
              "    </tr>\n",
              "  </tbody>\n",
              "</table>\n",
              "</div>\n",
              "      <button class=\"colab-df-convert\" onclick=\"convertToInteractive('df-e31f62b1-5a9f-482e-9a15-984eeb0e9df7')\"\n",
              "              title=\"Convert this dataframe to an interactive table.\"\n",
              "              style=\"display:none;\">\n",
              "        \n",
              "  <svg xmlns=\"http://www.w3.org/2000/svg\" height=\"24px\"viewBox=\"0 0 24 24\"\n",
              "       width=\"24px\">\n",
              "    <path d=\"M0 0h24v24H0V0z\" fill=\"none\"/>\n",
              "    <path d=\"M18.56 5.44l.94 2.06.94-2.06 2.06-.94-2.06-.94-.94-2.06-.94 2.06-2.06.94zm-11 1L8.5 8.5l.94-2.06 2.06-.94-2.06-.94L8.5 2.5l-.94 2.06-2.06.94zm10 10l.94 2.06.94-2.06 2.06-.94-2.06-.94-.94-2.06-.94 2.06-2.06.94z\"/><path d=\"M17.41 7.96l-1.37-1.37c-.4-.4-.92-.59-1.43-.59-.52 0-1.04.2-1.43.59L10.3 9.45l-7.72 7.72c-.78.78-.78 2.05 0 2.83L4 21.41c.39.39.9.59 1.41.59.51 0 1.02-.2 1.41-.59l7.78-7.78 2.81-2.81c.8-.78.8-2.07 0-2.86zM5.41 20L4 18.59l7.72-7.72 1.47 1.35L5.41 20z\"/>\n",
              "  </svg>\n",
              "      </button>\n",
              "      \n",
              "  <style>\n",
              "    .colab-df-container {\n",
              "      display:flex;\n",
              "      flex-wrap:wrap;\n",
              "      gap: 12px;\n",
              "    }\n",
              "\n",
              "    .colab-df-convert {\n",
              "      background-color: #E8F0FE;\n",
              "      border: none;\n",
              "      border-radius: 50%;\n",
              "      cursor: pointer;\n",
              "      display: none;\n",
              "      fill: #1967D2;\n",
              "      height: 32px;\n",
              "      padding: 0 0 0 0;\n",
              "      width: 32px;\n",
              "    }\n",
              "\n",
              "    .colab-df-convert:hover {\n",
              "      background-color: #E2EBFA;\n",
              "      box-shadow: 0px 1px 2px rgba(60, 64, 67, 0.3), 0px 1px 3px 1px rgba(60, 64, 67, 0.15);\n",
              "      fill: #174EA6;\n",
              "    }\n",
              "\n",
              "    [theme=dark] .colab-df-convert {\n",
              "      background-color: #3B4455;\n",
              "      fill: #D2E3FC;\n",
              "    }\n",
              "\n",
              "    [theme=dark] .colab-df-convert:hover {\n",
              "      background-color: #434B5C;\n",
              "      box-shadow: 0px 1px 3px 1px rgba(0, 0, 0, 0.15);\n",
              "      filter: drop-shadow(0px 1px 2px rgba(0, 0, 0, 0.3));\n",
              "      fill: #FFFFFF;\n",
              "    }\n",
              "  </style>\n",
              "\n",
              "      <script>\n",
              "        const buttonEl =\n",
              "          document.querySelector('#df-e31f62b1-5a9f-482e-9a15-984eeb0e9df7 button.colab-df-convert');\n",
              "        buttonEl.style.display =\n",
              "          google.colab.kernel.accessAllowed ? 'block' : 'none';\n",
              "\n",
              "        async function convertToInteractive(key) {\n",
              "          const element = document.querySelector('#df-e31f62b1-5a9f-482e-9a15-984eeb0e9df7');\n",
              "          const dataTable =\n",
              "            await google.colab.kernel.invokeFunction('convertToInteractive',\n",
              "                                                     [key], {});\n",
              "          if (!dataTable) return;\n",
              "\n",
              "          const docLinkHtml = 'Like what you see? Visit the ' +\n",
              "            '<a target=\"_blank\" href=https://colab.research.google.com/notebooks/data_table.ipynb>data table notebook</a>'\n",
              "            + ' to learn more about interactive tables.';\n",
              "          element.innerHTML = '';\n",
              "          dataTable['output_type'] = 'display_data';\n",
              "          await google.colab.output.renderOutput(dataTable, element);\n",
              "          const docLink = document.createElement('div');\n",
              "          docLink.innerHTML = docLinkHtml;\n",
              "          element.appendChild(docLink);\n",
              "        }\n",
              "      </script>\n",
              "    </div>\n",
              "  </div>\n",
              "  "
            ]
          },
          "metadata": {},
          "execution_count": 81
        }
      ],
      "source": [
        "y_pred_final.head()\n"
      ]
    },
    {
      "cell_type": "code",
      "execution_count": null,
      "metadata": {
        "id": "afE_KklT1H36",
        "outputId": "985c3bb3-79f9-47bf-f902-1f0bd5a1f855",
        "colab": {
          "base_uri": "https://localhost:8080/"
        }
      },
      "outputs": [
        {
          "output_type": "execute_result",
          "data": {
            "text/plain": [
              "0.7492890995260664"
            ]
          },
          "metadata": {},
          "execution_count": 85
        }
      ],
      "source": [
        "#Let's check the overall accuracy now again\n",
        "metrics.accuracy_score(y_pred_final.Churn,y_pred_final.final_pred)\n"
      ]
    },
    {
      "cell_type": "code",
      "execution_count": null,
      "metadata": {
        "id": "PtH9OUDJ1H36",
        "outputId": "c659482c-3330-4af2-ddde-7ef5c15abe06",
        "colab": {
          "base_uri": "https://localhost:8080/"
        }
      },
      "outputs": [
        {
          "output_type": "execute_result",
          "data": {
            "text/plain": [
              "array([[1143,  385],\n",
              "       [ 144,  438]])"
            ]
          },
          "metadata": {},
          "execution_count": 86
        }
      ],
      "source": [
        "metrics.confusion_matrix(y_pred_final.Churn,y_pred_final.final_pred)\n"
      ]
    },
    {
      "cell_type": "code",
      "execution_count": null,
      "metadata": {
        "id": "yDT0XAzt1H38"
      },
      "outputs": [],
      "source": [
        "# Splitting the data into train and test with train_size=0.7 and random_state=100 again\n",
        "\n",
        "X_train, X_test, y_train, y_test = train_test_split(X,y,train_size=0.7,test_size=0.3,random_state=100)\n",
        "\n"
      ]
    },
    {
      "cell_type": "code",
      "execution_count": null,
      "metadata": {
        "id": "dV7RcYtl1H38"
      },
      "outputs": [],
      "source": [
        "#initialise Logistic Regression\n",
        "logs2=LogisticRegression()\n",
        "\n",
        "\n",
        "\n",
        "\n",
        "#fitting model using above columns as input\n",
        "logs2.fit(X_train,y_train)\n",
        "\n",
        "\n",
        "#prediction on test data\n",
        "y_pred =logs2.predict(X_test)\n"
      ]
    },
    {
      "cell_type": "code",
      "execution_count": null,
      "metadata": {
        "id": "kV9n1bDu1H39",
        "outputId": "80434a66-ee94-44bd-c7fd-8287ec42274f",
        "colab": {
          "base_uri": "https://localhost:8080/"
        }
      },
      "outputs": [
        {
          "output_type": "execute_result",
          "data": {
            "text/plain": [
              "array([[1353,  175],\n",
              "       [ 252,  330]])"
            ]
          },
          "metadata": {},
          "execution_count": 91
        }
      ],
      "source": [
        "# print classification_report\n",
        "cm = metrics.confusion_matrix(y_test, y_pred)\n",
        "\n",
        "cm\n"
      ]
    },
    {
      "cell_type": "code",
      "execution_count": null,
      "metadata": {
        "id": "bLDMwQGI1H39",
        "outputId": "b8f7ab98-3e19-4c22-8316-6d3130984dec",
        "colab": {
          "base_uri": "https://localhost:8080/"
        }
      },
      "outputs": [
        {
          "output_type": "execute_result",
          "data": {
            "text/plain": [
              "0.7976303317535545"
            ]
          },
          "metadata": {},
          "execution_count": 92
        }
      ],
      "source": [
        "#print confusion metrix\n",
        "score=logs2.score(X_test, y_test)\n",
        "score"
      ]
    },
    {
      "cell_type": "markdown",
      "metadata": {
        "id": "joJ4wU1u1H4A"
      },
      "source": [
        "_______________________________"
      ]
    }
  ],
  "metadata": {
    "kernelspec": {
      "display_name": "Python 3",
      "language": "python",
      "name": "python3"
    },
    "language_info": {
      "codemirror_mode": {
        "name": "ipython",
        "version": 3
      },
      "file_extension": ".py",
      "mimetype": "text/x-python",
      "name": "python",
      "nbconvert_exporter": "python",
      "pygments_lexer": "ipython3",
      "version": "3.8.5"
    },
    "colab": {
      "provenance": [],
      "collapsed_sections": []
    }
  },
  "nbformat": 4,
  "nbformat_minor": 0
}